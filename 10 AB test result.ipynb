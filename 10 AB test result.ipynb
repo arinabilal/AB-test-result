{
 "cells": [
  {
   "cell_type": "markdown",
   "metadata": {},
   "source": [
    "# Гипотезы для увеличения выручки интернет-магазина"
   ]
  },
  {
   "cell_type": "markdown",
   "metadata": {},
   "source": [
    "**Цель исследования** — проанализировать результаты A/B теста, понять, стоит ли продолжать его или надо остановить.  \n",
    "\n",
    "**Ход исследования**:  \n",
    "\n",
    "Необходимо проанализировать предоставленные данные, составить приоритезацию гипотез методами ICE, RICE, проанализировать результаты теста A/B.\n",
    "\n",
    "Таким образом, исследование пройдёт в три **этапа**:  \n",
    "\n",
    "1. Обзор, предобработка данных и приоритезация гипотез; \n",
    "2. Анализ данных проведённого A/B теста;  \n",
    "3. Вывод и рекомендации по произведённому анализу."
   ]
  },
  {
   "cell_type": "markdown",
   "metadata": {},
   "source": [
    "## Приоритезация гипотез"
   ]
  },
  {
   "cell_type": "markdown",
   "metadata": {},
   "source": [
    "Для начала импортируем необходимые библиотеки:"
   ]
  },
  {
   "cell_type": "code",
   "execution_count": 1,
   "metadata": {},
   "outputs": [],
   "source": [
    "import pandas as pd\n",
    "import matplotlib.pyplot as plt\n",
    "import scipy.stats as stats\n",
    "import datetime as dt\n",
    "import numpy as np"
   ]
  },
  {
   "cell_type": "markdown",
   "metadata": {},
   "source": [
    "Выгрузим датафрейм для ознакомления с данными:"
   ]
  },
  {
   "cell_type": "code",
   "execution_count": 2,
   "metadata": {
    "scrolled": true
   },
   "outputs": [
    {
     "data": {
      "text/html": [
       "<div>\n",
       "<style scoped>\n",
       "    .dataframe tbody tr th:only-of-type {\n",
       "        vertical-align: middle;\n",
       "    }\n",
       "\n",
       "    .dataframe tbody tr th {\n",
       "        vertical-align: top;\n",
       "    }\n",
       "\n",
       "    .dataframe thead th {\n",
       "        text-align: right;\n",
       "    }\n",
       "</style>\n",
       "<table border=\"1\" class=\"dataframe\">\n",
       "  <thead>\n",
       "    <tr style=\"text-align: right;\">\n",
       "      <th></th>\n",
       "      <th>Hypothesis</th>\n",
       "      <th>Reach</th>\n",
       "      <th>Impact</th>\n",
       "      <th>Confidence</th>\n",
       "      <th>Efforts</th>\n",
       "    </tr>\n",
       "  </thead>\n",
       "  <tbody>\n",
       "    <tr>\n",
       "      <th>0</th>\n",
       "      <td>Добавить два новых канала привлечения трафика,...</td>\n",
       "      <td>3</td>\n",
       "      <td>10</td>\n",
       "      <td>8</td>\n",
       "      <td>6</td>\n",
       "    </tr>\n",
       "    <tr>\n",
       "      <th>1</th>\n",
       "      <td>Запустить собственную службу доставки, что сок...</td>\n",
       "      <td>2</td>\n",
       "      <td>5</td>\n",
       "      <td>4</td>\n",
       "      <td>10</td>\n",
       "    </tr>\n",
       "    <tr>\n",
       "      <th>2</th>\n",
       "      <td>Добавить блоки рекомендаций товаров на сайт ин...</td>\n",
       "      <td>8</td>\n",
       "      <td>3</td>\n",
       "      <td>7</td>\n",
       "      <td>3</td>\n",
       "    </tr>\n",
       "    <tr>\n",
       "      <th>3</th>\n",
       "      <td>Изменить структура категорий, что увеличит кон...</td>\n",
       "      <td>8</td>\n",
       "      <td>3</td>\n",
       "      <td>3</td>\n",
       "      <td>8</td>\n",
       "    </tr>\n",
       "    <tr>\n",
       "      <th>4</th>\n",
       "      <td>Изменить цвет фона главной страницы, чтобы уве...</td>\n",
       "      <td>3</td>\n",
       "      <td>1</td>\n",
       "      <td>1</td>\n",
       "      <td>1</td>\n",
       "    </tr>\n",
       "    <tr>\n",
       "      <th>5</th>\n",
       "      <td>Добавить страницу отзывов клиентов о магазине,...</td>\n",
       "      <td>3</td>\n",
       "      <td>2</td>\n",
       "      <td>2</td>\n",
       "      <td>3</td>\n",
       "    </tr>\n",
       "    <tr>\n",
       "      <th>6</th>\n",
       "      <td>Показать на главной странице баннеры с актуаль...</td>\n",
       "      <td>5</td>\n",
       "      <td>3</td>\n",
       "      <td>8</td>\n",
       "      <td>3</td>\n",
       "    </tr>\n",
       "    <tr>\n",
       "      <th>7</th>\n",
       "      <td>Добавить форму подписки на все основные страни...</td>\n",
       "      <td>10</td>\n",
       "      <td>7</td>\n",
       "      <td>8</td>\n",
       "      <td>5</td>\n",
       "    </tr>\n",
       "    <tr>\n",
       "      <th>8</th>\n",
       "      <td>Запустить акцию, дающую скидку на товар в день...</td>\n",
       "      <td>1</td>\n",
       "      <td>9</td>\n",
       "      <td>9</td>\n",
       "      <td>5</td>\n",
       "    </tr>\n",
       "  </tbody>\n",
       "</table>\n",
       "</div>"
      ],
      "text/plain": [
       "                                          Hypothesis  Reach  Impact  \\\n",
       "0  Добавить два новых канала привлечения трафика,...      3      10   \n",
       "1  Запустить собственную службу доставки, что сок...      2       5   \n",
       "2  Добавить блоки рекомендаций товаров на сайт ин...      8       3   \n",
       "3  Изменить структура категорий, что увеличит кон...      8       3   \n",
       "4  Изменить цвет фона главной страницы, чтобы уве...      3       1   \n",
       "5  Добавить страницу отзывов клиентов о магазине,...      3       2   \n",
       "6  Показать на главной странице баннеры с актуаль...      5       3   \n",
       "7  Добавить форму подписки на все основные страни...     10       7   \n",
       "8  Запустить акцию, дающую скидку на товар в день...      1       9   \n",
       "\n",
       "   Confidence  Efforts  \n",
       "0           8        6  \n",
       "1           4       10  \n",
       "2           7        3  \n",
       "3           3        8  \n",
       "4           1        1  \n",
       "5           2        3  \n",
       "6           8        3  \n",
       "7           8        5  \n",
       "8           9        5  "
      ]
     },
     "metadata": {},
     "output_type": "display_data"
    }
   ],
   "source": [
    "df = pd.read_csv('/datasets/hypothesis.csv')\n",
    "display (df)\n",
    "pd.set_option('display.max_colwidth', None)"
   ]
  },
  {
   "cell_type": "markdown",
   "metadata": {},
   "source": [
    "Проверим датафрейм на типы данных, также на пустые значения:"
   ]
  },
  {
   "cell_type": "code",
   "execution_count": 3,
   "metadata": {
    "scrolled": false
   },
   "outputs": [
    {
     "name": "stdout",
     "output_type": "stream",
     "text": [
      "<class 'pandas.core.frame.DataFrame'>\n",
      "RangeIndex: 9 entries, 0 to 8\n",
      "Data columns (total 5 columns):\n",
      " #   Column      Non-Null Count  Dtype \n",
      "---  ------      --------------  ----- \n",
      " 0   Hypothesis  9 non-null      object\n",
      " 1   Reach       9 non-null      int64 \n",
      " 2   Impact      9 non-null      int64 \n",
      " 3   Confidence  9 non-null      int64 \n",
      " 4   Efforts     9 non-null      int64 \n",
      "dtypes: int64(4), object(1)\n",
      "memory usage: 488.0+ bytes\n"
     ]
    }
   ],
   "source": [
    "df.info()"
   ]
  },
  {
   "cell_type": "code",
   "execution_count": 4,
   "metadata": {},
   "outputs": [
    {
     "name": "stdout",
     "output_type": "stream",
     "text": [
      "Количество пустых значений:\n",
      "Hypothesis    0\n",
      "Reach         0\n",
      "Impact        0\n",
      "Confidence    0\n",
      "Efforts       0\n",
      "dtype: int64\n",
      "Количество дубликатов: 0\n"
     ]
    }
   ],
   "source": [
    "print ('Количество пустых значений:')\n",
    "print (df.isna().sum())\n",
    "print ('Количество дубликатов:', df.duplicated().sum())"
   ]
  },
  {
   "cell_type": "markdown",
   "metadata": {},
   "source": [
    "Данные качественные, без пропусков, без дубликатов. Можно переходить к следующему этапу - приоритезации гипотез."
   ]
  },
  {
   "cell_type": "markdown",
   "metadata": {},
   "source": [
    " "
   ]
  },
  {
   "cell_type": "markdown",
   "metadata": {},
   "source": [
    "Применим фреймворк ICE для приоритезации гипотез, результаты отсортируем по убыванию:"
   ]
  },
  {
   "cell_type": "markdown",
   "metadata": {},
   "source": [
    "$$ICE = \\frac{Impact * Confidence}{Efforts}$$"
   ]
  },
  {
   "cell_type": "code",
   "execution_count": 5,
   "metadata": {},
   "outputs": [],
   "source": [
    "df['ICE'] = df['Impact']*df['Confidence']/df['Efforts']"
   ]
  },
  {
   "cell_type": "code",
   "execution_count": 6,
   "metadata": {},
   "outputs": [
    {
     "data": {
      "text/html": [
       "<div>\n",
       "<style scoped>\n",
       "    .dataframe tbody tr th:only-of-type {\n",
       "        vertical-align: middle;\n",
       "    }\n",
       "\n",
       "    .dataframe tbody tr th {\n",
       "        vertical-align: top;\n",
       "    }\n",
       "\n",
       "    .dataframe thead th {\n",
       "        text-align: right;\n",
       "    }\n",
       "</style>\n",
       "<table border=\"1\" class=\"dataframe\">\n",
       "  <thead>\n",
       "    <tr style=\"text-align: right;\">\n",
       "      <th></th>\n",
       "      <th>Hypothesis</th>\n",
       "      <th>Reach</th>\n",
       "      <th>Impact</th>\n",
       "      <th>Confidence</th>\n",
       "      <th>Efforts</th>\n",
       "      <th>ICE</th>\n",
       "    </tr>\n",
       "  </thead>\n",
       "  <tbody>\n",
       "    <tr>\n",
       "      <th>8</th>\n",
       "      <td>Запустить акцию, дающую скидку на товар в день рождения</td>\n",
       "      <td>1</td>\n",
       "      <td>9</td>\n",
       "      <td>9</td>\n",
       "      <td>5</td>\n",
       "      <td>16.200000</td>\n",
       "    </tr>\n",
       "    <tr>\n",
       "      <th>0</th>\n",
       "      <td>Добавить два новых канала привлечения трафика, что позволит привлекать на 30% больше пользователей</td>\n",
       "      <td>3</td>\n",
       "      <td>10</td>\n",
       "      <td>8</td>\n",
       "      <td>6</td>\n",
       "      <td>13.333333</td>\n",
       "    </tr>\n",
       "    <tr>\n",
       "      <th>7</th>\n",
       "      <td>Добавить форму подписки на все основные страницы, чтобы собрать базу клиентов для email-рассылок</td>\n",
       "      <td>10</td>\n",
       "      <td>7</td>\n",
       "      <td>8</td>\n",
       "      <td>5</td>\n",
       "      <td>11.200000</td>\n",
       "    </tr>\n",
       "    <tr>\n",
       "      <th>6</th>\n",
       "      <td>Показать на главной странице баннеры с актуальными акциями и распродажами, чтобы увеличить конверсию</td>\n",
       "      <td>5</td>\n",
       "      <td>3</td>\n",
       "      <td>8</td>\n",
       "      <td>3</td>\n",
       "      <td>8.000000</td>\n",
       "    </tr>\n",
       "    <tr>\n",
       "      <th>2</th>\n",
       "      <td>Добавить блоки рекомендаций товаров на сайт интернет магазина, чтобы повысить конверсию и средний чек заказа</td>\n",
       "      <td>8</td>\n",
       "      <td>3</td>\n",
       "      <td>7</td>\n",
       "      <td>3</td>\n",
       "      <td>7.000000</td>\n",
       "    </tr>\n",
       "    <tr>\n",
       "      <th>1</th>\n",
       "      <td>Запустить собственную службу доставки, что сократит срок доставки заказов</td>\n",
       "      <td>2</td>\n",
       "      <td>5</td>\n",
       "      <td>4</td>\n",
       "      <td>10</td>\n",
       "      <td>2.000000</td>\n",
       "    </tr>\n",
       "    <tr>\n",
       "      <th>5</th>\n",
       "      <td>Добавить страницу отзывов клиентов о магазине, что позволит увеличить количество заказов</td>\n",
       "      <td>3</td>\n",
       "      <td>2</td>\n",
       "      <td>2</td>\n",
       "      <td>3</td>\n",
       "      <td>1.333333</td>\n",
       "    </tr>\n",
       "    <tr>\n",
       "      <th>3</th>\n",
       "      <td>Изменить структура категорий, что увеличит конверсию, т.к. пользователи быстрее найдут нужный товар</td>\n",
       "      <td>8</td>\n",
       "      <td>3</td>\n",
       "      <td>3</td>\n",
       "      <td>8</td>\n",
       "      <td>1.125000</td>\n",
       "    </tr>\n",
       "    <tr>\n",
       "      <th>4</th>\n",
       "      <td>Изменить цвет фона главной страницы, чтобы увеличить вовлеченность пользователей</td>\n",
       "      <td>3</td>\n",
       "      <td>1</td>\n",
       "      <td>1</td>\n",
       "      <td>1</td>\n",
       "      <td>1.000000</td>\n",
       "    </tr>\n",
       "  </tbody>\n",
       "</table>\n",
       "</div>"
      ],
      "text/plain": [
       "                                                                                                     Hypothesis  \\\n",
       "8                                                       Запустить акцию, дающую скидку на товар в день рождения   \n",
       "0            Добавить два новых канала привлечения трафика, что позволит привлекать на 30% больше пользователей   \n",
       "7              Добавить форму подписки на все основные страницы, чтобы собрать базу клиентов для email-рассылок   \n",
       "6          Показать на главной странице баннеры с актуальными акциями и распродажами, чтобы увеличить конверсию   \n",
       "2  Добавить блоки рекомендаций товаров на сайт интернет магазина, чтобы повысить конверсию и средний чек заказа   \n",
       "1                                     Запустить собственную службу доставки, что сократит срок доставки заказов   \n",
       "5                      Добавить страницу отзывов клиентов о магазине, что позволит увеличить количество заказов   \n",
       "3           Изменить структура категорий, что увеличит конверсию, т.к. пользователи быстрее найдут нужный товар   \n",
       "4                              Изменить цвет фона главной страницы, чтобы увеличить вовлеченность пользователей   \n",
       "\n",
       "   Reach  Impact  Confidence  Efforts        ICE  \n",
       "8      1       9           9        5  16.200000  \n",
       "0      3      10           8        6  13.333333  \n",
       "7     10       7           8        5  11.200000  \n",
       "6      5       3           8        3   8.000000  \n",
       "2      8       3           7        3   7.000000  \n",
       "1      2       5           4       10   2.000000  \n",
       "5      3       2           2        3   1.333333  \n",
       "3      8       3           3        8   1.125000  \n",
       "4      3       1           1        1   1.000000  "
      ]
     },
     "metadata": {},
     "output_type": "display_data"
    }
   ],
   "source": [
    "display (df.sort_values('ICE', ascending=False))"
   ]
  },
  {
   "cell_type": "markdown",
   "metadata": {},
   "source": [
    "Следует посмотреть, как изменится порядок, если мы применим RICE, который в отличие от ICE, учитывает кол-во пользователей, которых затронет наше изменение."
   ]
  },
  {
   "cell_type": "markdown",
   "metadata": {},
   "source": [
    "$$RICE = \\frac{Rearch * Impact * Confidence}{Efforts}$$"
   ]
  },
  {
   "cell_type": "code",
   "execution_count": 7,
   "metadata": {},
   "outputs": [],
   "source": [
    "df['RICE'] = df['Reach']*df['Impact']*df['Confidence']/df['Efforts']"
   ]
  },
  {
   "cell_type": "code",
   "execution_count": 8,
   "metadata": {},
   "outputs": [
    {
     "data": {
      "text/html": [
       "<div>\n",
       "<style scoped>\n",
       "    .dataframe tbody tr th:only-of-type {\n",
       "        vertical-align: middle;\n",
       "    }\n",
       "\n",
       "    .dataframe tbody tr th {\n",
       "        vertical-align: top;\n",
       "    }\n",
       "\n",
       "    .dataframe thead th {\n",
       "        text-align: right;\n",
       "    }\n",
       "</style>\n",
       "<table border=\"1\" class=\"dataframe\">\n",
       "  <thead>\n",
       "    <tr style=\"text-align: right;\">\n",
       "      <th></th>\n",
       "      <th>Hypothesis</th>\n",
       "      <th>Reach</th>\n",
       "      <th>Impact</th>\n",
       "      <th>Confidence</th>\n",
       "      <th>Efforts</th>\n",
       "      <th>ICE</th>\n",
       "      <th>RICE</th>\n",
       "    </tr>\n",
       "  </thead>\n",
       "  <tbody>\n",
       "    <tr>\n",
       "      <th>7</th>\n",
       "      <td>Добавить форму подписки на все основные страницы, чтобы собрать базу клиентов для email-рассылок</td>\n",
       "      <td>10</td>\n",
       "      <td>7</td>\n",
       "      <td>8</td>\n",
       "      <td>5</td>\n",
       "      <td>11.200000</td>\n",
       "      <td>112.0</td>\n",
       "    </tr>\n",
       "    <tr>\n",
       "      <th>2</th>\n",
       "      <td>Добавить блоки рекомендаций товаров на сайт интернет магазина, чтобы повысить конверсию и средний чек заказа</td>\n",
       "      <td>8</td>\n",
       "      <td>3</td>\n",
       "      <td>7</td>\n",
       "      <td>3</td>\n",
       "      <td>7.000000</td>\n",
       "      <td>56.0</td>\n",
       "    </tr>\n",
       "    <tr>\n",
       "      <th>0</th>\n",
       "      <td>Добавить два новых канала привлечения трафика, что позволит привлекать на 30% больше пользователей</td>\n",
       "      <td>3</td>\n",
       "      <td>10</td>\n",
       "      <td>8</td>\n",
       "      <td>6</td>\n",
       "      <td>13.333333</td>\n",
       "      <td>40.0</td>\n",
       "    </tr>\n",
       "    <tr>\n",
       "      <th>6</th>\n",
       "      <td>Показать на главной странице баннеры с актуальными акциями и распродажами, чтобы увеличить конверсию</td>\n",
       "      <td>5</td>\n",
       "      <td>3</td>\n",
       "      <td>8</td>\n",
       "      <td>3</td>\n",
       "      <td>8.000000</td>\n",
       "      <td>40.0</td>\n",
       "    </tr>\n",
       "    <tr>\n",
       "      <th>8</th>\n",
       "      <td>Запустить акцию, дающую скидку на товар в день рождения</td>\n",
       "      <td>1</td>\n",
       "      <td>9</td>\n",
       "      <td>9</td>\n",
       "      <td>5</td>\n",
       "      <td>16.200000</td>\n",
       "      <td>16.2</td>\n",
       "    </tr>\n",
       "    <tr>\n",
       "      <th>3</th>\n",
       "      <td>Изменить структура категорий, что увеличит конверсию, т.к. пользователи быстрее найдут нужный товар</td>\n",
       "      <td>8</td>\n",
       "      <td>3</td>\n",
       "      <td>3</td>\n",
       "      <td>8</td>\n",
       "      <td>1.125000</td>\n",
       "      <td>9.0</td>\n",
       "    </tr>\n",
       "    <tr>\n",
       "      <th>1</th>\n",
       "      <td>Запустить собственную службу доставки, что сократит срок доставки заказов</td>\n",
       "      <td>2</td>\n",
       "      <td>5</td>\n",
       "      <td>4</td>\n",
       "      <td>10</td>\n",
       "      <td>2.000000</td>\n",
       "      <td>4.0</td>\n",
       "    </tr>\n",
       "    <tr>\n",
       "      <th>5</th>\n",
       "      <td>Добавить страницу отзывов клиентов о магазине, что позволит увеличить количество заказов</td>\n",
       "      <td>3</td>\n",
       "      <td>2</td>\n",
       "      <td>2</td>\n",
       "      <td>3</td>\n",
       "      <td>1.333333</td>\n",
       "      <td>4.0</td>\n",
       "    </tr>\n",
       "    <tr>\n",
       "      <th>4</th>\n",
       "      <td>Изменить цвет фона главной страницы, чтобы увеличить вовлеченность пользователей</td>\n",
       "      <td>3</td>\n",
       "      <td>1</td>\n",
       "      <td>1</td>\n",
       "      <td>1</td>\n",
       "      <td>1.000000</td>\n",
       "      <td>3.0</td>\n",
       "    </tr>\n",
       "  </tbody>\n",
       "</table>\n",
       "</div>"
      ],
      "text/plain": [
       "                                                                                                     Hypothesis  \\\n",
       "7              Добавить форму подписки на все основные страницы, чтобы собрать базу клиентов для email-рассылок   \n",
       "2  Добавить блоки рекомендаций товаров на сайт интернет магазина, чтобы повысить конверсию и средний чек заказа   \n",
       "0            Добавить два новых канала привлечения трафика, что позволит привлекать на 30% больше пользователей   \n",
       "6          Показать на главной странице баннеры с актуальными акциями и распродажами, чтобы увеличить конверсию   \n",
       "8                                                       Запустить акцию, дающую скидку на товар в день рождения   \n",
       "3           Изменить структура категорий, что увеличит конверсию, т.к. пользователи быстрее найдут нужный товар   \n",
       "1                                     Запустить собственную службу доставки, что сократит срок доставки заказов   \n",
       "5                      Добавить страницу отзывов клиентов о магазине, что позволит увеличить количество заказов   \n",
       "4                              Изменить цвет фона главной страницы, чтобы увеличить вовлеченность пользователей   \n",
       "\n",
       "   Reach  Impact  Confidence  Efforts        ICE   RICE  \n",
       "7     10       7           8        5  11.200000  112.0  \n",
       "2      8       3           7        3   7.000000   56.0  \n",
       "0      3      10           8        6  13.333333   40.0  \n",
       "6      5       3           8        3   8.000000   40.0  \n",
       "8      1       9           9        5  16.200000   16.2  \n",
       "3      8       3           3        8   1.125000    9.0  \n",
       "1      2       5           4       10   2.000000    4.0  \n",
       "5      3       2           2        3   1.333333    4.0  \n",
       "4      3       1           1        1   1.000000    3.0  "
      ]
     },
     "metadata": {},
     "output_type": "display_data"
    }
   ],
   "source": [
    "display (df.sort_values('RICE', ascending=False))"
   ]
  },
  {
   "cell_type": "markdown",
   "metadata": {},
   "source": [
    "Можно заметить, что при применении метода ICE в первую тройку вошли следующие гипотезы в порядке убывания:  \n",
    "* Запустить акцию, дающую скидку на товар в день рождения;  \n",
    "* Добавить два новых канала привлечения трафика, что позволит привлекать на 30% больше пользователей;  \n",
    "* Добавить форму подписки на все основные страницы, чтобы собрать базу клиентов для email-рассылок.  \n",
    "\n",
    "Однако если использовать RICE, который учитывает кол-во пользователей, которых затронет наше изменение, видно, что приоритезация изменилась.  \n",
    "Теперь гипотеза о скидке в день рождения, находящаяся на первом месте, сместилась на 5 строку. Гипотеза о двух новых каналах привлечения попала на второе место, в то время как добавление формы подписки встала на первой строке. Также 2 гипотеза оказалась на втором месте, хотя ранее была на пятом, гипотеза - добавить блоки рекомендаций товаров на сайт интернет магазина, чтобы повысить конверсию и средний чек заказа"
   ]
  },
  {
   "cell_type": "markdown",
   "metadata": {},
   "source": [
    "Для наглядности построим график приоритезации гипотез:"
   ]
  },
  {
   "cell_type": "code",
   "execution_count": 9,
   "metadata": {},
   "outputs": [
    {
     "data": {
      "image/png": "[encoded data removed]",
      "text/plain": [
       "<Figure size 720x720 with 1 Axes>"
      ]
     },
     "metadata": {
      "needs_background": "light"
     },
     "output_type": "display_data"
    }
   ],
   "source": [
    "y = df['ICE'] \n",
    "z = df['RICE'] \n",
    "n = df.index \n",
    "\n",
    "fig, ax = plt.subplots()\n",
    "ax.scatter(z, y)\n",
    "\n",
    "for i, txt in enumerate(n):\n",
    "    ax.annotate(txt, (z[i], y[i]), size=18)\n",
    "\n",
    "plt.title(\"Приоритезация гипотез через методы ICE и RICE\") \n",
    "plt.xlabel(\"RICE\") \n",
    "plt.ylabel(\"ICE\")\n",
    "\n",
    "fig.set_figheight(10)\n",
    "fig.set_figwidth(10) \n",
    "plt.show()  "
   ]
  },
  {
   "cell_type": "markdown",
   "metadata": {},
   "source": [
    "## Анализ A/B теста"
   ]
  },
  {
   "cell_type": "markdown",
   "metadata": {},
   "source": [
    "Перед непосредственным анализом откроем датафреймы для проверки качества данных:"
   ]
  },
  {
   "cell_type": "code",
   "execution_count": 10,
   "metadata": {
    "scrolled": true
   },
   "outputs": [
    {
     "data": {
      "text/html": [
       "<div>\n",
       "<style scoped>\n",
       "    .dataframe tbody tr th:only-of-type {\n",
       "        vertical-align: middle;\n",
       "    }\n",
       "\n",
       "    .dataframe tbody tr th {\n",
       "        vertical-align: top;\n",
       "    }\n",
       "\n",
       "    .dataframe thead th {\n",
       "        text-align: right;\n",
       "    }\n",
       "</style>\n",
       "<table border=\"1\" class=\"dataframe\">\n",
       "  <thead>\n",
       "    <tr style=\"text-align: right;\">\n",
       "      <th></th>\n",
       "      <th>transactionId</th>\n",
       "      <th>visitorId</th>\n",
       "      <th>date</th>\n",
       "      <th>revenue</th>\n",
       "      <th>group</th>\n",
       "    </tr>\n",
       "  </thead>\n",
       "  <tbody>\n",
       "    <tr>\n",
       "      <th>0</th>\n",
       "      <td>3667963787</td>\n",
       "      <td>3312258926</td>\n",
       "      <td>2019-08-15</td>\n",
       "      <td>1650</td>\n",
       "      <td>B</td>\n",
       "    </tr>\n",
       "    <tr>\n",
       "      <th>1</th>\n",
       "      <td>2804400009</td>\n",
       "      <td>3642806036</td>\n",
       "      <td>2019-08-15</td>\n",
       "      <td>730</td>\n",
       "      <td>B</td>\n",
       "    </tr>\n",
       "    <tr>\n",
       "      <th>2</th>\n",
       "      <td>2961555356</td>\n",
       "      <td>4069496402</td>\n",
       "      <td>2019-08-15</td>\n",
       "      <td>400</td>\n",
       "      <td>A</td>\n",
       "    </tr>\n",
       "    <tr>\n",
       "      <th>3</th>\n",
       "      <td>3797467345</td>\n",
       "      <td>1196621759</td>\n",
       "      <td>2019-08-15</td>\n",
       "      <td>9759</td>\n",
       "      <td>B</td>\n",
       "    </tr>\n",
       "    <tr>\n",
       "      <th>4</th>\n",
       "      <td>2282983706</td>\n",
       "      <td>2322279887</td>\n",
       "      <td>2019-08-15</td>\n",
       "      <td>2308</td>\n",
       "      <td>B</td>\n",
       "    </tr>\n",
       "  </tbody>\n",
       "</table>\n",
       "</div>"
      ],
      "text/plain": [
       "   transactionId   visitorId        date  revenue group\n",
       "0     3667963787  3312258926  2019-08-15     1650     B\n",
       "1     2804400009  3642806036  2019-08-15      730     B\n",
       "2     2961555356  4069496402  2019-08-15      400     A\n",
       "3     3797467345  1196621759  2019-08-15     9759     B\n",
       "4     2282983706  2322279887  2019-08-15     2308     B"
      ]
     },
     "metadata": {},
     "output_type": "display_data"
    },
    {
     "data": {
      "text/html": [
       "<div>\n",
       "<style scoped>\n",
       "    .dataframe tbody tr th:only-of-type {\n",
       "        vertical-align: middle;\n",
       "    }\n",
       "\n",
       "    .dataframe tbody tr th {\n",
       "        vertical-align: top;\n",
       "    }\n",
       "\n",
       "    .dataframe thead th {\n",
       "        text-align: right;\n",
       "    }\n",
       "</style>\n",
       "<table border=\"1\" class=\"dataframe\">\n",
       "  <thead>\n",
       "    <tr style=\"text-align: right;\">\n",
       "      <th></th>\n",
       "      <th>date</th>\n",
       "      <th>group</th>\n",
       "      <th>visitors</th>\n",
       "    </tr>\n",
       "  </thead>\n",
       "  <tbody>\n",
       "    <tr>\n",
       "      <th>0</th>\n",
       "      <td>2019-08-01</td>\n",
       "      <td>A</td>\n",
       "      <td>719</td>\n",
       "    </tr>\n",
       "    <tr>\n",
       "      <th>1</th>\n",
       "      <td>2019-08-02</td>\n",
       "      <td>A</td>\n",
       "      <td>619</td>\n",
       "    </tr>\n",
       "    <tr>\n",
       "      <th>2</th>\n",
       "      <td>2019-08-03</td>\n",
       "      <td>A</td>\n",
       "      <td>507</td>\n",
       "    </tr>\n",
       "    <tr>\n",
       "      <th>3</th>\n",
       "      <td>2019-08-04</td>\n",
       "      <td>A</td>\n",
       "      <td>717</td>\n",
       "    </tr>\n",
       "    <tr>\n",
       "      <th>4</th>\n",
       "      <td>2019-08-05</td>\n",
       "      <td>A</td>\n",
       "      <td>756</td>\n",
       "    </tr>\n",
       "  </tbody>\n",
       "</table>\n",
       "</div>"
      ],
      "text/plain": [
       "         date group  visitors\n",
       "0  2019-08-01     A       719\n",
       "1  2019-08-02     A       619\n",
       "2  2019-08-03     A       507\n",
       "3  2019-08-04     A       717\n",
       "4  2019-08-05     A       756"
      ]
     },
     "metadata": {},
     "output_type": "display_data"
    }
   ],
   "source": [
    "orders = pd.read_csv('/datasets/orders.csv')\n",
    "display (orders.head())\n",
    "\n",
    "visitors = pd.read_csv('/datasets/visitors.csv')\n",
    "display (visitors.head())"
   ]
  },
  {
   "cell_type": "markdown",
   "metadata": {},
   "source": [
    "Взглянем на основную информацию по датафреймам, в т.ч. на типы данных в колонках:"
   ]
  },
  {
   "cell_type": "code",
   "execution_count": 11,
   "metadata": {},
   "outputs": [
    {
     "name": "stdout",
     "output_type": "stream",
     "text": [
      "<class 'pandas.core.frame.DataFrame'>\n",
      "RangeIndex: 1197 entries, 0 to 1196\n",
      "Data columns (total 5 columns):\n",
      " #   Column         Non-Null Count  Dtype \n",
      "---  ------         --------------  ----- \n",
      " 0   transactionId  1197 non-null   int64 \n",
      " 1   visitorId      1197 non-null   int64 \n",
      " 2   date           1197 non-null   object\n",
      " 3   revenue        1197 non-null   int64 \n",
      " 4   group          1197 non-null   object\n",
      "dtypes: int64(3), object(2)\n",
      "memory usage: 46.9+ KB\n"
     ]
    }
   ],
   "source": [
    "orders.info()"
   ]
  },
  {
   "cell_type": "code",
   "execution_count": 12,
   "metadata": {},
   "outputs": [
    {
     "name": "stdout",
     "output_type": "stream",
     "text": [
      "<class 'pandas.core.frame.DataFrame'>\n",
      "RangeIndex: 62 entries, 0 to 61\n",
      "Data columns (total 3 columns):\n",
      " #   Column    Non-Null Count  Dtype \n",
      "---  ------    --------------  ----- \n",
      " 0   date      62 non-null     object\n",
      " 1   group     62 non-null     object\n",
      " 2   visitors  62 non-null     int64 \n",
      "dtypes: int64(1), object(2)\n",
      "memory usage: 1.6+ KB\n"
     ]
    }
   ],
   "source": [
    "visitors.info()"
   ]
  },
  {
   "cell_type": "markdown",
   "metadata": {},
   "source": [
    "Изучим датафреймы на наличие дубликатов и пустых значений:"
   ]
  },
  {
   "cell_type": "code",
   "execution_count": 13,
   "metadata": {},
   "outputs": [
    {
     "name": "stdout",
     "output_type": "stream",
     "text": [
      "Количество пустых значений в orders:\n",
      "transactionId    0\n",
      "visitorId        0\n",
      "date             0\n",
      "revenue          0\n",
      "group            0\n",
      "dtype: int64\n",
      "Количество дубликатов в orders: 0\n"
     ]
    }
   ],
   "source": [
    "print ('Количество пустых значений в orders:')\n",
    "print (orders.isna().sum())\n",
    "print ('Количество дубликатов в orders:', orders.duplicated().sum())"
   ]
  },
  {
   "cell_type": "code",
   "execution_count": 14,
   "metadata": {},
   "outputs": [
    {
     "name": "stdout",
     "output_type": "stream",
     "text": [
      "Количество пустых значений в visitors:\n",
      "date        0\n",
      "group       0\n",
      "visitors    0\n",
      "dtype: int64\n",
      "Количество дубликатов в visitors: 0\n"
     ]
    }
   ],
   "source": [
    "print ('Количество пустых значений в visitors:')\n",
    "print (visitors.isna().sum())\n",
    "print ('Количество дубликатов в visitors:', visitors.duplicated().sum())"
   ]
  },
  {
   "cell_type": "markdown",
   "metadata": {},
   "source": [
    "Отлично, данные являются качественными, без дубликатов и пропущенных значений. Можно приступать к анализу."
   ]
  },
  {
   "cell_type": "markdown",
   "metadata": {},
   "source": [
    "Добавим информацию для дальнейшего анализа"
   ]
  },
  {
   "cell_type": "markdown",
   "metadata": {},
   "source": [
    "Для начала посмотрим, какие группы присутствуют в тесте, а также сроки проведения эксперимента:"
   ]
  },
  {
   "cell_type": "code",
   "execution_count": 15,
   "metadata": {
    "scrolled": true
   },
   "outputs": [
    {
     "name": "stdout",
     "output_type": "stream",
     "text": [
      "Группы в A/B тесте:  ['B' 'A']\n",
      "Дата начала эксперимента:  2019-08-01\n",
      "Дата окончания эксперимента:  2019-08-31\n"
     ]
    }
   ],
   "source": [
    "print ('Группы в A/B тесте: ', orders['group'].unique())\n",
    "print ('Дата начала эксперимента: ',orders['date'].min())\n",
    "print ('Дата окончания эксперимента: ',orders['date'].max())\n"
   ]
  },
  {
   "cell_type": "markdown",
   "metadata": {},
   "source": [
    "Проверим, сколько пользователей ннаходится в группе А, и в группе В:\n"
   ]
  },
  {
   "cell_type": "code",
   "execution_count": 16,
   "metadata": {},
   "outputs": [
    {
     "name": "stdout",
     "output_type": "stream",
     "text": [
      "557\n",
      "    transactionId   visitorId        date  revenue group\n",
      "2      2961555356  4069496402  2019-08-15      400     A\n",
      "7      2626614568    78758296  2019-08-15     1044     A\n",
      "8      1576988021   295230930  2019-08-15    13710     A\n",
      "10     3649131742   879864040  2019-08-15     4008     A\n",
      "12     2809384911  3213223594  2019-08-15     7370     A\n"
     ]
    }
   ],
   "source": [
    "ordersA = orders[orders['group']=='A']\n",
    "print (len(ordersA))\n",
    "print (ordersA.head())"
   ]
  },
  {
   "cell_type": "code",
   "execution_count": 41,
   "metadata": {},
   "outputs": [
    {
     "name": "stdout",
     "output_type": "stream",
     "text": [
      "0       3312258926\n",
      "1       3642806036\n",
      "3       1196621759\n",
      "4       2322279887\n",
      "5        935554773\n",
      "           ...    \n",
      "1189     393266494\n",
      "1190    1197745035\n",
      "1191     608641596\n",
      "1192    3733762160\n",
      "1196    2108080724\n",
      "Name: visitorId, Length: 640, dtype: int64\n",
      "640\n"
     ]
    }
   ],
   "source": [
    "ordersB = orders[orders['group']=='B']['visitorId']\n",
    "print (ordersB)\n",
    "print (len(ordersB))"
   ]
  },
  {
   "cell_type": "markdown",
   "metadata": {},
   "source": [
    "Проверим, сколько посещений было в каждой группе:"
   ]
  },
  {
   "cell_type": "code",
   "execution_count": 18,
   "metadata": {
    "scrolled": true
   },
   "outputs": [
    {
     "name": "stdout",
     "output_type": "stream",
     "text": [
      "31\n"
     ]
    }
   ],
   "source": [
    "visitsA = visitors[visitors['group']=='A']\n",
    "print (visitsA['visitors'].count())"
   ]
  },
  {
   "cell_type": "code",
   "execution_count": 19,
   "metadata": {},
   "outputs": [
    {
     "name": "stdout",
     "output_type": "stream",
     "text": [
      "31\n"
     ]
    }
   ],
   "source": [
    "visitsB = visitors[visitors['group']=='B']\n",
    "print (visitsB['visitors'].count())"
   ]
  },
  {
   "cell_type": "markdown",
   "metadata": {},
   "source": [
    "Проверим, есть ли пользователи, которые входят как в группу А, так и в группу В:"
   ]
  },
  {
   "cell_type": "code",
   "execution_count": 20,
   "metadata": {
    "scrolled": false
   },
   "outputs": [
    {
     "name": "stdout",
     "output_type": "stream",
     "text": [
      "Пользователи, присутствующие и в группе А, и в группе В:  89\n"
     ]
    }
   ],
   "source": [
    "double_visitors = ordersA.query('visitorId in @ordersB')['visitorId']\n",
    "print ('Пользователи, присутствующие и в группе А, и в группе В: ', double_visitors.count())"
   ]
  },
  {
   "cell_type": "code",
   "execution_count": 21,
   "metadata": {},
   "outputs": [
    {
     "data": {
      "text/plain": [
       "58"
      ]
     },
     "execution_count": 21,
     "metadata": {},
     "output_type": "execute_result"
    }
   ],
   "source": [
    "#код ревьюера\n",
    "\n",
    "double_visitors.nunique()"
   ]
  },
  {
   "cell_type": "markdown",
   "metadata": {},
   "source": [
    "Мы видим, что существуют 89 пользователей, которые попали в обе группы. Уберём их из данных для более корректного анализа."
   ]
  },
  {
   "cell_type": "code",
   "execution_count": 22,
   "metadata": {},
   "outputs": [],
   "source": [
    "orders = orders.query('visitorId not in @double_visitors')"
   ]
  },
  {
   "cell_type": "markdown",
   "metadata": {},
   "source": [
    " "
   ]
  },
  {
   "cell_type": "markdown",
   "metadata": {},
   "source": [
    "Построим график кумулятивной выручки по группам:"
   ]
  },
  {
   "cell_type": "markdown",
   "metadata": {},
   "source": [
    "Для начала создадим уникальные пары по дате-группе,  получим агрегированные кумулятивные по дням данные о посетителях интернет-магазина."
   ]
  },
  {
   "cell_type": "code",
   "execution_count": 23,
   "metadata": {},
   "outputs": [],
   "source": [
    "grouped_dates = orders[['date','group']].drop_duplicates()\n",
    "\n",
    "agreg_orders = grouped_dates.apply(lambda x: orders[np.logical_and(orders['date'] <= x['date'], orders['group'] == x['group'])]\n",
    "                                                      .agg({'date' : 'max', 'group' : 'max', \n",
    "                                                            'transactionId' : 'nunique', \n",
    "                                                            'visitorId' : 'nunique', \n",
    "                                                            'revenue' : 'sum'}), axis=1).sort_values(by=['date','group'])\n",
    "\n",
    "agreg_visitors = grouped_dates.apply(lambda x: visitors[np.logical_and(visitors['date'] <= x['date'], \n",
    "                                                                       visitors['group'] == x['group'])]\n",
    "                                                          .agg({'date' : 'max', \n",
    "                                                                'group' : 'max', \n",
    "                                                                'visitors' : 'sum'}), axis=1).sort_values(by=['date','group'])\n",
    "\n",
    "cumulativeData = agreg_orders.merge(agreg_visitors, left_on=['date', 'group'], right_on=['date', 'group'])\n",
    "cumulativeData.columns = ['date', 'group', 'orders', 'buyers', 'revenue', 'visitors']\n"
   ]
  },
  {
   "cell_type": "markdown",
   "metadata": {},
   "source": [
    "Теперь построим график кумулятивной выручки:"
   ]
  },
  {
   "cell_type": "code",
   "execution_count": 24,
   "metadata": {},
   "outputs": [
    {
     "data": {
      "image/png": "[encoded data removed]",
      "text/plain": [
       "<Figure size 1080x432 with 1 Axes>"
      ]
     },
     "metadata": {
      "needs_background": "light"
     },
     "output_type": "display_data"
    }
   ],
   "source": [
    "cumulativeRevenueA = cumulativeData[cumulativeData['group']=='A'][['date','revenue', 'orders']]\n",
    "cumulativeRevenueB = cumulativeData[cumulativeData['group']=='B'][['date','revenue', 'orders']]\n",
    "\n",
    "plt.figure(figsize=(15,6))\n",
    "plt.xticks(rotation=45)\n",
    "plt.title('График кумулятивной выручки')    \n",
    "plt.xlabel('Даты')\n",
    "plt.ylabel('Выручка')\n",
    "plt.plot(cumulativeRevenueA['date'], cumulativeRevenueA['revenue'], label='A')\n",
    "plt.plot(cumulativeRevenueB['date'], cumulativeRevenueB['revenue'], label='B')\n",
    "\n",
    "plt.legend();"
   ]
  },
  {
   "cell_type": "markdown",
   "metadata": {},
   "source": [
    "На графиках видно, что выручка растёт в течение всего периода. У группы А рост плавный, практически равномерный, в то время как у группы B заметен резкий скачок с 18 августа. Это может быть свзязано с дорогими заказами, либо с увеличением числа чеков.  \n",
    "Также можно отметить, что у группы А и группы В есть точка соприкосновения 13 августа.  \n"
   ]
  },
  {
   "cell_type": "markdown",
   "metadata": {},
   "source": [
    "Построим график кумулятивного среднего чека по группам:"
   ]
  },
  {
   "cell_type": "code",
   "execution_count": 25,
   "metadata": {},
   "outputs": [
    {
     "data": {
      "image/png": "[encoded data removed]",
      "text/plain": [
       "<Figure size 1080x432 with 1 Axes>"
      ]
     },
     "metadata": {
      "needs_background": "light"
     },
     "output_type": "display_data"
    }
   ],
   "source": [
    "plt.figure(figsize=(15,6))\n",
    "plt.xticks(rotation=45)\n",
    "plt.title('График кумулятивного среднего чека по группам')    \n",
    "plt.xlabel('Даты')\n",
    "plt.ylabel('Средний чек')\n",
    "plt.plot(cumulativeRevenueA['date'], cumulativeRevenueA['revenue']/cumulativeRevenueA['orders'], label='A')\n",
    "plt.plot(cumulativeRevenueB['date'], cumulativeRevenueB['revenue']/cumulativeRevenueB['orders'], label='B')\n",
    "plt.legend();"
   ]
  },
  {
   "cell_type": "markdown",
   "metadata": {},
   "source": [
    "Анализируя средний чек в группах, у группы В также можно отметить 18 августа скачок. Следовательно, резкий рост выручки на прошлом графике всё же связан с покупкой дорогих товаров.\n",
    "В начале исследуемого периода заметен спад 05.08 и 06.08 у группы В и А соответственно, нужно больше данных для подробного разбора этих скачков."
   ]
  },
  {
   "cell_type": "markdown",
   "metadata": {},
   "source": [
    "Построим график относительного изменения кумулятивного среднего чека группы B к группе A."
   ]
  },
  {
   "cell_type": "code",
   "execution_count": 26,
   "metadata": {
    "scrolled": false
   },
   "outputs": [
    {
     "data": {
      "image/png": "[encoded data removed]",
      "text/plain": [
       "<Figure size 1080x432 with 1 Axes>"
      ]
     },
     "metadata": {
      "needs_background": "light"
     },
     "output_type": "display_data"
    }
   ],
   "source": [
    "plt.figure(figsize=(15,6))\n",
    "plt.xticks(rotation=45)\n",
    "plt.title('График относительного изменения кумулятивного среднего чека группы B к группе A')    \n",
    "plt.xlabel('Даты')\n",
    "plt.ylabel('Коэффициент изменения')\n",
    "\n",
    "mergedCumulativeRevenue = cumulativeRevenueA.merge(cumulativeRevenueB, \n",
    "                                                   left_on='date', \n",
    "                                                   right_on='date', \n",
    "                                                   how='left', \n",
    "                                                   suffixes=['A', 'B'])\n",
    "\n",
    "\n",
    "plt.plot(mergedCumulativeRevenue['date'], \n",
    "         (mergedCumulativeRevenue['revenueB']/mergedCumulativeRevenue['ordersB'])/\n",
    "         (mergedCumulativeRevenue['revenueA']/mergedCumulativeRevenue['ordersA'])\n",
    "         -1)\n",
    "\n",
    "plt.axhline(y=0, color='black', linestyle='--');"
   ]
  },
  {
   "cell_type": "markdown",
   "metadata": {},
   "source": [
    "График не равномерен, присутствуют сильные скачки. Это может быть обсуловлено как крупными заказами, так и выбросами.  \n",
    "В целом средний чек в группе В выше, чем у группы А, однако 13 числа у группы В резкий спад. Как раз 13 числа была точка соприкосновения у группы А и В по количеству заказов."
   ]
  },
  {
   "cell_type": "markdown",
   "metadata": {},
   "source": [
    "Построим график кумулятивной конверсии по группам:"
   ]
  },
  {
   "cell_type": "code",
   "execution_count": 27,
   "metadata": {},
   "outputs": [
    {
     "data": {
      "image/png": "[encoded data removed]",
      "text/plain": [
       "<Figure size 1080x432 with 1 Axes>"
      ]
     },
     "metadata": {
      "needs_background": "light"
     },
     "output_type": "display_data"
    }
   ],
   "source": [
    "cumulativeData['conversion'] = cumulativeData['orders']/cumulativeData['visitors']\n",
    "\n",
    "cumulativeDataA = cumulativeData[cumulativeData['group']=='A']\n",
    "cumulativeDataB = cumulativeData[cumulativeData['group']=='B']\n",
    "\n",
    "plt.figure(figsize=(15,6))\n",
    "plt.xticks(rotation=45)\n",
    "plt.title('График кумулятивной конверсии по группам')    \n",
    "plt.xlabel('Даты')\n",
    "plt.ylabel('Коэффициент конверсии')\n",
    "plt.plot(cumulativeDataA['date'], cumulativeDataA['conversion'], label='A')\n",
    "plt.plot(cumulativeDataB['date'], cumulativeDataB['conversion'], label='B')\n",
    "plt.legend()\n",
    "\n",
    "\n",
    "plt.axis(['2019-08-01', '2019-08-31', 0., 0.04]);"
   ]
  },
  {
   "cell_type": "markdown",
   "metadata": {},
   "source": [
    "\n",
    "График получился в целом равномерным, обе группы колеблются около одного значения. 6 августа у группы А заметен спад, вто время как у группы В наблюдается резкий рост."
   ]
  },
  {
   "cell_type": "markdown",
   "metadata": {},
   "source": [
    "Теперь построим график относительного различия кумулятивных конверсий:"
   ]
  },
  {
   "cell_type": "code",
   "execution_count": 28,
   "metadata": {},
   "outputs": [
    {
     "data": {
      "image/png": "[encoded data removed]",
      "text/plain": [
       "<Figure size 1080x432 with 1 Axes>"
      ]
     },
     "metadata": {
      "needs_background": "light"
     },
     "output_type": "display_data"
    }
   ],
   "source": [
    "merg_cum_conver = cumulativeDataA[['date','conversion']].merge(cumulativeDataB[['date','conversion']], \n",
    "                                                               left_on='date', \n",
    "                                                               right_on='date', \n",
    "                                                               how='left', \n",
    "                                                               suffixes=['A', 'B'])\n",
    "\n",
    "plt.figure(figsize=(15,6))\n",
    "plt.xticks(rotation=45)\n",
    "plt.title('График относительного различия кумулятивных конверсий')    \n",
    "plt.xlabel('Даты')\n",
    "plt.ylabel('Коэффициент прироста')\n",
    "plt.plot(merg_cum_conver['date'], \n",
    "         merg_cum_conver['conversionB']/merg_cum_conver['conversionA']-1, \n",
    "         label=\"Относительный прирост конверсии группы B относительно группы A\")\n",
    "plt.legend()\n",
    "\n",
    "plt.axhline(y=0, color='black', linestyle='--')\n",
    "plt.axhline(y=-0.1, color='grey', linestyle='--')\n",
    "plt.axis([\"2019-08-01\", '2019-08-31', -0.6, 0.6]);"
   ]
  },
  {
   "cell_type": "markdown",
   "metadata": {},
   "source": [
    "В начале группа В отрабатывала хуже группы А, однако после 6 августа конверсия вырастает и становится лучше, чем у группы А. Во второй половине месяца конверсия у группы В немного снижается, однако всё равно остаётся лучше первой группы. Также можно отметить, что прирост конверсии группы В выше 10%."
   ]
  },
  {
   "cell_type": "markdown",
   "metadata": {},
   "source": [
    "Необходимо понять, сколько выбросов и аномалий существует в данных. \n",
    "Для этого момжно построить точечный график количества заказов по пользователям:"
   ]
  },
  {
   "cell_type": "code",
   "execution_count": 29,
   "metadata": {},
   "outputs": [
    {
     "data": {
      "image/png": "[encoded data removed]",
      "text/plain": [
       "<Figure size 432x288 with 1 Axes>"
      ]
     },
     "metadata": {
      "needs_background": "light"
     },
     "output_type": "display_data"
    }
   ],
   "source": [
    "ordersByUsers = (\n",
    "    orders.groupby('visitorId', as_index=False)\n",
    "    .agg({'transactionId': 'nunique'})\n",
    ")\n",
    "\n",
    "ordersByUsers.columns = ['visitorId', 'orders']\n",
    "\n",
    "x_values = pd.Series(range(0,len(ordersByUsers)))\n",
    "\n",
    "plt.scatter(x_values, ordersByUsers['orders']);"
   ]
  },
  {
   "cell_type": "markdown",
   "metadata": {},
   "source": [
    "На графике видно, что большинство пользователей совершают один заказ, абсолютное большинство количества заказов не превышает 2, за редким исключением кто-то заказывает больше. Проверим, какой процент пользователей совершает 2 заказа."
   ]
  },
  {
   "cell_type": "markdown",
   "metadata": {},
   "source": [
    "Посчитаем перцентили количества заказов на одного пользователя:"
   ]
  },
  {
   "cell_type": "code",
   "execution_count": 30,
   "metadata": {},
   "outputs": [
    {
     "name": "stdout",
     "output_type": "stream",
     "text": [
      "[1. 2.]\n"
     ]
    }
   ],
   "source": [
    "perc_count_orders = np.percentile(ordersByUsers['orders'], [95, 99])\n",
    "print(perc_count_orders)"
   ]
  },
  {
   "cell_type": "markdown",
   "metadata": {},
   "source": [
    "Не более 5% пользователей оформляют не больше одного заказа. Возьмём 2 заказа за верхнюю границу."
   ]
  },
  {
   "cell_type": "markdown",
   "metadata": {},
   "source": [
    "Также для ограничения выбросов нужно понять, какие средние чеки являются аномаллиями, для этого визуализируем точечное распределение стоимостей заказов:"
   ]
  },
  {
   "cell_type": "code",
   "execution_count": 31,
   "metadata": {},
   "outputs": [
    {
     "data": {
      "image/png": "[encoded data removed]",
      "text/plain": [
       "<Figure size 432x288 with 1 Axes>"
      ]
     },
     "metadata": {
      "needs_background": "light"
     },
     "output_type": "display_data"
    }
   ],
   "source": [
    "x_values = pd.Series(range(0,len(orders['revenue'])))\n",
    "plt.scatter(x_values, orders['revenue'])\n",
    "plt.ylim([0, 120000]);"
   ]
  },
  {
   "cell_type": "markdown",
   "metadata": {},
   "source": [
    "Большинство пользователей заказывают на сумму не более 20 000 рублей, максимальная сумма заказа составляет чуть менее 100 000 рублей. Проверим перцентили среднего чека, возьмём 95 и 99 перцентили."
   ]
  },
  {
   "cell_type": "markdown",
   "metadata": {},
   "source": [
    "Взглянем на 95-й и 99-й перцентили стоимости заказов:"
   ]
  },
  {
   "cell_type": "code",
   "execution_count": 32,
   "metadata": {},
   "outputs": [
    {
     "name": "stdout",
     "output_type": "stream",
     "text": [
      "[26785. 53904.]\n"
     ]
    }
   ],
   "source": [
    "perc_rev_orders = np.percentile(orders['revenue'], [95, 99])\n",
    "print(perc_rev_orders)"
   ]
  },
  {
   "cell_type": "markdown",
   "metadata": {},
   "source": [
    "Не больше 5% пользователей совершают заказ на сумму более 26 785 рублей. Также только 1% клиентов имеют средний чек больше 53 904 рублей. Далее в работе возмём 26 785 за верхнюю границу."
   ]
  },
  {
   "cell_type": "markdown",
   "metadata": {},
   "source": [
    "Посчитаем статистическую значимость различий в среднем числе заказов на пользователя и среднем чеке между группами по «сырым» данным.  Для начала рассмотрим среднее число заказов.  \n",
    "\n",
    "Нулевая гипотеза: различий в среднем количестве заказов между группами нет. Альтернативная: различия в среднем между группами есть."
   ]
  },
  {
   "cell_type": "code",
   "execution_count": 33,
   "metadata": {},
   "outputs": [],
   "source": [
    "orders = pd.read_csv('/datasets/orders.csv', sep=',')\n",
    "orders['date'] = orders['date'].map(\n",
    "    lambda x: dt.datetime.strptime(x, '%Y-%m-%d')\n",
    ")\n",
    "\n",
    "visitors = pd.read_csv('/datasets/visitors.csv', sep=',')\n",
    "visitors['date'] = visitors['date'].map(\n",
    "    lambda x: dt.datetime.strptime(x, '%Y-%m-%d')\n",
    ")\n",
    "\n",
    "visitorsADaily = visitors[visitors['group'] == 'A'][['date', 'visitors']]\n",
    "visitorsADaily.columns = ['date', 'visitorsPerDateA']\n",
    "\n",
    "visitorsACummulative = visitorsADaily.apply(\n",
    "    lambda x: visitorsADaily[visitorsADaily['date'] <= x['date']].agg(\n",
    "        {'date': 'max', 'visitorsPerDateA': 'sum'}\n",
    "    ),\n",
    "    axis=1,\n",
    ")\n",
    "visitorsACummulative.columns = ['date', 'visitorsCummulativeA']\n",
    "\n",
    "visitorsBDaily = visitors[visitors['group'] == 'B'][['date', 'visitors']]\n",
    "visitorsBDaily.columns = ['date', 'visitorsPerDateB']\n",
    "\n",
    "visitorsBCummulative = visitorsBDaily.apply(\n",
    "    lambda x: visitorsBDaily[visitorsBDaily['date'] <= x['date']].agg(\n",
    "        {'date': 'max', 'visitorsPerDateB': 'sum'}\n",
    "    ),\n",
    "    axis=1,\n",
    ")\n",
    "visitorsBCummulative.columns = ['date', 'visitorsCummulativeB']\n",
    "\n",
    "ordersADaily = (\n",
    "    orders[orders['group'] == 'A'][['date', 'transactionId', 'visitorId', 'revenue']]\n",
    "    .groupby('date', as_index=False)\n",
    "    .agg({'transactionId': pd.Series.nunique, 'revenue': 'sum'})\n",
    ")\n",
    "ordersADaily.columns = ['date', 'ordersPerDateA', 'revenuePerDateA']\n",
    "\n",
    "ordersACummulative = ordersADaily.apply(\n",
    "    lambda x: ordersADaily[ordersADaily['date'] <= x['date']].agg(\n",
    "        {'date': 'max', 'ordersPerDateA': 'sum', 'revenuePerDateA': 'sum'}\n",
    "    ),\n",
    "    axis=1,\n",
    ").sort_values(by=['date'])\n",
    "ordersACummulative.columns = [\n",
    "    'date',\n",
    "    'ordersCummulativeA',\n",
    "    'revenueCummulativeA',\n",
    "]\n",
    "\n",
    "ordersBDaily = (\n",
    "    orders[orders['group'] == 'B'][['date', 'transactionId', 'visitorId', 'revenue']]\n",
    "    .groupby('date', as_index=False)\n",
    "    .agg({'transactionId': pd.Series.nunique, 'revenue': 'sum'})\n",
    ")\n",
    "ordersBDaily.columns = ['date', 'ordersPerDateB', 'revenuePerDateB']\n",
    "\n",
    "ordersBCummulative = ordersBDaily.apply(\n",
    "    lambda x: ordersBDaily[ordersBDaily['date'] <= x['date']].agg(\n",
    "        {'date': 'max', 'ordersPerDateB': 'sum', 'revenuePerDateB': 'sum'}\n",
    "    ),\n",
    "    axis=1,\n",
    ").sort_values(by=['date'])\n",
    "ordersBCummulative.columns = [\n",
    "    'date',\n",
    "    'ordersCummulativeB',\n",
    "    'revenueCummulativeB',\n",
    "]\n",
    "\n",
    "data = (\n",
    "    ordersADaily.merge(\n",
    "        ordersBDaily, left_on='date', right_on='date', how='left'\n",
    "    )\n",
    "    .merge(ordersACummulative, left_on='date', right_on='date', how='left')\n",
    "    .merge(ordersBCummulative, left_on='date', right_on='date', how='left')\n",
    "    .merge(visitorsADaily, left_on='date', right_on='date', how='left')\n",
    "    .merge(visitorsBDaily, left_on='date', right_on='date', how='left')\n",
    "    .merge(visitorsACummulative, left_on='date', right_on='date', how='left')\n",
    "    .merge(visitorsBCummulative, left_on='date', right_on='date', how='left')\n",
    ")"
   ]
  },
  {
   "cell_type": "code",
   "execution_count": 34,
   "metadata": {},
   "outputs": [
    {
     "name": "stdout",
     "output_type": "stream",
     "text": [
      "P-value:  0.01679\n",
      "Конверсия:  0.13808\n"
     ]
    }
   ],
   "source": [
    "ordersByUsersA = (\n",
    "    orders[orders['group'] == 'A']\n",
    "    .groupby('visitorId', as_index=False)\n",
    "    .agg({'transactionId': pd.Series.nunique})\n",
    ")\n",
    "ordersByUsersA.columns = ['visitorId', 'orders']\n",
    "\n",
    "ordersByUsersB = (\n",
    "    orders[orders['group'] == 'B']\n",
    "    .groupby('visitorId', as_index=False)\n",
    "    .agg({'transactionId': pd.Series.nunique})\n",
    ")\n",
    "ordersByUsersB.columns = ['visitorId', 'orders']\n",
    "\n",
    "sampleA = pd.concat(\n",
    "    [\n",
    "        ordersByUsersA['orders'],\n",
    "        pd.Series(\n",
    "            0,\n",
    "            index=np.arange(\n",
    "                data['visitorsPerDateA'].sum() - len(ordersByUsersA['orders'])\n",
    "            ),\n",
    "            name='orders',\n",
    "        ),\n",
    "    ],\n",
    "    axis=0,\n",
    ")\n",
    "\n",
    "sampleB = pd.concat(\n",
    "    [\n",
    "        ordersByUsersB['orders'],\n",
    "        pd.Series(\n",
    "            0,\n",
    "            index=np.arange(\n",
    "                data['visitorsPerDateB'].sum() - len(ordersByUsersB['orders'])\n",
    "            ),\n",
    "            name='orders',\n",
    "        ),\n",
    "    ],\n",
    "    axis=0,\n",
    ")\n",
    "\n",
    "print('P-value: ', \"{0:.5f}\".format(stats.mannwhitneyu(sampleA, sampleB)[1]))\n",
    "\n",
    "print('Конверсия: ',\"{0:.5f}\".format(sampleB.mean() / sampleA.mean() - 1))\n"
   ]
  },
  {
   "cell_type": "markdown",
   "metadata": {},
   "source": [
    "Первый показатель — p-value - меньше 0.05. Получается, что нулевую гипотезу о том, что статистически значимых различий в среднем числе заказов между группами нет, можно отвергнуть. Относительный выигрыш группы B равен 13% - второй показатель.  \n",
    "Проверим статистическую значимость различий в среднем чеке между сегментами."
   ]
  },
  {
   "cell_type": "markdown",
   "metadata": {},
   "source": [
    "Посмотрим на статистическую значимость различий в среднем чеке между сегментами. Нулевая гипотеза: различий в среднем чеке между группами нет. Альтернативная гипотеза: различия в среднем чеке между группами есть."
   ]
  },
  {
   "cell_type": "code",
   "execution_count": 35,
   "metadata": {},
   "outputs": [
    {
     "name": "stdout",
     "output_type": "stream",
     "text": [
      "P-value:  0.72929\n",
      "Конверсия:  0.25871\n"
     ]
    }
   ],
   "source": [
    "print('P-value: ', '{0:.5f}'.format(stats.mannwhitneyu(orders[orders['group']=='A']['revenue'], orders[orders['group']=='B']['revenue'])[1]))\n",
    "print('Конверсия: ','{0:.5f}'.format(orders[orders['group']=='B']['revenue'].mean()/orders[orders['group']=='A']['revenue'].mean()-1))"
   ]
  },
  {
   "cell_type": "markdown",
   "metadata": {},
   "source": [
    "P-value значительно больше 0.05. Видим, что нет причин отвергать нулевую гипотезу и считать, что в среднем чеке есть различия.  \n",
    "Средний чек группы B значительно выше среднего чека группы A.\n",
    "Разница в 26% не является статистически значимой."
   ]
  },
  {
   "cell_type": "markdown",
   "metadata": {},
   "source": [
    "Посчитаем статистическую значимость различий в среднем количестве заказов между группами теста по очищенным данным"
   ]
  },
  {
   "cell_type": "code",
   "execution_count": 36,
   "metadata": {},
   "outputs": [
    {
     "name": "stdout",
     "output_type": "stream",
     "text": [
      "568     113298937\n",
      "1099    148427295\n",
      "18      199603092\n",
      "928     204675465\n",
      "23      237748145\n",
      "Name: visitorId, dtype: int64\n",
      "80\n"
     ]
    }
   ],
   "source": [
    "usersWithManyOrders = pd.concat(\n",
    "    [\n",
    "        ordersByUsersA[ordersByUsersA['orders'] > perc_count_orders[1]]['visitorId'],\n",
    "        ordersByUsersB[ordersByUsersB['orders'] > perc_count_orders[1]]['visitorId'],\n",
    "    ],\n",
    "    axis=0,\n",
    ")\n",
    "usersWithExpensiveOrders = orders[orders['revenue'] > perc_rev_orders[0]]['visitorId']\n",
    "abnormalUsers = (\n",
    "    pd.concat([usersWithManyOrders, usersWithExpensiveOrders], axis=0)\n",
    "    .drop_duplicates()\n",
    "    .sort_values()\n",
    ")\n",
    "print(abnormalUsers.head(5))\n",
    "print(abnormalUsers.shape[0])"
   ]
  },
  {
   "cell_type": "markdown",
   "metadata": {},
   "source": [
    "Всего 74 аномальных пользователя. Проверим, насколько они влияют на результат, исключим их из проверки."
   ]
  },
  {
   "cell_type": "code",
   "execution_count": 37,
   "metadata": {},
   "outputs": [],
   "source": [
    "sampleAFiltered = pd.concat(\n",
    "    [\n",
    "        ordersByUsersA[\n",
    "            np.logical_not(ordersByUsersA['visitorId'].isin(abnormalUsers))\n",
    "        ]['orders'],\n",
    "        pd.Series(\n",
    "            0,\n",
    "            index=np.arange(\n",
    "                data['visitorsPerDateA'].sum() - len(ordersByUsersA['orders'])\n",
    "            ),\n",
    "            name='orders',\n",
    "        ),\n",
    "    ],\n",
    "    axis=0,\n",
    ")\n",
    "\n",
    "sampleBFiltered = pd.concat(\n",
    "    [\n",
    "        ordersByUsersB[\n",
    "            np.logical_not(ordersByUsersB['visitorId'].isin(abnormalUsers))\n",
    "        ]['orders'],\n",
    "        pd.Series(\n",
    "            0,\n",
    "            index=np.arange(\n",
    "                data['visitorsPerDateB'].sum() - len(ordersByUsersB['orders'])\n",
    "            ),\n",
    "            name='orders',\n",
    "        ),\n",
    "    ],\n",
    "    axis=0,\n",
    ")"
   ]
  },
  {
   "cell_type": "markdown",
   "metadata": {},
   "source": [
    "Для отсечения выбросов было принято решение использовать критерий Манна-Уитни, поскольку он как раз берёт во внимание только ранги, не обращая внимание на выбросы, сдвигающие результаты. Применим критерий к полученным выборкам:"
   ]
  },
  {
   "cell_type": "code",
   "execution_count": 38,
   "metadata": {},
   "outputs": [
    {
     "name": "stdout",
     "output_type": "stream",
     "text": [
      "P-value:  0.01635\n",
      "Конверсия:  0.16810\n"
     ]
    }
   ],
   "source": [
    "print('P-value: ', '{0:.5f}'.format(stats.mannwhitneyu(sampleAFiltered, sampleBFiltered)[1]))\n",
    "print('Конверсия: ','{0:.5f}'.format(sampleBFiltered.mean()/sampleAFiltered.mean()-1))"
   ]
  },
  {
   "cell_type": "markdown",
   "metadata": {},
   "source": [
    "Результаты по среднему количеству заказов практически не изменились.   \n",
    "P-value меньше 0.05, а значит, нулевую гипотезу всё также можно отвергнуть, и присутствуют статистические значимые различия.  \n",
    "  \n",
    "Проверим, изменились ли показатели по среднему чеку, учитывая скорректированную выборку."
   ]
  },
  {
   "cell_type": "markdown",
   "metadata": {},
   "source": [
    "Посчитаем статистическую значимость различий в среднем чеке заказа между группами по «очищенным» данным"
   ]
  },
  {
   "cell_type": "code",
   "execution_count": 39,
   "metadata": {},
   "outputs": [
    {
     "name": "stdout",
     "output_type": "stream",
     "text": [
      "P-value:  0.65033\n",
      "Конверсия:  -0.03315\n"
     ]
    }
   ],
   "source": [
    "print('P-value: ', '{0:.5f}'.format(stats.mannwhitneyu(orders[np.logical_and(orders['group'] == 'A',\n",
    "                                                                np.logical_not(orders['visitorId']\n",
    "                                                                               .isin(abnormalUsers)))]['revenue'],\n",
    "                                          orders[np.logical_and(orders['group'] == 'B',\n",
    "                                                                np.logical_not(orders['visitorId']\n",
    "                                                                               .isin(abnormalUsers)))]['revenue'],)[1]\n",
    "                      )\n",
    "     )\n",
    "\n",
    "print('Конверсия: ',\"{0:.5f}\".format(orders[np.logical_and(orders['group'] == 'B',\n",
    "                                             np.logical_not(orders['visitorId'].isin(abnormalUsers)))]\n",
    "                       ['revenue'].mean()\n",
    "                       / orders[np.logical_and(orders['group'] == 'A',\n",
    "                                               np.logical_not(orders['visitorId'].isin(abnormalUsers)))]\n",
    "                       ['revenue'].mean()\n",
    "                       - 1\n",
    "                      )\n",
    "     )"
   ]
  },
  {
   "cell_type": "markdown",
   "metadata": {},
   "source": [
    "P-value практически не изменился, слегка увеличился, он больше 0.05. Нулевую гипотезу отвергнуть мы не можем, и статистические значимые различия отсутствуют. Однако разница между сегментами сильная, потому что произошёл спад до 3%.  \n"
   ]
  },
  {
   "cell_type": "markdown",
   "metadata": {},
   "source": [
    "Таким образом, можно считать тест успешным, подробнее можно ознакомиться с выводом чуть ниже."
   ]
  },
  {
   "cell_type": "markdown",
   "metadata": {},
   "source": [
    "## Вывод\n",
    "\n",
    "Для анализа результатов теста A/B было проведено исследование на основе предоставленных статистических данных. Исследование состояло из нескольких этапов:  \n",
    "1.  Обзор, предобработка данных и приоритезация гипотез;  \n",
    "3.\tАнализ данных проведённого A/B теста;\n",
    "4.\tВывод и рекомендации по произведённому анализу.\n",
    "\n",
    "\n",
    "\n",
    "**Первый этап**  \n",
    "Для более корректного и наглядного отображения данных:  \n",
    "* ознакомились с предоставленными данными;  \n",
    "* проверили данные на пустые значения и дубликаты;  \n",
    "* проверили типы данных.  \n",
    "\n",
    "Что касается использования методов ICE и RICE:  \n",
    "1. После применения ICE можно заметить, что в первую тройку вошли 8, 0 и 7 гипотезы. Однако следует посмотреть, как изменится порядок, если мы применим RICE, который в отличие от ICE, учитывает кол-во пользователей, которых затронет наше изменение.  Таким образом, запустить акцию, дающую скидку на товар в день рождения является наиболее приоритетной.  \n",
    "\n",
    "2. После применения RICE, который в отличие от ICE, учитывает кол-во пользователей, которых затронет наше изменение, видно, что приоритезация изменилась. Теперь 8 гипотеза, находящаяся на первом месте, сместилась на 5 строку. 0 гипотеза попала на второе место, в то время как 7 встала на первой строке. Также 2 гипотеза оказалась на втором месте, хотя ранее она была на пятом. Самая приоритетная гипотеза теперь - добавить форму подписки на все основные страницы, чтобы собрать базу клиентов для email-рассылок.\n",
    "\n",
    "\n",
    "\n",
    "\n",
    "**Второй этап**  \n",
    "Были выявлены 89 пользователей, которые находятся в обеих группах сразу. Было принято решение отбросить их для более корректного анализа.  \n",
    "\n",
    "В ходе анализа предоставленных данных были выявлены следующие моменты:  \n",
    "\n",
    "1. На графике кумулятивной выручки видно, что выручка растёт в течение всего периода. У группы А рост плавный, практически равномерный, в то время как у группы B заметен резкий скачок с 18 августа. Это может быть свзязано с дорогими заказами, либо с увеличением числа чеков. Также можно отметить, что у группы А и группы В есть точка соприкосновения 13 августа.  \n",
    "\n",
    "\n",
    "2. Анализируя средний чек в группах через график кумулятивного среднего чека, у группы В также можно отметить 18 августа скачок. Следовательно, резкий рост выручки на прошлом графике всё же связан с покупкой дорогих товаров. В начале исследуемого периода заметен спад 05.08 и 06.08 у группы В и А соответственно, нужно больше данных для подробного разбора этих скачков.  \n",
    "\n",
    "\n",
    "3. График относительного изменения кумулятивного среднего чека группы B к группе A не равномерен, присутствуют сильные скачки. Это может быть обсуловлено как крупными заказами, так и выбросами. В целом средний чек в группе В выше, чем у группы А, однако 13 числа у группы В резкий спад. Как раз 13 числа была точка соприкосновения у группы А и В по количеству заказов.  \n",
    "\n",
    "\n",
    "4. График кумулятивной конверсии по группам получился в целом равномерным, обе группы колеблются около одного значения. 6 августа у группы А заметен спад, в то время как у группы В наблюдается резкий рост.  \n",
    "\n",
    "\n",
    "5. Согласно графику относительного различия кумулятивных конверсий: в начале группа В отрабатывала хуже группы А, однако после 06 августа конверсия вырастает и становится лучше, чем у группы А. Во второй половине месяца конверсия у группы В немного снижается, однако всё равно остаётся лучше первой группы. Также можно отметить, что прирост конверсии группы В выше 10%.  \n",
    "\n",
    "\n",
    "6. На точечном графике количества заказов по пользователям видно, что большинство пользователей совершают один заказ, абсолютное большинство количества заказов не превышает 2, за редким исключением кто-то заказывает больше.  \n",
    "После вычисления перцентилей можно сказать, что не более 5% пользователей оформляют больше двух заказов. И только 1% совершают больше, чем 4 заказа. Для дальнейшего анализа было принято решение взять 2 заказа за верхнюю границу.  \n",
    "\n",
    "\n",
    "7. Согласно точечному распределению стоимостей заказов большинство пользователей заказывают на сумму не более 20 000 рублей, максимальная сумма заказа составляет чуть менее 100 000 рублей.  \n",
    "Вычислив перцентили, устанавливается, что не больше 5% пользователей совершают заказ на сумму более 28 000 рублей. Также только 1% клиентов имеют средний чек больше 58 000 рублей. Далее в работе 28 000 рублей будет считаться верхней границей при очищении данных.  \n",
    "\n",
    "\n",
    "8. Если смотреть статистическую значимость различий в среднем числе заказов на пользователя и среднем чеке между группами по «сырым» данным, то нулевую гипотезу о том, что статистически значимых различий в среднем числе заказов между группами нет, можно отвергнуть. P-value равен 0.017. Относительный выигрыш группы B равен 14% - второй показатель.  \n",
    "\n",
    "\n",
    "9. Если смотреть статистическую значимость различий в среднем чеке между сегментами, p-value значительно больше 0.05 и составляет 0.729. Видим, что нет причин отвергать нулевую гипотезу и считать, что в среднем чеке есть различия. Средний чек группы B значительно выше среднего чека группы A, на 26%.  \n",
    " \n",
    "\n",
    "10. Аномальными можно считать 80 пользователя, у которых либо сумма заказа выше 26 785 рублей, либо у них больше 2 заказов в интернет-магазине.\n",
    "\n",
    "\n",
    "11. После очищения данных статистическая значимость различий в среднем количестве заказов между группами теста сильно не изменилась, p-value составляет 0.016, и группа B выигрывает на 17%.  \n",
    "  \n",
    "\n",
    "12. После очищения данных статистическая значимость различий в среднем чеке заказа между группами  тоже не меняется, p-value составляет 0.65. Однако группа В проигрывает группе А на 3%. Это связано именно с выбросами в дорогих чеках, которые мы ранее видели в анализе.\n",
    "\n",
    "\n",
    "\n",
    "**Третий этап**  \n",
    "\n",
    "Учитывая проделанный анализ, можно сделать следующие вывод:  \n",
    "Принято решение признать тест успешным, поскольку нулевая гипотеза по количеству заказов отвергнута как по сырым данным, так и по очищенным. Продолжать тест нет смысла, поскольку 95% клиентов совершают не более 2 заказов, поэтому продолжать тестирование дольше месяца нерационально.  В целом группа B лучше по всем показателям, однако стоит помнить, что выбросы скорректировали их средний чек, и по статистической значимости не удалось отвергнуть нулевую гипотезу.\n",
    "\n"
   ]
  }
 ],
 "metadata": {
  "ExecuteTimeLog": [
   {
    "duration": 470,
    "start_time": "2022-10-12T10:24:33.082Z"
   },
   {
    "duration": 11,
    "start_time": "2022-10-12T10:28:08.202Z"
   },
   {
    "duration": 56,
    "start_time": "2022-10-12T10:39:47.238Z"
   },
   {
    "duration": 7,
    "start_time": "2022-10-12T10:40:16.803Z"
   },
   {
    "duration": 8,
    "start_time": "2022-10-12T10:40:56.225Z"
   },
   {
    "duration": 7,
    "start_time": "2022-10-12T10:41:04.422Z"
   },
   {
    "duration": 6,
    "start_time": "2022-10-12T10:41:41.787Z"
   },
   {
    "duration": 7,
    "start_time": "2022-10-12T10:41:59.198Z"
   },
   {
    "duration": 3,
    "start_time": "2022-10-12T10:42:03.961Z"
   },
   {
    "duration": 30,
    "start_time": "2022-10-12T10:42:07.036Z"
   },
   {
    "duration": 9,
    "start_time": "2022-10-12T10:42:07.067Z"
   },
   {
    "duration": 18,
    "start_time": "2022-10-12T10:42:07.078Z"
   },
   {
    "duration": 0,
    "start_time": "2022-10-12T10:42:07.098Z"
   },
   {
    "duration": 7,
    "start_time": "2022-10-12T10:43:48.187Z"
   },
   {
    "duration": 9,
    "start_time": "2022-10-12T10:44:00.622Z"
   },
   {
    "duration": 12,
    "start_time": "2022-10-12T10:44:07.946Z"
   },
   {
    "duration": 3,
    "start_time": "2022-10-12T12:04:28.630Z"
   },
   {
    "duration": 14,
    "start_time": "2022-10-12T12:04:30.235Z"
   },
   {
    "duration": 11,
    "start_time": "2022-10-12T12:04:41.562Z"
   },
   {
    "duration": 19,
    "start_time": "2022-10-12T12:06:17.974Z"
   },
   {
    "duration": 6,
    "start_time": "2022-10-12T12:06:45.745Z"
   },
   {
    "duration": 10,
    "start_time": "2022-10-12T12:07:31.579Z"
   },
   {
    "duration": 9,
    "start_time": "2022-10-12T12:07:45.098Z"
   },
   {
    "duration": 13,
    "start_time": "2022-10-12T12:07:50.971Z"
   },
   {
    "duration": 29,
    "start_time": "2022-10-12T12:07:55.038Z"
   },
   {
    "duration": 9,
    "start_time": "2022-10-12T12:07:55.068Z"
   },
   {
    "duration": 1647,
    "start_time": "2022-10-12T12:07:55.078Z"
   },
   {
    "duration": 4,
    "start_time": "2022-10-12T12:08:16.337Z"
   },
   {
    "duration": 6,
    "start_time": "2022-10-12T12:08:44.995Z"
   },
   {
    "duration": 8,
    "start_time": "2022-10-12T12:09:42.960Z"
   },
   {
    "duration": 4,
    "start_time": "2022-10-12T12:13:26.610Z"
   },
   {
    "duration": 8,
    "start_time": "2022-10-12T12:13:27.478Z"
   },
   {
    "duration": 8,
    "start_time": "2022-10-12T12:13:31.306Z"
   },
   {
    "duration": 8,
    "start_time": "2022-10-12T12:13:36.646Z"
   },
   {
    "duration": 1415,
    "start_time": "2022-10-12T12:14:27.041Z"
   },
   {
    "duration": 4,
    "start_time": "2022-10-12T12:14:46.908Z"
   },
   {
    "duration": 7,
    "start_time": "2022-10-12T12:14:59.631Z"
   },
   {
    "duration": 148,
    "start_time": "2022-10-12T12:42:20.544Z"
   },
   {
    "duration": 8,
    "start_time": "2022-10-12T12:43:16.711Z"
   },
   {
    "duration": 6,
    "start_time": "2022-10-12T12:44:22.814Z"
   },
   {
    "duration": 10,
    "start_time": "2022-10-12T12:45:23.679Z"
   },
   {
    "duration": 17,
    "start_time": "2022-10-12T12:45:25.315Z"
   },
   {
    "duration": 897,
    "start_time": "2022-10-12T12:45:40.669Z"
   },
   {
    "duration": 33,
    "start_time": "2022-10-12T12:45:41.568Z"
   },
   {
    "duration": 11,
    "start_time": "2022-10-12T12:45:41.603Z"
   },
   {
    "duration": 13,
    "start_time": "2022-10-12T12:45:41.616Z"
   },
   {
    "duration": 12,
    "start_time": "2022-10-12T12:45:41.630Z"
   },
   {
    "duration": 10,
    "start_time": "2022-10-12T12:45:41.644Z"
   },
   {
    "duration": 10,
    "start_time": "2022-10-12T12:45:41.655Z"
   },
   {
    "duration": 59,
    "start_time": "2022-10-12T12:45:41.666Z"
   },
   {
    "duration": 5,
    "start_time": "2022-10-12T12:45:41.727Z"
   },
   {
    "duration": 78,
    "start_time": "2022-10-12T12:45:41.734Z"
   },
   {
    "duration": 0,
    "start_time": "2022-10-12T12:45:41.813Z"
   },
   {
    "duration": 143,
    "start_time": "2022-10-12T12:46:50.003Z"
   },
   {
    "duration": 8,
    "start_time": "2022-10-12T12:46:53.045Z"
   },
   {
    "duration": 114,
    "start_time": "2022-10-12T12:47:17.917Z"
   },
   {
    "duration": 241,
    "start_time": "2022-10-12T12:48:27.709Z"
   },
   {
    "duration": 235,
    "start_time": "2022-10-12T12:48:29.719Z"
   },
   {
    "duration": 218,
    "start_time": "2022-10-12T12:49:32.492Z"
   },
   {
    "duration": 222,
    "start_time": "2022-10-12T12:49:51.622Z"
   },
   {
    "duration": 305,
    "start_time": "2022-10-12T12:49:56.400Z"
   },
   {
    "duration": 235,
    "start_time": "2022-10-12T12:50:04.050Z"
   },
   {
    "duration": 219,
    "start_time": "2022-10-12T12:50:08.849Z"
   },
   {
    "duration": 1180,
    "start_time": "2022-10-12T12:50:15.288Z"
   },
   {
    "duration": 227,
    "start_time": "2022-10-12T12:50:30.139Z"
   },
   {
    "duration": 111,
    "start_time": "2022-10-12T12:50:49.947Z"
   },
   {
    "duration": 130,
    "start_time": "2022-10-12T12:50:57.760Z"
   },
   {
    "duration": 214,
    "start_time": "2022-10-12T12:51:13.122Z"
   },
   {
    "duration": 225,
    "start_time": "2022-10-12T12:51:52.643Z"
   },
   {
    "duration": 329,
    "start_time": "2022-10-12T13:23:11.838Z"
   },
   {
    "duration": 224,
    "start_time": "2022-10-12T13:27:10.238Z"
   },
   {
    "duration": 141,
    "start_time": "2022-10-12T13:37:42.636Z"
   },
   {
    "duration": 163,
    "start_time": "2022-10-12T14:59:20.794Z"
   },
   {
    "duration": 277,
    "start_time": "2022-10-12T14:59:33.781Z"
   },
   {
    "duration": 250,
    "start_time": "2022-10-12T14:59:51.365Z"
   },
   {
    "duration": 279,
    "start_time": "2022-10-12T15:00:30.652Z"
   },
   {
    "duration": 257,
    "start_time": "2022-10-12T15:00:37.721Z"
   },
   {
    "duration": 237,
    "start_time": "2022-10-12T15:00:56.717Z"
   },
   {
    "duration": 240,
    "start_time": "2022-10-12T15:01:11.295Z"
   },
   {
    "duration": 261,
    "start_time": "2022-10-12T15:01:18.083Z"
   },
   {
    "duration": 242,
    "start_time": "2022-10-12T15:01:26.833Z"
   },
   {
    "duration": 6,
    "start_time": "2022-10-12T15:04:32.162Z"
   },
   {
    "duration": 8,
    "start_time": "2022-10-12T15:05:17.818Z"
   },
   {
    "duration": 11,
    "start_time": "2022-10-12T15:05:24.922Z"
   },
   {
    "duration": 11,
    "start_time": "2022-10-12T15:06:09.554Z"
   },
   {
    "duration": 8,
    "start_time": "2022-10-12T15:07:44.991Z"
   },
   {
    "duration": 105,
    "start_time": "2022-10-12T15:07:49.297Z"
   },
   {
    "duration": 100,
    "start_time": "2022-10-12T15:07:55.032Z"
   },
   {
    "duration": 217,
    "start_time": "2022-10-12T15:07:59.260Z"
   },
   {
    "duration": 247,
    "start_time": "2022-10-12T15:08:03.726Z"
   },
   {
    "duration": 303,
    "start_time": "2022-10-12T15:08:09.821Z"
   },
   {
    "duration": 340,
    "start_time": "2022-10-12T15:08:13.188Z"
   },
   {
    "duration": 226,
    "start_time": "2022-10-12T15:08:17.071Z"
   },
   {
    "duration": 4,
    "start_time": "2022-10-12T15:09:48.166Z"
   },
   {
    "duration": 5,
    "start_time": "2022-10-12T15:11:02.043Z"
   },
   {
    "duration": 115,
    "start_time": "2022-10-12T15:18:03.552Z"
   },
   {
    "duration": 11,
    "start_time": "2022-10-12T15:21:10.182Z"
   },
   {
    "duration": 5,
    "start_time": "2022-10-12T15:21:32.858Z"
   },
   {
    "duration": 4,
    "start_time": "2022-10-12T15:21:38.221Z"
   },
   {
    "duration": 317,
    "start_time": "2022-10-12T15:32:53.066Z"
   },
   {
    "duration": 394,
    "start_time": "2022-10-12T15:33:23.287Z"
   },
   {
    "duration": 133,
    "start_time": "2022-10-12T15:33:41.940Z"
   },
   {
    "duration": 189,
    "start_time": "2022-10-12T15:34:28.794Z"
   },
   {
    "duration": 805,
    "start_time": "2022-10-12T15:35:48.305Z"
   },
   {
    "duration": 258,
    "start_time": "2022-10-12T15:35:59.512Z"
   },
   {
    "duration": 119,
    "start_time": "2022-10-12T15:37:20.421Z"
   },
   {
    "duration": 7,
    "start_time": "2022-10-12T15:38:18.087Z"
   },
   {
    "duration": 7,
    "start_time": "2022-10-12T15:38:48.756Z"
   },
   {
    "duration": 5,
    "start_time": "2022-10-12T15:39:05.866Z"
   },
   {
    "duration": 14,
    "start_time": "2022-10-12T15:40:47.616Z"
   },
   {
    "duration": 149,
    "start_time": "2022-10-12T15:41:51.193Z"
   },
   {
    "duration": 475,
    "start_time": "2022-10-12T16:06:40.981Z"
   },
   {
    "duration": 149,
    "start_time": "2022-10-12T16:06:47.995Z"
   },
   {
    "duration": 1307,
    "start_time": "2022-10-12T16:18:14.115Z"
   },
   {
    "duration": 1757,
    "start_time": "2022-10-12T16:28:22.091Z"
   },
   {
    "duration": 1292,
    "start_time": "2022-10-13T14:18:29.192Z"
   },
   {
    "duration": 41,
    "start_time": "2022-10-13T14:18:30.486Z"
   },
   {
    "duration": 11,
    "start_time": "2022-10-13T14:18:30.529Z"
   },
   {
    "duration": 21,
    "start_time": "2022-10-13T14:18:30.541Z"
   },
   {
    "duration": 28,
    "start_time": "2022-10-13T14:18:30.564Z"
   },
   {
    "duration": 20,
    "start_time": "2022-10-13T14:18:30.594Z"
   },
   {
    "duration": 34,
    "start_time": "2022-10-13T14:18:30.616Z"
   },
   {
    "duration": 116,
    "start_time": "2022-10-13T14:18:30.652Z"
   },
   {
    "duration": 4,
    "start_time": "2022-10-13T14:18:30.770Z"
   },
   {
    "duration": 166,
    "start_time": "2022-10-13T14:18:30.776Z"
   },
   {
    "duration": 109,
    "start_time": "2022-10-13T14:18:30.944Z"
   },
   {
    "duration": 256,
    "start_time": "2022-10-13T14:18:31.055Z"
   },
   {
    "duration": 290,
    "start_time": "2022-10-13T14:18:31.313Z"
   },
   {
    "duration": 252,
    "start_time": "2022-10-13T14:18:31.606Z"
   },
   {
    "duration": 374,
    "start_time": "2022-10-13T14:18:31.859Z"
   },
   {
    "duration": 256,
    "start_time": "2022-10-13T14:18:32.235Z"
   },
   {
    "duration": 294,
    "start_time": "2022-10-13T14:18:32.492Z"
   },
   {
    "duration": 21,
    "start_time": "2022-10-13T14:18:32.788Z"
   },
   {
    "duration": 133,
    "start_time": "2022-10-13T14:18:32.811Z"
   },
   {
    "duration": 3,
    "start_time": "2022-10-13T14:18:32.946Z"
   },
   {
    "duration": 129,
    "start_time": "2022-10-13T14:18:32.951Z"
   },
   {
    "duration": 4,
    "start_time": "2022-10-13T14:18:33.081Z"
   },
   {
    "duration": 271,
    "start_time": "2022-10-13T14:18:33.086Z"
   },
   {
    "duration": 181,
    "start_time": "2022-10-13T14:18:33.358Z"
   },
   {
    "duration": 102,
    "start_time": "2022-10-13T14:18:33.541Z"
   },
   {
    "duration": 0,
    "start_time": "2022-10-13T14:18:33.644Z"
   },
   {
    "duration": 0,
    "start_time": "2022-10-13T14:18:33.645Z"
   },
   {
    "duration": 1123,
    "start_time": "2022-10-13T14:21:53.741Z"
   },
   {
    "duration": 7,
    "start_time": "2022-10-13T14:22:11.375Z"
   },
   {
    "duration": 1437,
    "start_time": "2022-10-13T14:22:14.774Z"
   },
   {
    "duration": 1102,
    "start_time": "2022-10-13T14:23:25.731Z"
   },
   {
    "duration": 20,
    "start_time": "2022-10-13T14:23:26.836Z"
   },
   {
    "duration": 10,
    "start_time": "2022-10-13T14:23:26.858Z"
   },
   {
    "duration": 8,
    "start_time": "2022-10-13T14:23:26.871Z"
   },
   {
    "duration": 11,
    "start_time": "2022-10-13T14:23:26.880Z"
   },
   {
    "duration": 46,
    "start_time": "2022-10-13T14:23:26.892Z"
   },
   {
    "duration": 14,
    "start_time": "2022-10-13T14:23:26.939Z"
   },
   {
    "duration": 37,
    "start_time": "2022-10-13T14:23:26.954Z"
   },
   {
    "duration": 5,
    "start_time": "2022-10-13T14:23:26.992Z"
   },
   {
    "duration": 242,
    "start_time": "2022-10-13T14:23:27.000Z"
   },
   {
    "duration": 126,
    "start_time": "2022-10-13T14:23:27.243Z"
   },
   {
    "duration": 292,
    "start_time": "2022-10-13T14:23:27.371Z"
   },
   {
    "duration": 285,
    "start_time": "2022-10-13T14:23:27.664Z"
   },
   {
    "duration": 246,
    "start_time": "2022-10-13T14:23:27.950Z"
   },
   {
    "duration": 356,
    "start_time": "2022-10-13T14:23:28.199Z"
   },
   {
    "duration": 293,
    "start_time": "2022-10-13T14:23:28.557Z"
   },
   {
    "duration": 280,
    "start_time": "2022-10-13T14:23:28.852Z"
   },
   {
    "duration": 10,
    "start_time": "2022-10-13T14:23:29.135Z"
   },
   {
    "duration": 112,
    "start_time": "2022-10-13T14:23:29.147Z"
   },
   {
    "duration": 4,
    "start_time": "2022-10-13T14:23:29.261Z"
   },
   {
    "duration": 150,
    "start_time": "2022-10-13T14:23:29.267Z"
   },
   {
    "duration": 8,
    "start_time": "2022-10-13T14:23:29.419Z"
   },
   {
    "duration": 252,
    "start_time": "2022-10-13T14:23:29.429Z"
   },
   {
    "duration": 169,
    "start_time": "2022-10-13T14:23:29.683Z"
   },
   {
    "duration": 6,
    "start_time": "2022-10-13T14:23:29.854Z"
   },
   {
    "duration": 1449,
    "start_time": "2022-10-13T14:23:29.861Z"
   },
   {
    "duration": 0,
    "start_time": "2022-10-13T14:23:31.316Z"
   },
   {
    "duration": 0,
    "start_time": "2022-10-13T14:23:31.317Z"
   },
   {
    "duration": 11,
    "start_time": "2022-10-13T14:24:53.700Z"
   },
   {
    "duration": 29,
    "start_time": "2022-10-13T14:24:58.650Z"
   },
   {
    "duration": 13,
    "start_time": "2022-10-13T14:25:00.347Z"
   },
   {
    "duration": 49,
    "start_time": "2022-10-13T14:59:47.288Z"
   },
   {
    "duration": 40,
    "start_time": "2022-10-13T15:11:17.821Z"
   },
   {
    "duration": 18,
    "start_time": "2022-10-13T15:11:28.253Z"
   },
   {
    "duration": 13,
    "start_time": "2022-10-13T15:11:57.491Z"
   },
   {
    "duration": 25,
    "start_time": "2022-10-13T15:12:03.098Z"
   },
   {
    "duration": 13,
    "start_time": "2022-10-13T15:13:48.441Z"
   },
   {
    "duration": 18,
    "start_time": "2022-10-13T15:13:57.340Z"
   },
   {
    "duration": 19,
    "start_time": "2022-10-13T15:15:17.472Z"
   },
   {
    "duration": 15,
    "start_time": "2022-10-13T15:23:43.702Z"
   },
   {
    "duration": 6,
    "start_time": "2022-10-13T15:24:02.742Z"
   },
   {
    "duration": 10,
    "start_time": "2022-10-13T15:24:24.518Z"
   },
   {
    "duration": 7,
    "start_time": "2022-10-13T15:25:08.727Z"
   },
   {
    "duration": 7,
    "start_time": "2022-10-13T15:25:53.163Z"
   },
   {
    "duration": 8,
    "start_time": "2022-10-13T15:26:00.129Z"
   },
   {
    "duration": 7,
    "start_time": "2022-10-13T15:26:02.533Z"
   },
   {
    "duration": 1234,
    "start_time": "2022-10-13T16:59:07.320Z"
   },
   {
    "duration": 29,
    "start_time": "2022-10-13T16:59:21.830Z"
   },
   {
    "duration": 19,
    "start_time": "2022-10-13T17:00:09.937Z"
   },
   {
    "duration": 19,
    "start_time": "2022-10-13T17:00:16.765Z"
   },
   {
    "duration": 18,
    "start_time": "2022-10-13T17:00:34.622Z"
   },
   {
    "duration": 16,
    "start_time": "2022-10-13T17:00:41.034Z"
   },
   {
    "duration": 89,
    "start_time": "2022-10-13T17:00:47.232Z"
   },
   {
    "duration": 10,
    "start_time": "2022-10-13T17:00:51.397Z"
   },
   {
    "duration": 14,
    "start_time": "2022-10-13T17:00:59.330Z"
   },
   {
    "duration": 10,
    "start_time": "2022-10-13T17:01:10.063Z"
   },
   {
    "duration": 9,
    "start_time": "2022-10-13T17:01:20.888Z"
   },
   {
    "duration": 970,
    "start_time": "2022-10-13T17:01:26.678Z"
   },
   {
    "duration": 24,
    "start_time": "2022-10-13T17:01:27.650Z"
   },
   {
    "duration": 10,
    "start_time": "2022-10-13T17:01:27.676Z"
   },
   {
    "duration": 24,
    "start_time": "2022-10-13T17:01:27.687Z"
   },
   {
    "duration": 8,
    "start_time": "2022-10-13T17:01:27.723Z"
   },
   {
    "duration": 21,
    "start_time": "2022-10-13T17:01:27.734Z"
   },
   {
    "duration": 5,
    "start_time": "2022-10-13T17:01:27.756Z"
   },
   {
    "duration": 10,
    "start_time": "2022-10-13T17:01:27.762Z"
   },
   {
    "duration": 61,
    "start_time": "2022-10-13T17:01:27.773Z"
   },
   {
    "duration": 5,
    "start_time": "2022-10-13T17:01:27.836Z"
   },
   {
    "duration": 160,
    "start_time": "2022-10-13T17:01:27.842Z"
   },
   {
    "duration": 112,
    "start_time": "2022-10-13T17:01:28.003Z"
   },
   {
    "duration": 254,
    "start_time": "2022-10-13T17:01:28.116Z"
   },
   {
    "duration": 266,
    "start_time": "2022-10-13T17:01:28.373Z"
   },
   {
    "duration": 262,
    "start_time": "2022-10-13T17:01:28.640Z"
   },
   {
    "duration": 369,
    "start_time": "2022-10-13T17:01:28.904Z"
   },
   {
    "duration": 271,
    "start_time": "2022-10-13T17:01:29.275Z"
   },
   {
    "duration": 243,
    "start_time": "2022-10-13T17:01:29.548Z"
   },
   {
    "duration": 27,
    "start_time": "2022-10-13T17:01:29.793Z"
   },
   {
    "duration": 124,
    "start_time": "2022-10-13T17:01:29.824Z"
   },
   {
    "duration": 4,
    "start_time": "2022-10-13T17:01:29.950Z"
   },
   {
    "duration": 128,
    "start_time": "2022-10-13T17:01:29.956Z"
   },
   {
    "duration": 4,
    "start_time": "2022-10-13T17:01:30.086Z"
   },
   {
    "duration": 283,
    "start_time": "2022-10-13T17:01:30.100Z"
   },
   {
    "duration": 169,
    "start_time": "2022-10-13T17:01:30.385Z"
   },
   {
    "duration": 8,
    "start_time": "2022-10-13T17:01:30.555Z"
   },
   {
    "duration": 65,
    "start_time": "2022-10-13T17:01:30.564Z"
   },
   {
    "duration": 130,
    "start_time": "2022-10-13T17:01:30.631Z"
   },
   {
    "duration": 12,
    "start_time": "2022-10-13T17:01:30.763Z"
   },
   {
    "duration": 11,
    "start_time": "2022-10-13T18:04:11.958Z"
   },
   {
    "duration": 10,
    "start_time": "2022-10-13T18:04:21.753Z"
   },
   {
    "duration": 108,
    "start_time": "2022-10-13T18:05:57.382Z"
   },
   {
    "duration": 87,
    "start_time": "2022-10-13T18:06:09.746Z"
   },
   {
    "duration": 14,
    "start_time": "2022-10-13T18:07:08.832Z"
   },
   {
    "duration": 8,
    "start_time": "2022-10-13T18:07:29.779Z"
   },
   {
    "duration": 1270,
    "start_time": "2022-10-13T18:09:22.787Z"
   },
   {
    "duration": 56,
    "start_time": "2022-10-13T18:09:24.059Z"
   },
   {
    "duration": 30,
    "start_time": "2022-10-13T18:09:24.130Z"
   },
   {
    "duration": 18,
    "start_time": "2022-10-13T18:09:24.168Z"
   },
   {
    "duration": 20,
    "start_time": "2022-10-13T18:09:24.189Z"
   },
   {
    "duration": 67,
    "start_time": "2022-10-13T18:09:24.214Z"
   },
   {
    "duration": 8,
    "start_time": "2022-10-13T18:09:24.283Z"
   },
   {
    "duration": 23,
    "start_time": "2022-10-13T18:09:24.293Z"
   },
   {
    "duration": 136,
    "start_time": "2022-10-13T18:09:24.320Z"
   },
   {
    "duration": 20,
    "start_time": "2022-10-13T18:09:24.463Z"
   },
   {
    "duration": 28,
    "start_time": "2022-10-13T18:09:24.485Z"
   },
   {
    "duration": 89,
    "start_time": "2022-10-13T18:09:24.514Z"
   },
   {
    "duration": 93,
    "start_time": "2022-10-13T18:09:24.612Z"
   },
   {
    "duration": 377,
    "start_time": "2022-10-13T18:09:24.711Z"
   },
   {
    "duration": 368,
    "start_time": "2022-10-13T18:09:25.089Z"
   },
   {
    "duration": 378,
    "start_time": "2022-10-13T18:09:25.463Z"
   },
   {
    "duration": 347,
    "start_time": "2022-10-13T18:09:25.852Z"
   },
   {
    "duration": 349,
    "start_time": "2022-10-13T18:09:26.201Z"
   },
   {
    "duration": 235,
    "start_time": "2022-10-13T18:09:26.554Z"
   },
   {
    "duration": 15,
    "start_time": "2022-10-13T18:09:26.800Z"
   },
   {
    "duration": 158,
    "start_time": "2022-10-13T18:09:26.816Z"
   },
   {
    "duration": 5,
    "start_time": "2022-10-13T18:09:26.975Z"
   },
   {
    "duration": 183,
    "start_time": "2022-10-13T18:09:26.981Z"
   },
   {
    "duration": 5,
    "start_time": "2022-10-13T18:09:27.166Z"
   },
   {
    "duration": 303,
    "start_time": "2022-10-13T18:09:27.173Z"
   },
   {
    "duration": 186,
    "start_time": "2022-10-13T18:09:27.478Z"
   },
   {
    "duration": 11,
    "start_time": "2022-10-13T18:09:27.666Z"
   },
   {
    "duration": 18,
    "start_time": "2022-10-13T18:09:27.679Z"
   },
   {
    "duration": 85,
    "start_time": "2022-10-13T18:09:27.698Z"
   },
   {
    "duration": 30,
    "start_time": "2022-10-13T18:09:27.785Z"
   },
   {
    "duration": 283,
    "start_time": "2022-10-13T18:19:02.833Z"
   },
   {
    "duration": 350,
    "start_time": "2022-10-13T18:19:10.083Z"
   },
   {
    "duration": 262,
    "start_time": "2022-10-13T18:19:13.949Z"
   },
   {
    "duration": 266,
    "start_time": "2022-10-13T18:19:19.260Z"
   },
   {
    "duration": 291,
    "start_time": "2022-10-13T18:19:25.427Z"
   },
   {
    "duration": 278,
    "start_time": "2022-10-13T18:19:28.995Z"
   },
   {
    "duration": 297,
    "start_time": "2022-10-13T18:19:33.967Z"
   },
   {
    "duration": 1335,
    "start_time": "2022-10-13T19:40:54.728Z"
   },
   {
    "duration": 43,
    "start_time": "2022-10-13T19:41:08.442Z"
   },
   {
    "duration": 1133,
    "start_time": "2022-10-13T19:41:15.059Z"
   },
   {
    "duration": 266,
    "start_time": "2022-10-13T19:41:29.054Z"
   },
   {
    "duration": 143,
    "start_time": "2022-10-13T19:42:33.543Z"
   },
   {
    "duration": 261,
    "start_time": "2022-10-13T19:43:47.299Z"
   },
   {
    "duration": 51,
    "start_time": "2022-10-13T19:44:17.508Z"
   },
   {
    "duration": 3,
    "start_time": "2022-10-13T19:44:55.125Z"
   },
   {
    "duration": 255,
    "start_time": "2022-10-13T19:45:24.927Z"
   },
   {
    "duration": 283,
    "start_time": "2022-10-13T19:45:30.340Z"
   },
   {
    "duration": 359,
    "start_time": "2022-10-13T19:45:41.093Z"
   },
   {
    "duration": 620,
    "start_time": "2022-10-13T19:45:50.849Z"
   },
   {
    "duration": 599,
    "start_time": "2022-10-13T19:46:15.602Z"
   },
   {
    "duration": 963,
    "start_time": "2022-10-13T19:46:19.419Z"
   },
   {
    "duration": 246,
    "start_time": "2022-10-13T19:46:25.346Z"
   },
   {
    "duration": 231,
    "start_time": "2022-10-13T19:46:29.640Z"
   },
   {
    "duration": 463,
    "start_time": "2022-10-13T19:46:38.699Z"
   },
   {
    "duration": 449,
    "start_time": "2022-10-13T19:46:50.446Z"
   },
   {
    "duration": 397,
    "start_time": "2022-10-13T19:47:03.822Z"
   },
   {
    "duration": 250,
    "start_time": "2022-10-13T19:49:32.295Z"
   },
   {
    "duration": 592,
    "start_time": "2022-10-13T19:51:18.580Z"
   },
   {
    "duration": 378,
    "start_time": "2022-10-13T19:51:30.593Z"
   },
   {
    "duration": 275,
    "start_time": "2022-10-13T19:51:41.230Z"
   },
   {
    "duration": 274,
    "start_time": "2022-10-13T19:56:52.544Z"
   },
   {
    "duration": 266,
    "start_time": "2022-10-13T19:57:42.323Z"
   },
   {
    "duration": 845,
    "start_time": "2022-10-13T19:58:37.191Z"
   },
   {
    "duration": 234,
    "start_time": "2022-10-13T19:58:42.187Z"
   },
   {
    "duration": 828,
    "start_time": "2022-10-13T19:59:06.673Z"
   },
   {
    "duration": 138,
    "start_time": "2022-10-13T19:59:19.380Z"
   },
   {
    "duration": 19,
    "start_time": "2022-10-13T20:02:58.396Z"
   },
   {
    "duration": 207,
    "start_time": "2022-10-13T20:03:07.457Z"
   },
   {
    "duration": 115,
    "start_time": "2022-10-13T20:03:36.761Z"
   },
   {
    "duration": 127,
    "start_time": "2022-10-13T20:05:02.628Z"
   },
   {
    "duration": 136,
    "start_time": "2022-10-13T20:05:11.275Z"
   },
   {
    "duration": 112,
    "start_time": "2022-10-13T20:06:44.629Z"
   },
   {
    "duration": 106,
    "start_time": "2022-10-13T20:06:53.749Z"
   },
   {
    "duration": 115,
    "start_time": "2022-10-13T20:07:05.244Z"
   },
   {
    "duration": 109,
    "start_time": "2022-10-13T20:07:11.128Z"
   },
   {
    "duration": 117,
    "start_time": "2022-10-13T20:09:26.367Z"
   },
   {
    "duration": 9,
    "start_time": "2022-10-13T20:10:32.323Z"
   },
   {
    "duration": 10,
    "start_time": "2022-10-13T20:10:40.397Z"
   },
   {
    "duration": 4,
    "start_time": "2022-10-13T20:10:48.443Z"
   },
   {
    "duration": 108,
    "start_time": "2022-10-13T20:11:29.218Z"
   },
   {
    "duration": 127,
    "start_time": "2022-10-13T20:11:39.958Z"
   },
   {
    "duration": 206,
    "start_time": "2022-10-13T20:12:14.140Z"
   },
   {
    "duration": 132,
    "start_time": "2022-10-13T20:12:25.071Z"
   },
   {
    "duration": 295,
    "start_time": "2022-10-13T20:12:37.045Z"
   },
   {
    "duration": 105,
    "start_time": "2022-10-13T20:12:58.315Z"
   },
   {
    "duration": 997,
    "start_time": "2022-10-13T20:13:06.144Z"
   },
   {
    "duration": 24,
    "start_time": "2022-10-13T20:13:07.143Z"
   },
   {
    "duration": 11,
    "start_time": "2022-10-13T20:13:07.169Z"
   },
   {
    "duration": 14,
    "start_time": "2022-10-13T20:13:07.183Z"
   },
   {
    "duration": 22,
    "start_time": "2022-10-13T20:13:07.198Z"
   },
   {
    "duration": 14,
    "start_time": "2022-10-13T20:13:07.221Z"
   },
   {
    "duration": 8,
    "start_time": "2022-10-13T20:13:07.237Z"
   },
   {
    "duration": 10,
    "start_time": "2022-10-13T20:13:07.246Z"
   },
   {
    "duration": 45,
    "start_time": "2022-10-13T20:13:07.257Z"
   },
   {
    "duration": 10,
    "start_time": "2022-10-13T20:13:07.308Z"
   },
   {
    "duration": 10,
    "start_time": "2022-10-13T20:13:07.320Z"
   },
   {
    "duration": 12,
    "start_time": "2022-10-13T20:13:07.332Z"
   },
   {
    "duration": 6,
    "start_time": "2022-10-13T20:13:07.346Z"
   },
   {
    "duration": 279,
    "start_time": "2022-10-13T20:13:07.354Z"
   },
   {
    "duration": 159,
    "start_time": "2022-10-13T20:13:07.635Z"
   },
   {
    "duration": 138,
    "start_time": "2022-10-13T20:13:07.796Z"
   },
   {
    "duration": 220,
    "start_time": "2022-10-13T20:13:07.935Z"
   },
   {
    "duration": 116,
    "start_time": "2022-10-13T20:13:08.156Z"
   },
   {
    "duration": 292,
    "start_time": "2022-10-13T20:13:08.274Z"
   },
   {
    "duration": 11,
    "start_time": "2022-10-13T20:13:08.568Z"
   },
   {
    "duration": 169,
    "start_time": "2022-10-13T20:13:08.581Z"
   },
   {
    "duration": 4,
    "start_time": "2022-10-13T20:13:08.752Z"
   },
   {
    "duration": 145,
    "start_time": "2022-10-13T20:13:08.758Z"
   },
   {
    "duration": 10,
    "start_time": "2022-10-13T20:13:08.908Z"
   },
   {
    "duration": 247,
    "start_time": "2022-10-13T20:13:08.920Z"
   },
   {
    "duration": 171,
    "start_time": "2022-10-13T20:13:09.169Z"
   },
   {
    "duration": 7,
    "start_time": "2022-10-13T20:13:09.342Z"
   },
   {
    "duration": 9,
    "start_time": "2022-10-13T20:13:09.353Z"
   },
   {
    "duration": 20,
    "start_time": "2022-10-13T20:13:09.363Z"
   },
   {
    "duration": 20,
    "start_time": "2022-10-13T20:13:09.402Z"
   },
   {
    "duration": 100,
    "start_time": "2022-10-13T20:13:31.243Z"
   },
   {
    "duration": 304,
    "start_time": "2022-10-13T20:14:05.527Z"
   },
   {
    "duration": 234,
    "start_time": "2022-10-13T20:14:11.027Z"
   },
   {
    "duration": 152,
    "start_time": "2022-10-13T20:14:14.967Z"
   },
   {
    "duration": 255,
    "start_time": "2022-10-13T20:14:30.967Z"
   },
   {
    "duration": 913,
    "start_time": "2022-10-13T20:15:10.430Z"
   },
   {
    "duration": 127,
    "start_time": "2022-10-13T20:15:16.067Z"
   },
   {
    "duration": 127,
    "start_time": "2022-10-13T20:15:25.667Z"
   },
   {
    "duration": 249,
    "start_time": "2022-10-13T20:15:44.115Z"
   },
   {
    "duration": 102,
    "start_time": "2022-10-13T20:15:50.469Z"
   },
   {
    "duration": 227,
    "start_time": "2022-10-13T20:15:59.716Z"
   },
   {
    "duration": 1010,
    "start_time": "2022-10-13T20:16:06.329Z"
   },
   {
    "duration": 23,
    "start_time": "2022-10-13T20:16:07.342Z"
   },
   {
    "duration": 9,
    "start_time": "2022-10-13T20:16:07.366Z"
   },
   {
    "duration": 10,
    "start_time": "2022-10-13T20:16:07.377Z"
   },
   {
    "duration": 14,
    "start_time": "2022-10-13T20:16:07.389Z"
   },
   {
    "duration": 13,
    "start_time": "2022-10-13T20:16:07.407Z"
   },
   {
    "duration": 6,
    "start_time": "2022-10-13T20:16:07.421Z"
   },
   {
    "duration": 9,
    "start_time": "2022-10-13T20:16:07.429Z"
   },
   {
    "duration": 43,
    "start_time": "2022-10-13T20:16:07.440Z"
   },
   {
    "duration": 12,
    "start_time": "2022-10-13T20:16:07.485Z"
   },
   {
    "duration": 28,
    "start_time": "2022-10-13T20:16:07.499Z"
   },
   {
    "duration": 10,
    "start_time": "2022-10-13T20:16:07.529Z"
   },
   {
    "duration": 5,
    "start_time": "2022-10-13T20:16:07.541Z"
   },
   {
    "duration": 267,
    "start_time": "2022-10-13T20:16:07.549Z"
   },
   {
    "duration": 181,
    "start_time": "2022-10-13T20:16:07.818Z"
   },
   {
    "duration": 133,
    "start_time": "2022-10-13T20:16:08.000Z"
   },
   {
    "duration": 214,
    "start_time": "2022-10-13T20:16:08.135Z"
   },
   {
    "duration": 270,
    "start_time": "2022-10-13T20:16:08.350Z"
   },
   {
    "duration": 257,
    "start_time": "2022-10-13T20:16:08.622Z"
   },
   {
    "duration": 19,
    "start_time": "2022-10-13T20:16:08.881Z"
   },
   {
    "duration": 118,
    "start_time": "2022-10-13T20:16:08.907Z"
   },
   {
    "duration": 4,
    "start_time": "2022-10-13T20:16:09.026Z"
   },
   {
    "duration": 124,
    "start_time": "2022-10-13T20:16:09.032Z"
   },
   {
    "duration": 4,
    "start_time": "2022-10-13T20:16:09.157Z"
   },
   {
    "duration": 251,
    "start_time": "2022-10-13T20:16:09.163Z"
   },
   {
    "duration": 167,
    "start_time": "2022-10-13T20:16:09.416Z"
   },
   {
    "duration": 21,
    "start_time": "2022-10-13T20:16:09.585Z"
   },
   {
    "duration": 18,
    "start_time": "2022-10-13T20:16:09.607Z"
   },
   {
    "duration": 18,
    "start_time": "2022-10-13T20:16:09.627Z"
   },
   {
    "duration": 13,
    "start_time": "2022-10-13T20:16:09.647Z"
   },
   {
    "duration": 233,
    "start_time": "2022-10-13T20:16:27.650Z"
   },
   {
    "duration": 207,
    "start_time": "2022-10-13T20:16:37.565Z"
   },
   {
    "duration": 300,
    "start_time": "2022-10-13T20:16:45.416Z"
   },
   {
    "duration": 48,
    "start_time": "2022-10-13T20:17:17.617Z"
   },
   {
    "duration": 121,
    "start_time": "2022-10-13T20:17:26.795Z"
   },
   {
    "duration": 243,
    "start_time": "2022-10-13T20:18:10.816Z"
   },
   {
    "duration": 411,
    "start_time": "2022-10-13T20:19:05.972Z"
   },
   {
    "duration": 285,
    "start_time": "2022-10-13T20:19:36.772Z"
   },
   {
    "duration": 304,
    "start_time": "2022-10-13T20:19:42.592Z"
   },
   {
    "duration": 256,
    "start_time": "2022-10-13T20:19:47.786Z"
   },
   {
    "duration": 607,
    "start_time": "2022-10-13T20:19:58.354Z"
   },
   {
    "duration": 279,
    "start_time": "2022-10-13T20:20:21.660Z"
   },
   {
    "duration": 358,
    "start_time": "2022-10-13T20:20:26.689Z"
   },
   {
    "duration": 274,
    "start_time": "2022-10-13T20:20:31.926Z"
   },
   {
    "duration": 317,
    "start_time": "2022-10-13T20:27:57.356Z"
   },
   {
    "duration": 392,
    "start_time": "2022-10-13T20:28:04.471Z"
   },
   {
    "duration": 258,
    "start_time": "2022-10-13T20:30:07.899Z"
   },
   {
    "duration": 279,
    "start_time": "2022-10-13T20:30:24.318Z"
   },
   {
    "duration": 286,
    "start_time": "2022-10-13T20:30:29.841Z"
   },
   {
    "duration": 344,
    "start_time": "2022-10-13T20:30:34.430Z"
   },
   {
    "duration": 324,
    "start_time": "2022-10-13T20:30:39.326Z"
   },
   {
    "duration": 302,
    "start_time": "2022-10-13T20:30:48.773Z"
   },
   {
    "duration": 321,
    "start_time": "2022-10-13T20:38:49.899Z"
   },
   {
    "duration": 397,
    "start_time": "2022-10-13T20:38:57.421Z"
   },
   {
    "duration": 256,
    "start_time": "2022-10-13T20:39:06.828Z"
   },
   {
    "duration": 277,
    "start_time": "2022-10-13T20:39:12.667Z"
   },
   {
    "duration": 264,
    "start_time": "2022-10-13T20:39:20.756Z"
   },
   {
    "duration": 18,
    "start_time": "2022-10-13T20:40:22.461Z"
   },
   {
    "duration": 19,
    "start_time": "2022-10-13T20:40:34.787Z"
   },
   {
    "duration": 18,
    "start_time": "2022-10-13T20:40:41.545Z"
   },
   {
    "duration": 17,
    "start_time": "2022-10-13T20:40:48.431Z"
   },
   {
    "duration": 16,
    "start_time": "2022-10-13T20:41:15.144Z"
   },
   {
    "duration": 16,
    "start_time": "2022-10-13T20:41:26.171Z"
   },
   {
    "duration": 14,
    "start_time": "2022-10-13T20:41:44.913Z"
   },
   {
    "duration": 12,
    "start_time": "2022-10-13T20:42:07.418Z"
   },
   {
    "duration": 6,
    "start_time": "2022-10-13T20:42:20.806Z"
   },
   {
    "duration": 15,
    "start_time": "2022-10-13T20:42:36.019Z"
   },
   {
    "duration": 16,
    "start_time": "2022-10-13T20:44:19.114Z"
   },
   {
    "duration": 274,
    "start_time": "2022-10-13T20:44:30.663Z"
   },
   {
    "duration": 256,
    "start_time": "2022-10-13T20:44:41.832Z"
   },
   {
    "duration": 267,
    "start_time": "2022-10-13T20:44:48.887Z"
   },
   {
    "duration": 277,
    "start_time": "2022-10-13T20:45:40.349Z"
   },
   {
    "duration": 293,
    "start_time": "2022-10-13T20:45:45.921Z"
   },
   {
    "duration": 262,
    "start_time": "2022-10-13T20:45:50.470Z"
   },
   {
    "duration": 14,
    "start_time": "2022-10-13T20:48:12.346Z"
   },
   {
    "duration": 15,
    "start_time": "2022-10-13T20:48:42.533Z"
   },
   {
    "duration": 256,
    "start_time": "2022-10-13T20:48:54.363Z"
   },
   {
    "duration": 136,
    "start_time": "2022-10-13T20:49:05.073Z"
   },
   {
    "duration": 10,
    "start_time": "2022-10-13T20:49:13.727Z"
   },
   {
    "duration": 132,
    "start_time": "2022-10-13T20:49:25.799Z"
   },
   {
    "duration": 357,
    "start_time": "2022-10-13T20:49:45.162Z"
   },
   {
    "duration": 1095,
    "start_time": "2022-10-13T20:50:17.166Z"
   },
   {
    "duration": 909,
    "start_time": "2022-10-13T20:50:24.114Z"
   },
   {
    "duration": 1326,
    "start_time": "2022-10-13T20:50:39.980Z"
   },
   {
    "duration": 259,
    "start_time": "2022-10-13T20:50:48.970Z"
   },
   {
    "duration": 292,
    "start_time": "2022-10-13T20:50:54.148Z"
   },
   {
    "duration": 275,
    "start_time": "2022-10-13T20:50:58.505Z"
   },
   {
    "duration": 357,
    "start_time": "2022-10-13T20:51:18.772Z"
   },
   {
    "duration": 278,
    "start_time": "2022-10-13T20:52:39.416Z"
   },
   {
    "duration": 399,
    "start_time": "2022-10-13T20:53:20.519Z"
   },
   {
    "duration": 15,
    "start_time": "2022-10-13T20:53:52.813Z"
   },
   {
    "duration": 359,
    "start_time": "2022-10-13T20:54:32.287Z"
   },
   {
    "duration": 363,
    "start_time": "2022-10-13T20:56:09.112Z"
   },
   {
    "duration": 288,
    "start_time": "2022-10-13T20:57:26.171Z"
   },
   {
    "duration": 254,
    "start_time": "2022-10-13T20:57:49.257Z"
   },
   {
    "duration": 231,
    "start_time": "2022-10-13T20:57:53.858Z"
   },
   {
    "duration": 260,
    "start_time": "2022-10-13T20:58:03.811Z"
   },
   {
    "duration": 264,
    "start_time": "2022-10-13T20:58:16.134Z"
   },
   {
    "duration": 20,
    "start_time": "2022-10-13T20:58:22.115Z"
   },
   {
    "duration": 444,
    "start_time": "2022-10-13T20:58:32.173Z"
   },
   {
    "duration": 366,
    "start_time": "2022-10-13T20:58:37.331Z"
   },
   {
    "duration": 384,
    "start_time": "2022-10-13T20:58:46.092Z"
   },
   {
    "duration": 387,
    "start_time": "2022-10-13T20:58:58.284Z"
   },
   {
    "duration": 285,
    "start_time": "2022-10-13T20:59:07.968Z"
   },
   {
    "duration": 489,
    "start_time": "2022-10-13T20:59:16.462Z"
   },
   {
    "duration": 297,
    "start_time": "2022-10-13T20:59:24.988Z"
   },
   {
    "duration": 386,
    "start_time": "2022-10-13T20:59:33.378Z"
   },
   {
    "duration": 46,
    "start_time": "2022-10-14T08:30:08.358Z"
   },
   {
    "duration": 1256,
    "start_time": "2022-10-14T08:30:18.985Z"
   },
   {
    "duration": 86,
    "start_time": "2022-10-14T08:30:20.243Z"
   },
   {
    "duration": 12,
    "start_time": "2022-10-14T08:30:20.330Z"
   },
   {
    "duration": 13,
    "start_time": "2022-10-14T08:30:20.343Z"
   },
   {
    "duration": 7,
    "start_time": "2022-10-14T08:30:20.358Z"
   },
   {
    "duration": 11,
    "start_time": "2022-10-14T08:30:20.367Z"
   },
   {
    "duration": 9,
    "start_time": "2022-10-14T08:30:20.380Z"
   },
   {
    "duration": 10,
    "start_time": "2022-10-14T08:30:20.391Z"
   },
   {
    "duration": 162,
    "start_time": "2022-10-14T08:30:20.402Z"
   },
   {
    "duration": 10,
    "start_time": "2022-10-14T08:30:20.567Z"
   },
   {
    "duration": 10,
    "start_time": "2022-10-14T08:30:20.579Z"
   },
   {
    "duration": 9,
    "start_time": "2022-10-14T08:30:20.590Z"
   },
   {
    "duration": 6,
    "start_time": "2022-10-14T08:30:20.601Z"
   },
   {
    "duration": 266,
    "start_time": "2022-10-14T08:30:20.608Z"
   },
   {
    "duration": 288,
    "start_time": "2022-10-14T08:30:20.876Z"
   },
   {
    "duration": 270,
    "start_time": "2022-10-14T08:30:21.166Z"
   },
   {
    "duration": 432,
    "start_time": "2022-10-14T08:30:21.438Z"
   },
   {
    "duration": 290,
    "start_time": "2022-10-14T08:30:21.872Z"
   },
   {
    "duration": 419,
    "start_time": "2022-10-14T08:30:22.163Z"
   },
   {
    "duration": 16,
    "start_time": "2022-10-14T08:30:22.584Z"
   },
   {
    "duration": 125,
    "start_time": "2022-10-14T08:30:22.602Z"
   },
   {
    "duration": 6,
    "start_time": "2022-10-14T08:30:22.728Z"
   },
   {
    "duration": 166,
    "start_time": "2022-10-14T08:30:22.735Z"
   },
   {
    "duration": 5,
    "start_time": "2022-10-14T08:30:22.902Z"
   },
   {
    "duration": 263,
    "start_time": "2022-10-14T08:30:22.909Z"
   },
   {
    "duration": 144,
    "start_time": "2022-10-14T08:30:23.174Z"
   },
   {
    "duration": 8,
    "start_time": "2022-10-14T08:30:23.320Z"
   },
   {
    "duration": 10,
    "start_time": "2022-10-14T08:30:23.330Z"
   },
   {
    "duration": 20,
    "start_time": "2022-10-14T08:30:23.341Z"
   },
   {
    "duration": 32,
    "start_time": "2022-10-14T08:30:23.363Z"
   },
   {
    "duration": 352,
    "start_time": "2022-10-14T08:30:30.724Z"
   },
   {
    "duration": 351,
    "start_time": "2022-10-14T08:33:10.216Z"
   },
   {
    "duration": 119,
    "start_time": "2022-10-14T08:53:07.815Z"
   },
   {
    "duration": 114,
    "start_time": "2022-10-14T08:54:24.032Z"
   },
   {
    "duration": 7,
    "start_time": "2022-10-14T08:54:52.068Z"
   },
   {
    "duration": 8,
    "start_time": "2022-10-14T08:54:57.060Z"
   },
   {
    "duration": 22,
    "start_time": "2022-10-14T08:54:59.457Z"
   },
   {
    "duration": 14,
    "start_time": "2022-10-14T08:55:01.818Z"
   },
   {
    "duration": 115,
    "start_time": "2022-10-14T08:55:20.566Z"
   },
   {
    "duration": 113,
    "start_time": "2022-10-14T08:55:27.179Z"
   },
   {
    "duration": 98,
    "start_time": "2022-10-14T09:05:04.459Z"
   },
   {
    "duration": 1102,
    "start_time": "2022-10-14T09:05:12.840Z"
   },
   {
    "duration": 35,
    "start_time": "2022-10-14T09:05:13.943Z"
   },
   {
    "duration": 10,
    "start_time": "2022-10-14T09:05:13.980Z"
   },
   {
    "duration": 28,
    "start_time": "2022-10-14T09:05:13.992Z"
   },
   {
    "duration": 10,
    "start_time": "2022-10-14T09:05:14.023Z"
   },
   {
    "duration": 34,
    "start_time": "2022-10-14T09:05:14.035Z"
   },
   {
    "duration": 7,
    "start_time": "2022-10-14T09:05:14.070Z"
   },
   {
    "duration": 10,
    "start_time": "2022-10-14T09:05:14.079Z"
   },
   {
    "duration": 61,
    "start_time": "2022-10-14T09:05:14.090Z"
   },
   {
    "duration": 11,
    "start_time": "2022-10-14T09:05:14.152Z"
   },
   {
    "duration": 14,
    "start_time": "2022-10-14T09:05:14.165Z"
   },
   {
    "duration": 10,
    "start_time": "2022-10-14T09:05:14.180Z"
   },
   {
    "duration": 8,
    "start_time": "2022-10-14T09:05:14.192Z"
   },
   {
    "duration": 278,
    "start_time": "2022-10-14T09:05:14.202Z"
   },
   {
    "duration": 303,
    "start_time": "2022-10-14T09:05:14.481Z"
   },
   {
    "duration": 274,
    "start_time": "2022-10-14T09:05:14.785Z"
   },
   {
    "duration": 399,
    "start_time": "2022-10-14T09:05:15.061Z"
   },
   {
    "duration": 278,
    "start_time": "2022-10-14T09:05:15.462Z"
   },
   {
    "duration": 374,
    "start_time": "2022-10-14T09:05:15.742Z"
   },
   {
    "duration": 93,
    "start_time": "2022-10-14T09:05:16.118Z"
   },
   {
    "duration": 0,
    "start_time": "2022-10-14T09:05:16.212Z"
   },
   {
    "duration": 0,
    "start_time": "2022-10-14T09:05:16.214Z"
   },
   {
    "duration": 0,
    "start_time": "2022-10-14T09:05:16.215Z"
   },
   {
    "duration": 0,
    "start_time": "2022-10-14T09:05:16.217Z"
   },
   {
    "duration": 0,
    "start_time": "2022-10-14T09:05:16.217Z"
   },
   {
    "duration": 0,
    "start_time": "2022-10-14T09:05:16.218Z"
   },
   {
    "duration": 0,
    "start_time": "2022-10-14T09:05:16.220Z"
   },
   {
    "duration": 0,
    "start_time": "2022-10-14T09:05:16.221Z"
   },
   {
    "duration": 0,
    "start_time": "2022-10-14T09:05:16.222Z"
   },
   {
    "duration": 9,
    "start_time": "2022-10-14T09:05:31.743Z"
   },
   {
    "duration": 100,
    "start_time": "2022-10-14T09:05:37.632Z"
   },
   {
    "duration": 4,
    "start_time": "2022-10-14T09:05:37.733Z"
   },
   {
    "duration": 124,
    "start_time": "2022-10-14T09:05:37.738Z"
   },
   {
    "duration": 4,
    "start_time": "2022-10-14T09:05:37.864Z"
   },
   {
    "duration": 282,
    "start_time": "2022-10-14T09:05:37.870Z"
   },
   {
    "duration": 153,
    "start_time": "2022-10-14T09:05:38.153Z"
   },
   {
    "duration": 7,
    "start_time": "2022-10-14T09:05:38.308Z"
   },
   {
    "duration": 11,
    "start_time": "2022-10-14T09:05:38.317Z"
   },
   {
    "duration": 26,
    "start_time": "2022-10-14T09:05:38.330Z"
   },
   {
    "duration": 14,
    "start_time": "2022-10-14T09:05:38.358Z"
   },
   {
    "duration": 106,
    "start_time": "2022-10-14T09:06:07.711Z"
   },
   {
    "duration": 15,
    "start_time": "2022-10-14T10:02:08.878Z"
   },
   {
    "duration": 7,
    "start_time": "2022-10-14T10:03:08.379Z"
   },
   {
    "duration": 7,
    "start_time": "2022-10-14T10:03:09.863Z"
   },
   {
    "duration": 21,
    "start_time": "2022-10-14T10:03:11.084Z"
   },
   {
    "duration": 14,
    "start_time": "2022-10-14T10:03:13.021Z"
   },
   {
    "duration": 9,
    "start_time": "2022-10-14T10:03:20.001Z"
   },
   {
    "duration": 8,
    "start_time": "2022-10-14T10:03:20.765Z"
   },
   {
    "duration": 22,
    "start_time": "2022-10-14T10:03:22.128Z"
   },
   {
    "duration": 14,
    "start_time": "2022-10-14T10:03:23.649Z"
   },
   {
    "duration": 328,
    "start_time": "2022-10-14T11:09:49.609Z"
   },
   {
    "duration": 283,
    "start_time": "2022-10-14T11:47:06.093Z"
   },
   {
    "duration": 252,
    "start_time": "2022-10-14T11:47:19.456Z"
   },
   {
    "duration": 74,
    "start_time": "2022-10-14T11:51:00.779Z"
   },
   {
    "duration": 94,
    "start_time": "2022-10-14T11:51:43.687Z"
   },
   {
    "duration": 271,
    "start_time": "2022-10-14T11:51:56.127Z"
   },
   {
    "duration": 263,
    "start_time": "2022-10-14T11:52:10.108Z"
   },
   {
    "duration": 269,
    "start_time": "2022-10-14T11:52:44.644Z"
   },
   {
    "duration": 193,
    "start_time": "2022-10-14T11:58:41.158Z"
   },
   {
    "duration": 177,
    "start_time": "2022-10-14T11:59:07.256Z"
   },
   {
    "duration": 319,
    "start_time": "2022-10-14T11:59:15.388Z"
   },
   {
    "duration": 1113,
    "start_time": "2022-10-14T12:01:32.933Z"
   },
   {
    "duration": 36,
    "start_time": "2022-10-14T12:01:34.048Z"
   },
   {
    "duration": 11,
    "start_time": "2022-10-14T12:01:34.086Z"
   },
   {
    "duration": 13,
    "start_time": "2022-10-14T12:01:34.099Z"
   },
   {
    "duration": 8,
    "start_time": "2022-10-14T12:01:34.114Z"
   },
   {
    "duration": 12,
    "start_time": "2022-10-14T12:01:34.124Z"
   },
   {
    "duration": 10,
    "start_time": "2022-10-14T12:01:34.138Z"
   },
   {
    "duration": 9,
    "start_time": "2022-10-14T12:01:34.150Z"
   },
   {
    "duration": 60,
    "start_time": "2022-10-14T12:01:34.161Z"
   },
   {
    "duration": 9,
    "start_time": "2022-10-14T12:01:34.222Z"
   },
   {
    "duration": 14,
    "start_time": "2022-10-14T12:01:34.233Z"
   },
   {
    "duration": 16,
    "start_time": "2022-10-14T12:01:34.249Z"
   },
   {
    "duration": 8,
    "start_time": "2022-10-14T12:01:34.267Z"
   },
   {
    "duration": 302,
    "start_time": "2022-10-14T12:01:34.279Z"
   },
   {
    "duration": 347,
    "start_time": "2022-10-14T12:01:34.583Z"
   },
   {
    "duration": 373,
    "start_time": "2022-10-14T12:01:34.933Z"
   },
   {
    "duration": 393,
    "start_time": "2022-10-14T12:01:35.307Z"
   },
   {
    "duration": 298,
    "start_time": "2022-10-14T12:01:35.702Z"
   },
   {
    "duration": 431,
    "start_time": "2022-10-14T12:01:36.002Z"
   },
   {
    "duration": 130,
    "start_time": "2022-10-14T12:01:36.435Z"
   },
   {
    "duration": 4,
    "start_time": "2022-10-14T12:01:36.568Z"
   },
   {
    "duration": 144,
    "start_time": "2022-10-14T12:01:36.574Z"
   },
   {
    "duration": 8,
    "start_time": "2022-10-14T12:01:36.723Z"
   },
   {
    "duration": 324,
    "start_time": "2022-10-14T12:01:36.733Z"
   },
   {
    "duration": 169,
    "start_time": "2022-10-14T12:01:37.059Z"
   },
   {
    "duration": 13,
    "start_time": "2022-10-14T12:01:37.230Z"
   },
   {
    "duration": 8,
    "start_time": "2022-10-14T12:01:37.245Z"
   },
   {
    "duration": 9,
    "start_time": "2022-10-14T12:01:37.255Z"
   },
   {
    "duration": 49,
    "start_time": "2022-10-14T12:01:37.266Z"
   },
   {
    "duration": 19,
    "start_time": "2022-10-14T12:01:37.316Z"
   },
   {
    "duration": 326,
    "start_time": "2022-10-14T12:07:16.377Z"
   },
   {
    "duration": 337,
    "start_time": "2022-10-14T12:12:49.683Z"
   },
   {
    "duration": 10,
    "start_time": "2022-10-14T12:28:47.433Z"
   },
   {
    "duration": 9,
    "start_time": "2022-10-14T12:35:32.478Z"
   },
   {
    "duration": 86,
    "start_time": "2022-10-14T13:15:24.669Z"
   },
   {
    "duration": 1077,
    "start_time": "2022-10-14T13:15:35.285Z"
   },
   {
    "duration": 38,
    "start_time": "2022-10-14T13:15:36.364Z"
   },
   {
    "duration": 10,
    "start_time": "2022-10-14T13:15:36.404Z"
   },
   {
    "duration": 14,
    "start_time": "2022-10-14T13:15:36.416Z"
   },
   {
    "duration": 6,
    "start_time": "2022-10-14T13:15:36.433Z"
   },
   {
    "duration": 18,
    "start_time": "2022-10-14T13:15:36.440Z"
   },
   {
    "duration": 10,
    "start_time": "2022-10-14T13:15:36.459Z"
   },
   {
    "duration": 32,
    "start_time": "2022-10-14T13:15:36.470Z"
   },
   {
    "duration": 69,
    "start_time": "2022-10-14T13:15:36.504Z"
   },
   {
    "duration": 15,
    "start_time": "2022-10-14T13:15:36.575Z"
   },
   {
    "duration": 26,
    "start_time": "2022-10-14T13:15:36.592Z"
   },
   {
    "duration": 25,
    "start_time": "2022-10-14T13:15:36.620Z"
   },
   {
    "duration": 22,
    "start_time": "2022-10-14T13:15:36.647Z"
   },
   {
    "duration": 369,
    "start_time": "2022-10-14T13:15:36.673Z"
   },
   {
    "duration": 353,
    "start_time": "2022-10-14T13:15:37.044Z"
   },
   {
    "duration": 285,
    "start_time": "2022-10-14T13:15:37.399Z"
   },
   {
    "duration": 397,
    "start_time": "2022-10-14T13:15:37.686Z"
   },
   {
    "duration": 299,
    "start_time": "2022-10-14T13:15:38.085Z"
   },
   {
    "duration": 402,
    "start_time": "2022-10-14T13:15:38.386Z"
   },
   {
    "duration": 121,
    "start_time": "2022-10-14T13:15:38.790Z"
   },
   {
    "duration": 4,
    "start_time": "2022-10-14T13:15:38.912Z"
   },
   {
    "duration": 127,
    "start_time": "2022-10-14T13:15:38.918Z"
   },
   {
    "duration": 4,
    "start_time": "2022-10-14T13:15:39.047Z"
   },
   {
    "duration": 270,
    "start_time": "2022-10-14T13:15:39.053Z"
   },
   {
    "duration": 185,
    "start_time": "2022-10-14T13:15:39.325Z"
   },
   {
    "duration": 14,
    "start_time": "2022-10-14T13:15:39.512Z"
   },
   {
    "duration": 11,
    "start_time": "2022-10-14T13:15:39.528Z"
   },
   {
    "duration": 14,
    "start_time": "2022-10-14T13:15:39.540Z"
   },
   {
    "duration": 42,
    "start_time": "2022-10-14T13:15:39.556Z"
   },
   {
    "duration": 15,
    "start_time": "2022-10-14T13:15:39.600Z"
   },
   {
    "duration": 394,
    "start_time": "2022-10-14T14:17:55.174Z"
   },
   {
    "duration": 1075,
    "start_time": "2022-10-14T14:18:09.475Z"
   },
   {
    "duration": 38,
    "start_time": "2022-10-14T14:18:10.554Z"
   },
   {
    "duration": 11,
    "start_time": "2022-10-14T14:18:10.594Z"
   },
   {
    "duration": 9,
    "start_time": "2022-10-14T14:18:10.607Z"
   },
   {
    "duration": 5,
    "start_time": "2022-10-14T14:18:10.618Z"
   },
   {
    "duration": 11,
    "start_time": "2022-10-14T14:18:10.624Z"
   },
   {
    "duration": 6,
    "start_time": "2022-10-14T14:18:10.636Z"
   },
   {
    "duration": 13,
    "start_time": "2022-10-14T14:18:10.643Z"
   },
   {
    "duration": 63,
    "start_time": "2022-10-14T14:18:10.658Z"
   },
   {
    "duration": 10,
    "start_time": "2022-10-14T14:18:10.723Z"
   },
   {
    "duration": 12,
    "start_time": "2022-10-14T14:18:10.734Z"
   },
   {
    "duration": 9,
    "start_time": "2022-10-14T14:18:10.748Z"
   },
   {
    "duration": 6,
    "start_time": "2022-10-14T14:18:10.759Z"
   },
   {
    "duration": 284,
    "start_time": "2022-10-14T14:18:10.766Z"
   },
   {
    "duration": 315,
    "start_time": "2022-10-14T14:18:11.052Z"
   },
   {
    "duration": 311,
    "start_time": "2022-10-14T14:18:11.370Z"
   },
   {
    "duration": 386,
    "start_time": "2022-10-14T14:18:11.683Z"
   },
   {
    "duration": 304,
    "start_time": "2022-10-14T14:18:12.070Z"
   },
   {
    "duration": 400,
    "start_time": "2022-10-14T14:18:12.376Z"
   },
   {
    "duration": 130,
    "start_time": "2022-10-14T14:18:12.778Z"
   },
   {
    "duration": 5,
    "start_time": "2022-10-14T14:18:12.910Z"
   },
   {
    "duration": 135,
    "start_time": "2022-10-14T14:18:12.916Z"
   },
   {
    "duration": 5,
    "start_time": "2022-10-14T14:18:13.054Z"
   },
   {
    "duration": 260,
    "start_time": "2022-10-14T14:18:13.061Z"
   },
   {
    "duration": 154,
    "start_time": "2022-10-14T14:18:13.323Z"
   },
   {
    "duration": 19,
    "start_time": "2022-10-14T14:18:13.479Z"
   },
   {
    "duration": 9,
    "start_time": "2022-10-14T14:18:13.500Z"
   },
   {
    "duration": 14,
    "start_time": "2022-10-14T14:18:13.512Z"
   },
   {
    "duration": 23,
    "start_time": "2022-10-14T14:18:13.528Z"
   },
   {
    "duration": 14,
    "start_time": "2022-10-14T14:18:13.552Z"
   },
   {
    "duration": 344,
    "start_time": "2022-10-14T14:19:30.644Z"
   },
   {
    "duration": 474,
    "start_time": "2022-10-14T14:19:40.392Z"
   },
   {
    "duration": 395,
    "start_time": "2022-10-14T14:19:48.578Z"
   },
   {
    "duration": 382,
    "start_time": "2022-10-14T14:19:56.692Z"
   },
   {
    "duration": 1172,
    "start_time": "2022-10-14T14:21:42.936Z"
   },
   {
    "duration": 35,
    "start_time": "2022-10-14T14:21:44.110Z"
   },
   {
    "duration": 10,
    "start_time": "2022-10-14T14:21:44.147Z"
   },
   {
    "duration": 11,
    "start_time": "2022-10-14T14:21:44.159Z"
   },
   {
    "duration": 7,
    "start_time": "2022-10-14T14:21:44.171Z"
   },
   {
    "duration": 10,
    "start_time": "2022-10-14T14:21:44.180Z"
   },
   {
    "duration": 8,
    "start_time": "2022-10-14T14:21:44.192Z"
   },
   {
    "duration": 13,
    "start_time": "2022-10-14T14:21:44.201Z"
   },
   {
    "duration": 63,
    "start_time": "2022-10-14T14:21:44.216Z"
   },
   {
    "duration": 10,
    "start_time": "2022-10-14T14:21:44.282Z"
   },
   {
    "duration": 18,
    "start_time": "2022-10-14T14:21:44.293Z"
   },
   {
    "duration": 14,
    "start_time": "2022-10-14T14:21:44.312Z"
   },
   {
    "duration": 13,
    "start_time": "2022-10-14T14:21:44.328Z"
   },
   {
    "duration": 264,
    "start_time": "2022-10-14T14:21:44.342Z"
   },
   {
    "duration": 301,
    "start_time": "2022-10-14T14:21:44.608Z"
   },
   {
    "duration": 282,
    "start_time": "2022-10-14T14:21:44.910Z"
   },
   {
    "duration": 384,
    "start_time": "2022-10-14T14:21:45.195Z"
   },
   {
    "duration": 276,
    "start_time": "2022-10-14T14:21:45.581Z"
   },
   {
    "duration": 407,
    "start_time": "2022-10-14T14:21:45.859Z"
   },
   {
    "duration": 108,
    "start_time": "2022-10-14T14:21:46.268Z"
   },
   {
    "duration": 4,
    "start_time": "2022-10-14T14:21:46.378Z"
   },
   {
    "duration": 142,
    "start_time": "2022-10-14T14:21:46.383Z"
   },
   {
    "duration": 4,
    "start_time": "2022-10-14T14:21:46.527Z"
   },
   {
    "duration": 311,
    "start_time": "2022-10-14T14:21:46.533Z"
   },
   {
    "duration": 157,
    "start_time": "2022-10-14T14:21:46.846Z"
   },
   {
    "duration": 11,
    "start_time": "2022-10-14T14:21:47.005Z"
   },
   {
    "duration": 11,
    "start_time": "2022-10-14T14:21:47.017Z"
   },
   {
    "duration": 8,
    "start_time": "2022-10-14T14:21:47.032Z"
   },
   {
    "duration": 24,
    "start_time": "2022-10-14T14:21:47.041Z"
   },
   {
    "duration": 39,
    "start_time": "2022-10-14T14:21:47.067Z"
   },
   {
    "duration": 15,
    "start_time": "2022-10-14T14:30:14.778Z"
   },
   {
    "duration": 16,
    "start_time": "2022-10-14T14:53:06.549Z"
   },
   {
    "duration": 1104,
    "start_time": "2022-10-14T14:53:15.709Z"
   },
   {
    "duration": 39,
    "start_time": "2022-10-14T14:53:16.815Z"
   },
   {
    "duration": 12,
    "start_time": "2022-10-14T14:53:16.856Z"
   },
   {
    "duration": 16,
    "start_time": "2022-10-14T14:53:16.871Z"
   },
   {
    "duration": 7,
    "start_time": "2022-10-14T14:53:16.889Z"
   },
   {
    "duration": 11,
    "start_time": "2022-10-14T14:53:16.898Z"
   },
   {
    "duration": 6,
    "start_time": "2022-10-14T14:53:16.911Z"
   },
   {
    "duration": 13,
    "start_time": "2022-10-14T14:53:16.918Z"
   },
   {
    "duration": 60,
    "start_time": "2022-10-14T14:53:16.933Z"
   },
   {
    "duration": 13,
    "start_time": "2022-10-14T14:53:16.995Z"
   },
   {
    "duration": 15,
    "start_time": "2022-10-14T14:53:17.010Z"
   },
   {
    "duration": 12,
    "start_time": "2022-10-14T14:53:17.027Z"
   },
   {
    "duration": 12,
    "start_time": "2022-10-14T14:53:17.040Z"
   },
   {
    "duration": 291,
    "start_time": "2022-10-14T14:53:17.054Z"
   },
   {
    "duration": 339,
    "start_time": "2022-10-14T14:53:17.347Z"
   },
   {
    "duration": 278,
    "start_time": "2022-10-14T14:53:17.694Z"
   },
   {
    "duration": 399,
    "start_time": "2022-10-14T14:53:17.974Z"
   },
   {
    "duration": 279,
    "start_time": "2022-10-14T14:53:18.374Z"
   },
   {
    "duration": 409,
    "start_time": "2022-10-14T14:53:18.654Z"
   },
   {
    "duration": 119,
    "start_time": "2022-10-14T14:53:19.065Z"
   },
   {
    "duration": 8,
    "start_time": "2022-10-14T14:53:19.186Z"
   },
   {
    "duration": 134,
    "start_time": "2022-10-14T14:53:19.196Z"
   },
   {
    "duration": 4,
    "start_time": "2022-10-14T14:53:19.332Z"
   },
   {
    "duration": 266,
    "start_time": "2022-10-14T14:53:19.338Z"
   },
   {
    "duration": 167,
    "start_time": "2022-10-14T14:53:19.605Z"
   },
   {
    "duration": 10,
    "start_time": "2022-10-14T14:53:19.774Z"
   },
   {
    "duration": 11,
    "start_time": "2022-10-14T14:53:19.794Z"
   },
   {
    "duration": 7,
    "start_time": "2022-10-14T14:53:19.808Z"
   },
   {
    "duration": 21,
    "start_time": "2022-10-14T14:53:19.817Z"
   },
   {
    "duration": 12,
    "start_time": "2022-10-14T14:53:19.840Z"
   },
   {
    "duration": 1086,
    "start_time": "2022-10-14T15:56:47.502Z"
   },
   {
    "duration": 23,
    "start_time": "2022-10-14T15:56:48.590Z"
   },
   {
    "duration": 10,
    "start_time": "2022-10-14T15:56:48.615Z"
   },
   {
    "duration": 10,
    "start_time": "2022-10-14T15:56:48.627Z"
   },
   {
    "duration": 24,
    "start_time": "2022-10-14T15:56:48.639Z"
   },
   {
    "duration": 25,
    "start_time": "2022-10-14T15:56:48.665Z"
   },
   {
    "duration": 9,
    "start_time": "2022-10-14T15:56:48.691Z"
   },
   {
    "duration": 19,
    "start_time": "2022-10-14T15:56:48.702Z"
   },
   {
    "duration": 38,
    "start_time": "2022-10-14T15:56:48.722Z"
   },
   {
    "duration": 10,
    "start_time": "2022-10-14T15:56:48.762Z"
   },
   {
    "duration": 48,
    "start_time": "2022-10-14T15:56:48.773Z"
   },
   {
    "duration": 28,
    "start_time": "2022-10-14T15:56:48.823Z"
   },
   {
    "duration": 42,
    "start_time": "2022-10-14T15:56:48.853Z"
   },
   {
    "duration": 267,
    "start_time": "2022-10-14T15:56:48.897Z"
   },
   {
    "duration": 285,
    "start_time": "2022-10-14T15:56:49.165Z"
   },
   {
    "duration": 287,
    "start_time": "2022-10-14T15:56:49.451Z"
   },
   {
    "duration": 363,
    "start_time": "2022-10-14T15:56:49.740Z"
   },
   {
    "duration": 273,
    "start_time": "2022-10-14T15:56:50.108Z"
   },
   {
    "duration": 402,
    "start_time": "2022-10-14T15:56:50.383Z"
   },
   {
    "duration": 113,
    "start_time": "2022-10-14T15:56:50.787Z"
   },
   {
    "duration": 9,
    "start_time": "2022-10-14T15:56:50.902Z"
   },
   {
    "duration": 138,
    "start_time": "2022-10-14T15:56:50.912Z"
   },
   {
    "duration": 3,
    "start_time": "2022-10-14T15:56:51.052Z"
   },
   {
    "duration": 256,
    "start_time": "2022-10-14T15:56:51.057Z"
   },
   {
    "duration": 165,
    "start_time": "2022-10-14T15:56:51.315Z"
   },
   {
    "duration": 9,
    "start_time": "2022-10-14T15:56:51.481Z"
   },
   {
    "duration": 44,
    "start_time": "2022-10-14T15:56:51.491Z"
   },
   {
    "duration": 24,
    "start_time": "2022-10-14T15:56:51.538Z"
   },
   {
    "duration": 40,
    "start_time": "2022-10-14T15:56:51.564Z"
   },
   {
    "duration": 14,
    "start_time": "2022-10-14T15:56:51.606Z"
   },
   {
    "duration": 75,
    "start_time": "2022-10-18T10:02:50.423Z"
   },
   {
    "duration": 58,
    "start_time": "2022-10-18T10:03:06.475Z"
   },
   {
    "duration": 1200,
    "start_time": "2022-10-18T10:03:13.349Z"
   },
   {
    "duration": 90,
    "start_time": "2022-10-18T10:03:14.551Z"
   },
   {
    "duration": 13,
    "start_time": "2022-10-18T10:03:14.642Z"
   },
   {
    "duration": 11,
    "start_time": "2022-10-18T10:03:14.656Z"
   },
   {
    "duration": 5,
    "start_time": "2022-10-18T10:03:14.669Z"
   },
   {
    "duration": 12,
    "start_time": "2022-10-18T10:03:14.675Z"
   },
   {
    "duration": 6,
    "start_time": "2022-10-18T10:03:14.688Z"
   },
   {
    "duration": 13,
    "start_time": "2022-10-18T10:03:14.695Z"
   },
   {
    "duration": 165,
    "start_time": "2022-10-18T10:03:14.710Z"
   },
   {
    "duration": 10,
    "start_time": "2022-10-18T10:03:14.877Z"
   },
   {
    "duration": 12,
    "start_time": "2022-10-18T10:03:14.889Z"
   },
   {
    "duration": 11,
    "start_time": "2022-10-18T10:03:14.903Z"
   },
   {
    "duration": 8,
    "start_time": "2022-10-18T10:03:14.916Z"
   },
   {
    "duration": 300,
    "start_time": "2022-10-18T10:03:14.926Z"
   },
   {
    "duration": 322,
    "start_time": "2022-10-18T10:03:15.227Z"
   },
   {
    "duration": 297,
    "start_time": "2022-10-18T10:03:15.550Z"
   },
   {
    "duration": 450,
    "start_time": "2022-10-18T10:03:15.849Z"
   },
   {
    "duration": 315,
    "start_time": "2022-10-18T10:03:16.302Z"
   },
   {
    "duration": 421,
    "start_time": "2022-10-18T10:03:16.630Z"
   },
   {
    "duration": 119,
    "start_time": "2022-10-18T10:03:17.053Z"
   },
   {
    "duration": 5,
    "start_time": "2022-10-18T10:03:17.174Z"
   },
   {
    "duration": 132,
    "start_time": "2022-10-18T10:03:17.194Z"
   },
   {
    "duration": 5,
    "start_time": "2022-10-18T10:03:17.328Z"
   },
   {
    "duration": 292,
    "start_time": "2022-10-18T10:03:17.335Z"
   },
   {
    "duration": 182,
    "start_time": "2022-10-18T10:03:17.629Z"
   },
   {
    "duration": 11,
    "start_time": "2022-10-18T10:03:17.813Z"
   },
   {
    "duration": 12,
    "start_time": "2022-10-18T10:03:17.825Z"
   },
   {
    "duration": 16,
    "start_time": "2022-10-18T10:03:17.839Z"
   },
   {
    "duration": 24,
    "start_time": "2022-10-18T10:03:17.857Z"
   },
   {
    "duration": 15,
    "start_time": "2022-10-18T10:03:17.895Z"
   },
   {
    "duration": 33,
    "start_time": "2022-10-18T10:03:27.087Z"
   },
   {
    "duration": 32,
    "start_time": "2022-10-18T10:03:59.987Z"
   },
   {
    "duration": 73,
    "start_time": "2022-10-18T10:40:06.843Z"
   },
   {
    "duration": 11,
    "start_time": "2022-10-18T10:40:27.176Z"
   },
   {
    "duration": 3419,
    "start_time": "2022-10-18T10:41:09.151Z"
   },
   {
    "duration": 10,
    "start_time": "2022-10-18T10:41:49.463Z"
   },
   {
    "duration": 1086,
    "start_time": "2022-10-18T10:42:07.156Z"
   },
   {
    "duration": 38,
    "start_time": "2022-10-18T10:42:08.244Z"
   },
   {
    "duration": 11,
    "start_time": "2022-10-18T10:42:08.286Z"
   },
   {
    "duration": 7,
    "start_time": "2022-10-18T10:42:08.299Z"
   },
   {
    "duration": 5,
    "start_time": "2022-10-18T10:42:08.308Z"
   },
   {
    "duration": 11,
    "start_time": "2022-10-18T10:42:08.315Z"
   },
   {
    "duration": 6,
    "start_time": "2022-10-18T10:42:08.328Z"
   },
   {
    "duration": 13,
    "start_time": "2022-10-18T10:42:08.336Z"
   },
   {
    "duration": 12,
    "start_time": "2022-10-18T10:42:08.351Z"
   },
   {
    "duration": 219,
    "start_time": "2022-10-18T10:42:08.364Z"
   },
   {
    "duration": 58,
    "start_time": "2022-10-18T10:42:08.584Z"
   },
   {
    "duration": 11,
    "start_time": "2022-10-18T10:42:08.644Z"
   },
   {
    "duration": 11,
    "start_time": "2022-10-18T10:42:08.656Z"
   },
   {
    "duration": 9,
    "start_time": "2022-10-18T10:42:08.669Z"
   },
   {
    "duration": 7,
    "start_time": "2022-10-18T10:42:08.679Z"
   },
   {
    "duration": 265,
    "start_time": "2022-10-18T10:42:08.687Z"
   },
   {
    "duration": 301,
    "start_time": "2022-10-18T10:42:08.953Z"
   },
   {
    "duration": 287,
    "start_time": "2022-10-18T10:42:09.256Z"
   },
   {
    "duration": 379,
    "start_time": "2022-10-18T10:42:09.545Z"
   },
   {
    "duration": 311,
    "start_time": "2022-10-18T10:42:09.926Z"
   },
   {
    "duration": 388,
    "start_time": "2022-10-18T10:42:10.238Z"
   },
   {
    "duration": 150,
    "start_time": "2022-10-18T10:42:10.628Z"
   },
   {
    "duration": 15,
    "start_time": "2022-10-18T10:42:10.780Z"
   },
   {
    "duration": 129,
    "start_time": "2022-10-18T10:42:10.797Z"
   },
   {
    "duration": 4,
    "start_time": "2022-10-18T10:42:10.928Z"
   },
   {
    "duration": 369,
    "start_time": "2022-10-18T10:42:10.934Z"
   },
   {
    "duration": 188,
    "start_time": "2022-10-18T10:42:11.307Z"
   },
   {
    "duration": 11,
    "start_time": "2022-10-18T10:42:11.496Z"
   },
   {
    "duration": 10,
    "start_time": "2022-10-18T10:42:11.509Z"
   },
   {
    "duration": 9,
    "start_time": "2022-10-18T10:42:11.522Z"
   },
   {
    "duration": 22,
    "start_time": "2022-10-18T10:42:11.533Z"
   },
   {
    "duration": 48,
    "start_time": "2022-10-18T10:42:11.557Z"
   },
   {
    "duration": 203,
    "start_time": "2022-10-18T10:42:42.693Z"
   },
   {
    "duration": 198,
    "start_time": "2022-10-18T10:42:52.546Z"
   },
   {
    "duration": 194,
    "start_time": "2022-10-18T10:43:08.147Z"
   },
   {
    "duration": 240,
    "start_time": "2022-10-18T10:43:16.769Z"
   },
   {
    "duration": 212,
    "start_time": "2022-10-18T10:43:21.856Z"
   },
   {
    "duration": 201,
    "start_time": "2022-10-18T10:43:27.706Z"
   },
   {
    "duration": 202,
    "start_time": "2022-10-18T10:44:09.094Z"
   },
   {
    "duration": 218,
    "start_time": "2022-10-18T10:44:18.125Z"
   },
   {
    "duration": 186,
    "start_time": "2022-10-18T10:44:25.231Z"
   },
   {
    "duration": 181,
    "start_time": "2022-10-18T10:44:29.174Z"
   },
   {
    "duration": 262,
    "start_time": "2022-10-18T10:44:34.458Z"
   },
   {
    "duration": 174,
    "start_time": "2022-10-18T10:44:40.536Z"
   },
   {
    "duration": 69,
    "start_time": "2022-10-18T11:18:47.146Z"
   },
   {
    "duration": 133,
    "start_time": "2022-10-18T11:19:00.522Z"
   },
   {
    "duration": 93,
    "start_time": "2022-10-18T11:19:03.545Z"
   },
   {
    "duration": 88,
    "start_time": "2022-10-18T11:19:06.192Z"
   },
   {
    "duration": 31,
    "start_time": "2022-10-18T11:20:43.355Z"
   },
   {
    "duration": 33,
    "start_time": "2022-10-18T11:21:29.868Z"
   },
   {
    "duration": 4,
    "start_time": "2022-10-18T11:22:19.567Z"
   },
   {
    "duration": 5,
    "start_time": "2022-10-18T11:22:23.103Z"
   },
   {
    "duration": 28,
    "start_time": "2022-10-18T11:22:26.279Z"
   },
   {
    "duration": 30,
    "start_time": "2022-10-18T11:22:30.402Z"
   },
   {
    "duration": 29,
    "start_time": "2022-10-18T11:22:54.131Z"
   },
   {
    "duration": 28,
    "start_time": "2022-10-18T11:23:04.186Z"
   },
   {
    "duration": 7,
    "start_time": "2022-10-18T11:23:12.025Z"
   },
   {
    "duration": 9,
    "start_time": "2022-10-18T11:23:15.478Z"
   },
   {
    "duration": 8,
    "start_time": "2022-10-18T11:23:31.823Z"
   },
   {
    "duration": 12,
    "start_time": "2022-10-18T11:23:48.058Z"
   },
   {
    "duration": 10,
    "start_time": "2022-10-18T11:24:05.550Z"
   },
   {
    "duration": 9,
    "start_time": "2022-10-18T11:24:25.211Z"
   },
   {
    "duration": 96,
    "start_time": "2022-10-18T11:24:50.870Z"
   },
   {
    "duration": 41,
    "start_time": "2022-10-18T11:24:57.051Z"
   },
   {
    "duration": 12,
    "start_time": "2022-10-18T11:25:24.996Z"
   },
   {
    "duration": 14,
    "start_time": "2022-10-18T11:25:32.222Z"
   },
   {
    "duration": 16,
    "start_time": "2022-10-18T11:25:36.979Z"
   },
   {
    "duration": 14,
    "start_time": "2022-10-18T11:25:47.496Z"
   },
   {
    "duration": 15,
    "start_time": "2022-10-18T11:25:52.575Z"
   },
   {
    "duration": 15,
    "start_time": "2022-10-18T11:26:12.762Z"
   },
   {
    "duration": 15,
    "start_time": "2022-10-18T11:26:20.622Z"
   },
   {
    "duration": 70,
    "start_time": "2022-10-18T11:26:35.023Z"
   },
   {
    "duration": 11,
    "start_time": "2022-10-18T11:26:40.292Z"
   },
   {
    "duration": 17,
    "start_time": "2022-10-18T11:26:45.303Z"
   },
   {
    "duration": 9,
    "start_time": "2022-10-18T11:26:52.870Z"
   },
   {
    "duration": 14,
    "start_time": "2022-10-18T11:27:04.818Z"
   },
   {
    "duration": 14,
    "start_time": "2022-10-18T11:27:12.618Z"
   },
   {
    "duration": 18,
    "start_time": "2022-10-18T11:27:16.720Z"
   },
   {
    "duration": 10,
    "start_time": "2022-10-18T11:27:21.336Z"
   },
   {
    "duration": 14,
    "start_time": "2022-10-18T11:28:16.291Z"
   },
   {
    "duration": 19,
    "start_time": "2022-10-18T11:28:30.790Z"
   },
   {
    "duration": 11,
    "start_time": "2022-10-18T11:28:33.220Z"
   },
   {
    "duration": 40,
    "start_time": "2022-10-18T11:35:05.465Z"
   },
   {
    "duration": 5,
    "start_time": "2022-10-18T11:35:57.921Z"
   },
   {
    "duration": 8,
    "start_time": "2022-10-18T11:36:11.980Z"
   },
   {
    "duration": 5,
    "start_time": "2022-10-18T11:36:20.982Z"
   },
   {
    "duration": 5,
    "start_time": "2022-10-18T11:37:13.315Z"
   },
   {
    "duration": 8,
    "start_time": "2022-10-18T11:38:22.478Z"
   },
   {
    "duration": 8,
    "start_time": "2022-10-18T11:38:31.545Z"
   },
   {
    "duration": 5,
    "start_time": "2022-10-18T11:38:37.232Z"
   },
   {
    "duration": 13,
    "start_time": "2022-10-18T11:39:20.433Z"
   },
   {
    "duration": 7,
    "start_time": "2022-10-18T11:39:26.347Z"
   },
   {
    "duration": 10,
    "start_time": "2022-10-18T11:39:37.481Z"
   },
   {
    "duration": 6,
    "start_time": "2022-10-18T11:39:54.580Z"
   },
   {
    "duration": 14,
    "start_time": "2022-10-18T11:40:20.995Z"
   },
   {
    "duration": 6,
    "start_time": "2022-10-18T11:40:26.467Z"
   },
   {
    "duration": 10,
    "start_time": "2022-10-18T11:40:35.023Z"
   },
   {
    "duration": 13,
    "start_time": "2022-10-18T11:40:40.171Z"
   },
   {
    "duration": 9,
    "start_time": "2022-10-18T11:40:45.034Z"
   },
   {
    "duration": 5,
    "start_time": "2022-10-18T11:40:56.345Z"
   },
   {
    "duration": 5,
    "start_time": "2022-10-18T11:41:03.632Z"
   },
   {
    "duration": 4,
    "start_time": "2022-10-18T11:41:43.994Z"
   },
   {
    "duration": 4,
    "start_time": "2022-10-18T11:41:58.652Z"
   },
   {
    "duration": 9,
    "start_time": "2022-10-18T11:42:12.250Z"
   },
   {
    "duration": 4,
    "start_time": "2022-10-18T11:42:24.194Z"
   },
   {
    "duration": 13,
    "start_time": "2022-10-18T11:42:30.576Z"
   },
   {
    "duration": 5,
    "start_time": "2022-10-18T11:42:42.646Z"
   },
   {
    "duration": 5,
    "start_time": "2022-10-18T11:42:46.527Z"
   },
   {
    "duration": 4,
    "start_time": "2022-10-18T11:42:50.394Z"
   },
   {
    "duration": 7,
    "start_time": "2022-10-18T11:44:07.270Z"
   },
   {
    "duration": 6,
    "start_time": "2022-10-18T11:44:28.223Z"
   },
   {
    "duration": 5,
    "start_time": "2022-10-18T11:44:42.252Z"
   },
   {
    "duration": 4,
    "start_time": "2022-10-18T11:44:46.175Z"
   },
   {
    "duration": 4,
    "start_time": "2022-10-18T11:45:02.543Z"
   },
   {
    "duration": 11,
    "start_time": "2022-10-18T11:45:37.777Z"
   },
   {
    "duration": 11,
    "start_time": "2022-10-18T11:45:48.742Z"
   },
   {
    "duration": 5,
    "start_time": "2022-10-18T11:46:17.212Z"
   },
   {
    "duration": 4,
    "start_time": "2022-10-18T11:46:18.838Z"
   },
   {
    "duration": 13,
    "start_time": "2022-10-18T11:54:50.042Z"
   },
   {
    "duration": 1805,
    "start_time": "2022-10-18T11:55:02.513Z"
   },
   {
    "duration": 1118,
    "start_time": "2022-10-18T11:55:28.928Z"
   },
   {
    "duration": 1151,
    "start_time": "2022-10-18T11:55:35.970Z"
   },
   {
    "duration": 36,
    "start_time": "2022-10-18T11:55:37.123Z"
   },
   {
    "duration": 10,
    "start_time": "2022-10-18T11:55:37.161Z"
   },
   {
    "duration": 8,
    "start_time": "2022-10-18T11:55:37.172Z"
   },
   {
    "duration": 5,
    "start_time": "2022-10-18T11:55:37.182Z"
   },
   {
    "duration": 12,
    "start_time": "2022-10-18T11:55:37.189Z"
   },
   {
    "duration": 9,
    "start_time": "2022-10-18T11:55:37.202Z"
   },
   {
    "duration": 25,
    "start_time": "2022-10-18T11:55:37.213Z"
   },
   {
    "duration": 195,
    "start_time": "2022-10-18T11:55:37.240Z"
   },
   {
    "duration": 59,
    "start_time": "2022-10-18T11:55:37.437Z"
   },
   {
    "duration": 10,
    "start_time": "2022-10-18T11:55:37.497Z"
   },
   {
    "duration": 13,
    "start_time": "2022-10-18T11:55:37.509Z"
   },
   {
    "duration": 9,
    "start_time": "2022-10-18T11:55:37.523Z"
   },
   {
    "duration": 7,
    "start_time": "2022-10-18T11:55:37.535Z"
   },
   {
    "duration": 10,
    "start_time": "2022-10-18T11:55:37.543Z"
   },
   {
    "duration": 9,
    "start_time": "2022-10-18T11:55:37.555Z"
   },
   {
    "duration": 10,
    "start_time": "2022-10-18T11:55:37.566Z"
   },
   {
    "duration": 7,
    "start_time": "2022-10-18T11:55:37.595Z"
   },
   {
    "duration": 6,
    "start_time": "2022-10-18T11:55:37.604Z"
   },
   {
    "duration": 1675,
    "start_time": "2022-10-18T11:55:37.611Z"
   },
   {
    "duration": 0,
    "start_time": "2022-10-18T11:55:39.288Z"
   },
   {
    "duration": 0,
    "start_time": "2022-10-18T11:55:39.289Z"
   },
   {
    "duration": 0,
    "start_time": "2022-10-18T11:55:39.290Z"
   },
   {
    "duration": 0,
    "start_time": "2022-10-18T11:55:39.291Z"
   },
   {
    "duration": 0,
    "start_time": "2022-10-18T11:55:39.292Z"
   },
   {
    "duration": 0,
    "start_time": "2022-10-18T11:55:39.294Z"
   },
   {
    "duration": 0,
    "start_time": "2022-10-18T11:55:39.294Z"
   },
   {
    "duration": 0,
    "start_time": "2022-10-18T11:55:39.295Z"
   },
   {
    "duration": 0,
    "start_time": "2022-10-18T11:55:39.296Z"
   },
   {
    "duration": 0,
    "start_time": "2022-10-18T11:55:39.297Z"
   },
   {
    "duration": 0,
    "start_time": "2022-10-18T11:55:39.298Z"
   },
   {
    "duration": 0,
    "start_time": "2022-10-18T11:55:39.300Z"
   },
   {
    "duration": 0,
    "start_time": "2022-10-18T11:55:39.301Z"
   },
   {
    "duration": 0,
    "start_time": "2022-10-18T11:55:39.302Z"
   },
   {
    "duration": 0,
    "start_time": "2022-10-18T11:55:39.303Z"
   },
   {
    "duration": 0,
    "start_time": "2022-10-18T11:55:39.304Z"
   },
   {
    "duration": 0,
    "start_time": "2022-10-18T11:55:39.305Z"
   },
   {
    "duration": 0,
    "start_time": "2022-10-18T11:55:39.306Z"
   },
   {
    "duration": 11,
    "start_time": "2022-10-18T11:56:35.180Z"
   },
   {
    "duration": 1217,
    "start_time": "2022-10-18T11:56:38.483Z"
   },
   {
    "duration": 8,
    "start_time": "2022-10-18T11:57:18.534Z"
   },
   {
    "duration": 6,
    "start_time": "2022-10-18T11:57:23.323Z"
   },
   {
    "duration": 8,
    "start_time": "2022-10-18T11:57:26.692Z"
   },
   {
    "duration": 1112,
    "start_time": "2022-10-18T11:57:32.302Z"
   },
   {
    "duration": 36,
    "start_time": "2022-10-18T11:57:33.417Z"
   },
   {
    "duration": 10,
    "start_time": "2022-10-18T11:57:33.454Z"
   },
   {
    "duration": 11,
    "start_time": "2022-10-18T11:57:33.466Z"
   },
   {
    "duration": 7,
    "start_time": "2022-10-18T11:57:33.479Z"
   },
   {
    "duration": 13,
    "start_time": "2022-10-18T11:57:33.487Z"
   },
   {
    "duration": 5,
    "start_time": "2022-10-18T11:57:33.502Z"
   },
   {
    "duration": 17,
    "start_time": "2022-10-18T11:57:33.509Z"
   },
   {
    "duration": 198,
    "start_time": "2022-10-18T11:57:33.527Z"
   },
   {
    "duration": 61,
    "start_time": "2022-10-18T11:57:33.726Z"
   },
   {
    "duration": 11,
    "start_time": "2022-10-18T11:57:33.789Z"
   },
   {
    "duration": 11,
    "start_time": "2022-10-18T11:57:33.802Z"
   },
   {
    "duration": 9,
    "start_time": "2022-10-18T11:57:33.814Z"
   },
   {
    "duration": 6,
    "start_time": "2022-10-18T11:57:33.826Z"
   },
   {
    "duration": 7,
    "start_time": "2022-10-18T11:57:33.834Z"
   },
   {
    "duration": 6,
    "start_time": "2022-10-18T11:57:33.842Z"
   },
   {
    "duration": 5,
    "start_time": "2022-10-18T11:57:33.850Z"
   },
   {
    "duration": 39,
    "start_time": "2022-10-18T11:57:33.857Z"
   },
   {
    "duration": 4,
    "start_time": "2022-10-18T11:57:33.898Z"
   },
   {
    "duration": 9,
    "start_time": "2022-10-18T11:57:33.904Z"
   },
   {
    "duration": 133,
    "start_time": "2022-10-18T11:57:33.915Z"
   },
   {
    "duration": 0,
    "start_time": "2022-10-18T11:57:34.051Z"
   },
   {
    "duration": 0,
    "start_time": "2022-10-18T11:57:34.052Z"
   },
   {
    "duration": 0,
    "start_time": "2022-10-18T11:57:34.054Z"
   },
   {
    "duration": 1,
    "start_time": "2022-10-18T11:57:34.055Z"
   },
   {
    "duration": 0,
    "start_time": "2022-10-18T11:57:34.057Z"
   },
   {
    "duration": 0,
    "start_time": "2022-10-18T11:57:34.058Z"
   },
   {
    "duration": 0,
    "start_time": "2022-10-18T11:57:34.060Z"
   },
   {
    "duration": 0,
    "start_time": "2022-10-18T11:57:34.061Z"
   },
   {
    "duration": 0,
    "start_time": "2022-10-18T11:57:34.062Z"
   },
   {
    "duration": 0,
    "start_time": "2022-10-18T11:57:34.064Z"
   },
   {
    "duration": 0,
    "start_time": "2022-10-18T11:57:34.065Z"
   },
   {
    "duration": 0,
    "start_time": "2022-10-18T11:57:34.094Z"
   },
   {
    "duration": 0,
    "start_time": "2022-10-18T11:57:34.095Z"
   },
   {
    "duration": 0,
    "start_time": "2022-10-18T11:57:34.097Z"
   },
   {
    "duration": 0,
    "start_time": "2022-10-18T11:57:34.098Z"
   },
   {
    "duration": 0,
    "start_time": "2022-10-18T11:57:34.100Z"
   },
   {
    "duration": 0,
    "start_time": "2022-10-18T11:57:34.101Z"
   },
   {
    "duration": 5,
    "start_time": "2022-10-18T11:57:43.350Z"
   },
   {
    "duration": 1118,
    "start_time": "2022-10-18T11:57:56.043Z"
   },
   {
    "duration": 38,
    "start_time": "2022-10-18T11:57:57.163Z"
   },
   {
    "duration": 11,
    "start_time": "2022-10-18T11:57:57.203Z"
   },
   {
    "duration": 12,
    "start_time": "2022-10-18T11:57:57.216Z"
   },
   {
    "duration": 8,
    "start_time": "2022-10-18T11:57:57.229Z"
   },
   {
    "duration": 12,
    "start_time": "2022-10-18T11:57:57.238Z"
   },
   {
    "duration": 7,
    "start_time": "2022-10-18T11:57:57.252Z"
   },
   {
    "duration": 14,
    "start_time": "2022-10-18T11:57:57.260Z"
   },
   {
    "duration": 228,
    "start_time": "2022-10-18T11:57:57.276Z"
   },
   {
    "duration": 62,
    "start_time": "2022-10-18T11:57:57.507Z"
   },
   {
    "duration": 11,
    "start_time": "2022-10-18T11:57:57.570Z"
   },
   {
    "duration": 15,
    "start_time": "2022-10-18T11:57:57.583Z"
   },
   {
    "duration": 16,
    "start_time": "2022-10-18T11:57:57.600Z"
   },
   {
    "duration": 7,
    "start_time": "2022-10-18T11:57:57.618Z"
   },
   {
    "duration": 7,
    "start_time": "2022-10-18T11:57:57.627Z"
   },
   {
    "duration": 7,
    "start_time": "2022-10-18T11:57:57.636Z"
   },
   {
    "duration": 6,
    "start_time": "2022-10-18T11:57:57.645Z"
   },
   {
    "duration": 7,
    "start_time": "2022-10-18T11:57:57.653Z"
   },
   {
    "duration": 7,
    "start_time": "2022-10-18T11:57:57.661Z"
   },
   {
    "duration": 30,
    "start_time": "2022-10-18T11:57:57.669Z"
   },
   {
    "duration": 17,
    "start_time": "2022-10-18T11:57:57.701Z"
   },
   {
    "duration": 267,
    "start_time": "2022-10-18T11:57:57.719Z"
   },
   {
    "duration": 313,
    "start_time": "2022-10-18T11:57:57.988Z"
   },
   {
    "duration": 291,
    "start_time": "2022-10-18T11:57:58.303Z"
   },
   {
    "duration": 384,
    "start_time": "2022-10-18T11:57:58.596Z"
   },
   {
    "duration": 321,
    "start_time": "2022-10-18T11:57:58.982Z"
   },
   {
    "duration": 418,
    "start_time": "2022-10-18T11:57:59.305Z"
   },
   {
    "duration": 121,
    "start_time": "2022-10-18T11:57:59.726Z"
   },
   {
    "duration": 4,
    "start_time": "2022-10-18T11:57:59.848Z"
   },
   {
    "duration": 135,
    "start_time": "2022-10-18T11:57:59.853Z"
   },
   {
    "duration": 7,
    "start_time": "2022-10-18T11:57:59.989Z"
   },
   {
    "duration": 377,
    "start_time": "2022-10-18T11:57:59.998Z"
   },
   {
    "duration": 163,
    "start_time": "2022-10-18T11:58:00.376Z"
   },
   {
    "duration": 13,
    "start_time": "2022-10-18T11:58:00.541Z"
   },
   {
    "duration": 48,
    "start_time": "2022-10-18T11:58:00.555Z"
   },
   {
    "duration": 15,
    "start_time": "2022-10-18T11:58:00.605Z"
   },
   {
    "duration": 43,
    "start_time": "2022-10-18T11:58:00.622Z"
   },
   {
    "duration": 26,
    "start_time": "2022-10-18T11:58:00.667Z"
   },
   {
    "duration": 303,
    "start_time": "2022-10-18T11:59:54.652Z"
   },
   {
    "duration": 301,
    "start_time": "2022-10-18T12:00:34.961Z"
   },
   {
    "duration": 410,
    "start_time": "2022-10-18T12:01:03.963Z"
   },
   {
    "duration": 310,
    "start_time": "2022-10-18T12:02:21.890Z"
   },
   {
    "duration": 419,
    "start_time": "2022-10-18T12:04:02.253Z"
   },
   {
    "duration": 391,
    "start_time": "2022-10-18T12:04:45.335Z"
   },
   {
    "duration": 429,
    "start_time": "2022-10-18T12:04:56.995Z"
   },
   {
    "duration": 463,
    "start_time": "2022-10-18T12:05:24.372Z"
   },
   {
    "duration": 431,
    "start_time": "2022-10-18T12:05:37.866Z"
   },
   {
    "duration": 189,
    "start_time": "2022-10-18T12:07:55.193Z"
   },
   {
    "duration": 171,
    "start_time": "2022-10-18T12:08:01.153Z"
   },
   {
    "duration": 151,
    "start_time": "2022-10-18T12:08:19.102Z"
   },
   {
    "duration": 159,
    "start_time": "2022-10-18T12:08:28.165Z"
   },
   {
    "duration": 16,
    "start_time": "2022-10-18T12:09:00.057Z"
   },
   {
    "duration": 11,
    "start_time": "2022-10-18T12:11:01.629Z"
   },
   {
    "duration": 4,
    "start_time": "2022-10-18T12:11:14.523Z"
   },
   {
    "duration": 1173,
    "start_time": "2022-10-18T12:11:18.982Z"
   },
   {
    "duration": 1034,
    "start_time": "2022-10-18T12:12:13.449Z"
   },
   {
    "duration": 22,
    "start_time": "2022-10-18T12:13:45.297Z"
   },
   {
    "duration": 5,
    "start_time": "2022-10-18T12:14:43.486Z"
   },
   {
    "duration": 4,
    "start_time": "2022-10-18T12:15:14.892Z"
   },
   {
    "duration": 4,
    "start_time": "2022-10-18T12:15:39.990Z"
   },
   {
    "duration": 103,
    "start_time": "2022-10-18T12:16:15.279Z"
   },
   {
    "duration": 892,
    "start_time": "2022-10-18T12:16:26.989Z"
   },
   {
    "duration": 12,
    "start_time": "2022-10-18T12:17:04.330Z"
   },
   {
    "duration": 6,
    "start_time": "2022-10-18T12:42:02.474Z"
   },
   {
    "duration": 6,
    "start_time": "2022-10-18T12:42:06.315Z"
   },
   {
    "duration": 404,
    "start_time": "2022-10-18T12:47:32.328Z"
   },
   {
    "duration": 1117,
    "start_time": "2022-10-18T12:52:03.969Z"
   },
   {
    "duration": 36,
    "start_time": "2022-10-18T12:52:05.088Z"
   },
   {
    "duration": 11,
    "start_time": "2022-10-18T12:52:05.126Z"
   },
   {
    "duration": 11,
    "start_time": "2022-10-18T12:52:05.139Z"
   },
   {
    "duration": 8,
    "start_time": "2022-10-18T12:52:05.152Z"
   },
   {
    "duration": 10,
    "start_time": "2022-10-18T12:52:05.162Z"
   },
   {
    "duration": 6,
    "start_time": "2022-10-18T12:52:05.174Z"
   },
   {
    "duration": 19,
    "start_time": "2022-10-18T12:52:05.181Z"
   },
   {
    "duration": 206,
    "start_time": "2022-10-18T12:52:05.202Z"
   },
   {
    "duration": 58,
    "start_time": "2022-10-18T12:52:05.410Z"
   },
   {
    "duration": 11,
    "start_time": "2022-10-18T12:52:05.469Z"
   },
   {
    "duration": 12,
    "start_time": "2022-10-18T12:52:05.481Z"
   },
   {
    "duration": 9,
    "start_time": "2022-10-18T12:52:05.495Z"
   },
   {
    "duration": 6,
    "start_time": "2022-10-18T12:52:05.507Z"
   },
   {
    "duration": 5,
    "start_time": "2022-10-18T12:52:05.514Z"
   },
   {
    "duration": 5,
    "start_time": "2022-10-18T12:52:05.521Z"
   },
   {
    "duration": 5,
    "start_time": "2022-10-18T12:52:05.528Z"
   },
   {
    "duration": 5,
    "start_time": "2022-10-18T12:52:05.534Z"
   },
   {
    "duration": 14,
    "start_time": "2022-10-18T12:52:05.541Z"
   },
   {
    "duration": 14,
    "start_time": "2022-10-18T12:52:05.556Z"
   },
   {
    "duration": 23,
    "start_time": "2022-10-18T12:52:05.572Z"
   },
   {
    "duration": 280,
    "start_time": "2022-10-18T12:52:05.597Z"
   },
   {
    "duration": 315,
    "start_time": "2022-10-18T12:52:05.879Z"
   },
   {
    "duration": 324,
    "start_time": "2022-10-18T12:52:06.195Z"
   },
   {
    "duration": 440,
    "start_time": "2022-10-18T12:52:06.521Z"
   },
   {
    "duration": 349,
    "start_time": "2022-10-18T12:52:06.963Z"
   },
   {
    "duration": 412,
    "start_time": "2022-10-18T12:52:07.313Z"
   },
   {
    "duration": 136,
    "start_time": "2022-10-18T12:52:07.727Z"
   },
   {
    "duration": 4,
    "start_time": "2022-10-18T12:52:07.865Z"
   },
   {
    "duration": 138,
    "start_time": "2022-10-18T12:52:07.870Z"
   },
   {
    "duration": 4,
    "start_time": "2022-10-18T12:52:08.010Z"
   },
   {
    "duration": 365,
    "start_time": "2022-10-18T12:52:08.015Z"
   },
   {
    "duration": 173,
    "start_time": "2022-10-18T12:52:08.382Z"
   },
   {
    "duration": 11,
    "start_time": "2022-10-18T12:52:08.557Z"
   },
   {
    "duration": 26,
    "start_time": "2022-10-18T12:52:08.569Z"
   },
   {
    "duration": 10,
    "start_time": "2022-10-18T12:52:08.597Z"
   },
   {
    "duration": 28,
    "start_time": "2022-10-18T12:52:08.609Z"
   },
   {
    "duration": 13,
    "start_time": "2022-10-18T12:52:08.639Z"
   },
   {
    "duration": 10,
    "start_time": "2022-10-18T12:54:49.493Z"
   },
   {
    "duration": 1111,
    "start_time": "2022-10-18T12:55:31.183Z"
   },
   {
    "duration": 39,
    "start_time": "2022-10-18T12:55:32.296Z"
   },
   {
    "duration": 10,
    "start_time": "2022-10-18T12:55:32.337Z"
   },
   {
    "duration": 32,
    "start_time": "2022-10-18T12:55:32.349Z"
   },
   {
    "duration": 37,
    "start_time": "2022-10-18T12:55:32.383Z"
   },
   {
    "duration": 11,
    "start_time": "2022-10-18T12:55:32.422Z"
   },
   {
    "duration": 5,
    "start_time": "2022-10-18T12:55:32.434Z"
   },
   {
    "duration": 12,
    "start_time": "2022-10-18T12:55:32.441Z"
   },
   {
    "duration": 212,
    "start_time": "2022-10-18T12:55:32.455Z"
   },
   {
    "duration": 63,
    "start_time": "2022-10-18T12:55:32.668Z"
   },
   {
    "duration": 10,
    "start_time": "2022-10-18T12:55:32.732Z"
   },
   {
    "duration": 13,
    "start_time": "2022-10-18T12:55:32.744Z"
   },
   {
    "duration": 13,
    "start_time": "2022-10-18T12:55:32.758Z"
   },
   {
    "duration": 8,
    "start_time": "2022-10-18T12:55:32.775Z"
   },
   {
    "duration": 11,
    "start_time": "2022-10-18T12:55:32.784Z"
   },
   {
    "duration": 6,
    "start_time": "2022-10-18T12:55:32.796Z"
   },
   {
    "duration": 8,
    "start_time": "2022-10-18T12:55:32.804Z"
   },
   {
    "duration": 7,
    "start_time": "2022-10-18T12:55:32.813Z"
   },
   {
    "duration": 7,
    "start_time": "2022-10-18T12:55:32.821Z"
   },
   {
    "duration": 8,
    "start_time": "2022-10-18T12:55:32.830Z"
   },
   {
    "duration": 7,
    "start_time": "2022-10-18T12:55:32.840Z"
   },
   {
    "duration": 279,
    "start_time": "2022-10-18T12:55:32.848Z"
   },
   {
    "duration": 327,
    "start_time": "2022-10-18T12:55:33.129Z"
   },
   {
    "duration": 344,
    "start_time": "2022-10-18T12:55:33.458Z"
   },
   {
    "duration": 407,
    "start_time": "2022-10-18T12:55:33.804Z"
   },
   {
    "duration": 344,
    "start_time": "2022-10-18T12:55:34.213Z"
   },
   {
    "duration": 466,
    "start_time": "2022-10-18T12:55:34.559Z"
   },
   {
    "duration": 141,
    "start_time": "2022-10-18T12:55:35.027Z"
   },
   {
    "duration": 5,
    "start_time": "2022-10-18T12:55:35.170Z"
   },
   {
    "duration": 138,
    "start_time": "2022-10-18T12:55:35.177Z"
   },
   {
    "duration": 5,
    "start_time": "2022-10-18T12:55:35.317Z"
   },
   {
    "duration": 364,
    "start_time": "2022-10-18T12:55:35.324Z"
   },
   {
    "duration": 151,
    "start_time": "2022-10-18T12:55:35.690Z"
   },
   {
    "duration": 11,
    "start_time": "2022-10-18T12:55:35.842Z"
   },
   {
    "duration": 9,
    "start_time": "2022-10-18T12:55:35.854Z"
   },
   {
    "duration": 33,
    "start_time": "2022-10-18T12:55:35.864Z"
   },
   {
    "duration": 21,
    "start_time": "2022-10-18T12:55:35.899Z"
   },
   {
    "duration": 14,
    "start_time": "2022-10-18T12:55:35.921Z"
   },
   {
    "duration": 1087,
    "start_time": "2022-10-18T12:55:51.747Z"
   },
   {
    "duration": 37,
    "start_time": "2022-10-18T12:55:52.836Z"
   },
   {
    "duration": 10,
    "start_time": "2022-10-18T12:55:52.874Z"
   },
   {
    "duration": 9,
    "start_time": "2022-10-18T12:55:52.887Z"
   },
   {
    "duration": 11,
    "start_time": "2022-10-18T12:55:52.897Z"
   },
   {
    "duration": 14,
    "start_time": "2022-10-18T12:55:52.910Z"
   },
   {
    "duration": 8,
    "start_time": "2022-10-18T12:55:52.925Z"
   },
   {
    "duration": 26,
    "start_time": "2022-10-18T12:55:52.934Z"
   },
   {
    "duration": 210,
    "start_time": "2022-10-18T12:55:52.961Z"
   },
   {
    "duration": 60,
    "start_time": "2022-10-18T12:55:53.174Z"
   },
   {
    "duration": 11,
    "start_time": "2022-10-18T12:55:53.236Z"
   },
   {
    "duration": 19,
    "start_time": "2022-10-18T12:55:53.249Z"
   },
   {
    "duration": 24,
    "start_time": "2022-10-18T12:55:53.270Z"
   },
   {
    "duration": 18,
    "start_time": "2022-10-18T12:55:53.296Z"
   },
   {
    "duration": 13,
    "start_time": "2022-10-18T12:55:53.315Z"
   },
   {
    "duration": 15,
    "start_time": "2022-10-18T12:55:53.330Z"
   },
   {
    "duration": 10,
    "start_time": "2022-10-18T12:55:53.347Z"
   },
   {
    "duration": 8,
    "start_time": "2022-10-18T12:55:53.359Z"
   },
   {
    "duration": 14,
    "start_time": "2022-10-18T12:55:53.368Z"
   },
   {
    "duration": 16,
    "start_time": "2022-10-18T12:55:53.384Z"
   },
   {
    "duration": 16,
    "start_time": "2022-10-18T12:55:53.402Z"
   },
   {
    "duration": 264,
    "start_time": "2022-10-18T12:55:53.419Z"
   },
   {
    "duration": 314,
    "start_time": "2022-10-18T12:55:53.685Z"
   },
   {
    "duration": 332,
    "start_time": "2022-10-18T12:55:54.000Z"
   },
   {
    "duration": 400,
    "start_time": "2022-10-18T12:55:54.335Z"
   },
   {
    "duration": 342,
    "start_time": "2022-10-18T12:55:54.737Z"
   },
   {
    "duration": 449,
    "start_time": "2022-10-18T12:55:55.081Z"
   },
   {
    "duration": 136,
    "start_time": "2022-10-18T12:55:55.533Z"
   },
   {
    "duration": 4,
    "start_time": "2022-10-18T12:55:55.671Z"
   },
   {
    "duration": 138,
    "start_time": "2022-10-18T12:55:55.676Z"
   },
   {
    "duration": 4,
    "start_time": "2022-10-18T12:55:55.815Z"
   },
   {
    "duration": 379,
    "start_time": "2022-10-18T12:55:55.821Z"
   },
   {
    "duration": 170,
    "start_time": "2022-10-18T12:55:56.201Z"
   },
   {
    "duration": 11,
    "start_time": "2022-10-18T12:55:56.373Z"
   },
   {
    "duration": 10,
    "start_time": "2022-10-18T12:55:56.394Z"
   },
   {
    "duration": 10,
    "start_time": "2022-10-18T12:55:56.406Z"
   },
   {
    "duration": 26,
    "start_time": "2022-10-18T12:55:56.418Z"
   },
   {
    "duration": 15,
    "start_time": "2022-10-18T12:55:56.445Z"
   },
   {
    "duration": 1241,
    "start_time": "2022-10-18T13:00:56.532Z"
   },
   {
    "duration": 39,
    "start_time": "2022-10-18T13:00:57.775Z"
   },
   {
    "duration": 12,
    "start_time": "2022-10-18T13:00:57.816Z"
   },
   {
    "duration": 17,
    "start_time": "2022-10-18T13:00:57.830Z"
   },
   {
    "duration": 6,
    "start_time": "2022-10-18T13:00:57.849Z"
   },
   {
    "duration": 15,
    "start_time": "2022-10-18T13:00:57.857Z"
   },
   {
    "duration": 10,
    "start_time": "2022-10-18T13:00:57.874Z"
   },
   {
    "duration": 21,
    "start_time": "2022-10-18T13:00:57.887Z"
   },
   {
    "duration": 242,
    "start_time": "2022-10-18T13:00:57.910Z"
   },
   {
    "duration": 65,
    "start_time": "2022-10-18T13:00:58.154Z"
   },
   {
    "duration": 10,
    "start_time": "2022-10-18T13:00:58.221Z"
   },
   {
    "duration": 13,
    "start_time": "2022-10-18T13:00:58.233Z"
   },
   {
    "duration": 10,
    "start_time": "2022-10-18T13:00:58.247Z"
   },
   {
    "duration": 8,
    "start_time": "2022-10-18T13:00:58.260Z"
   },
   {
    "duration": 7,
    "start_time": "2022-10-18T13:00:58.270Z"
   },
   {
    "duration": 17,
    "start_time": "2022-10-18T13:00:58.278Z"
   },
   {
    "duration": 15,
    "start_time": "2022-10-18T13:00:58.297Z"
   },
   {
    "duration": 17,
    "start_time": "2022-10-18T13:00:58.314Z"
   },
   {
    "duration": 7,
    "start_time": "2022-10-18T13:00:58.333Z"
   },
   {
    "duration": 9,
    "start_time": "2022-10-18T13:00:58.341Z"
   },
   {
    "duration": 8,
    "start_time": "2022-10-18T13:00:58.351Z"
   },
   {
    "duration": 286,
    "start_time": "2022-10-18T13:00:58.361Z"
   },
   {
    "duration": 314,
    "start_time": "2022-10-18T13:00:58.648Z"
   },
   {
    "duration": 324,
    "start_time": "2022-10-18T13:00:58.964Z"
   },
   {
    "duration": 423,
    "start_time": "2022-10-18T13:00:59.290Z"
   },
   {
    "duration": 347,
    "start_time": "2022-10-18T13:00:59.715Z"
   },
   {
    "duration": 472,
    "start_time": "2022-10-18T13:01:00.064Z"
   },
   {
    "duration": 139,
    "start_time": "2022-10-18T13:01:00.538Z"
   },
   {
    "duration": 4,
    "start_time": "2022-10-18T13:01:00.679Z"
   },
   {
    "duration": 148,
    "start_time": "2022-10-18T13:01:00.694Z"
   },
   {
    "duration": 6,
    "start_time": "2022-10-18T13:01:00.843Z"
   },
   {
    "duration": 388,
    "start_time": "2022-10-18T13:01:00.851Z"
   },
   {
    "duration": 181,
    "start_time": "2022-10-18T13:01:01.241Z"
   },
   {
    "duration": 13,
    "start_time": "2022-10-18T13:01:01.424Z"
   },
   {
    "duration": 20,
    "start_time": "2022-10-18T13:01:01.439Z"
   },
   {
    "duration": 16,
    "start_time": "2022-10-18T13:01:01.462Z"
   },
   {
    "duration": 47,
    "start_time": "2022-10-18T13:01:01.480Z"
   },
   {
    "duration": 16,
    "start_time": "2022-10-18T13:01:01.530Z"
   },
   {
    "duration": 1410,
    "start_time": "2022-10-18T13:25:41.411Z"
   },
   {
    "duration": 49,
    "start_time": "2022-10-18T13:25:42.823Z"
   },
   {
    "duration": 12,
    "start_time": "2022-10-18T13:25:42.874Z"
   },
   {
    "duration": 19,
    "start_time": "2022-10-18T13:25:42.888Z"
   },
   {
    "duration": 7,
    "start_time": "2022-10-18T13:25:42.909Z"
   },
   {
    "duration": 11,
    "start_time": "2022-10-18T13:25:42.918Z"
   },
   {
    "duration": 7,
    "start_time": "2022-10-18T13:25:42.931Z"
   },
   {
    "duration": 20,
    "start_time": "2022-10-18T13:25:42.940Z"
   },
   {
    "duration": 207,
    "start_time": "2022-10-18T13:25:42.962Z"
   },
   {
    "duration": 90,
    "start_time": "2022-10-18T13:25:43.171Z"
   },
   {
    "duration": 11,
    "start_time": "2022-10-18T13:25:43.262Z"
   },
   {
    "duration": 14,
    "start_time": "2022-10-18T13:25:43.274Z"
   },
   {
    "duration": 11,
    "start_time": "2022-10-18T13:25:43.290Z"
   },
   {
    "duration": 22,
    "start_time": "2022-10-18T13:25:43.303Z"
   },
   {
    "duration": 15,
    "start_time": "2022-10-18T13:25:43.326Z"
   },
   {
    "duration": 9,
    "start_time": "2022-10-18T13:25:43.343Z"
   },
   {
    "duration": 8,
    "start_time": "2022-10-18T13:25:43.354Z"
   },
   {
    "duration": 14,
    "start_time": "2022-10-18T13:25:43.364Z"
   },
   {
    "duration": 5,
    "start_time": "2022-10-18T13:25:43.421Z"
   },
   {
    "duration": 11,
    "start_time": "2022-10-18T13:25:43.428Z"
   },
   {
    "duration": 10,
    "start_time": "2022-10-18T13:25:43.441Z"
   },
   {
    "duration": 291,
    "start_time": "2022-10-18T13:25:43.453Z"
   },
   {
    "duration": 323,
    "start_time": "2022-10-18T13:25:43.745Z"
   },
   {
    "duration": 319,
    "start_time": "2022-10-18T13:25:44.070Z"
   },
   {
    "duration": 476,
    "start_time": "2022-10-18T13:25:44.391Z"
   },
   {
    "duration": 327,
    "start_time": "2022-10-18T13:25:44.869Z"
   },
   {
    "duration": 447,
    "start_time": "2022-10-18T13:25:45.198Z"
   },
   {
    "duration": 146,
    "start_time": "2022-10-18T13:25:45.649Z"
   },
   {
    "duration": 4,
    "start_time": "2022-10-18T13:25:45.797Z"
   },
   {
    "duration": 148,
    "start_time": "2022-10-18T13:25:45.803Z"
   },
   {
    "duration": 5,
    "start_time": "2022-10-18T13:25:45.952Z"
   },
   {
    "duration": 337,
    "start_time": "2022-10-18T13:25:45.959Z"
   },
   {
    "duration": 181,
    "start_time": "2022-10-18T13:25:46.298Z"
   },
   {
    "duration": 12,
    "start_time": "2022-10-18T13:25:46.482Z"
   },
   {
    "duration": 30,
    "start_time": "2022-10-18T13:25:46.496Z"
   },
   {
    "duration": 15,
    "start_time": "2022-10-18T13:25:46.527Z"
   },
   {
    "duration": 64,
    "start_time": "2022-10-18T13:25:46.544Z"
   },
   {
    "duration": 43,
    "start_time": "2022-10-18T13:25:46.611Z"
   },
   {
    "duration": 5,
    "start_time": "2022-10-18T13:26:30.952Z"
   },
   {
    "duration": 4,
    "start_time": "2022-10-18T13:27:01.247Z"
   },
   {
    "duration": 1463,
    "start_time": "2023-01-11T15:54:30.576Z"
   },
   {
    "duration": 112,
    "start_time": "2023-01-11T15:54:32.042Z"
   },
   {
    "duration": 13,
    "start_time": "2023-01-11T15:54:32.156Z"
   },
   {
    "duration": 8,
    "start_time": "2023-01-11T15:54:32.170Z"
   },
   {
    "duration": 6,
    "start_time": "2023-01-11T15:54:32.180Z"
   },
   {
    "duration": 15,
    "start_time": "2023-01-11T15:54:32.188Z"
   },
   {
    "duration": 11,
    "start_time": "2023-01-11T15:54:32.205Z"
   },
   {
    "duration": 34,
    "start_time": "2023-01-11T15:54:32.218Z"
   },
   {
    "duration": 233,
    "start_time": "2023-01-11T15:54:32.254Z"
   },
   {
    "duration": 170,
    "start_time": "2023-01-11T15:54:32.489Z"
   },
   {
    "duration": 13,
    "start_time": "2023-01-11T15:54:32.661Z"
   },
   {
    "duration": 22,
    "start_time": "2023-01-11T15:54:32.675Z"
   },
   {
    "duration": 14,
    "start_time": "2023-01-11T15:54:32.699Z"
   },
   {
    "duration": 8,
    "start_time": "2023-01-11T15:54:32.716Z"
   },
   {
    "duration": 19,
    "start_time": "2023-01-11T15:54:32.726Z"
   },
   {
    "duration": 14,
    "start_time": "2023-01-11T15:54:32.748Z"
   },
   {
    "duration": 9,
    "start_time": "2023-01-11T15:54:32.764Z"
   },
   {
    "duration": 10,
    "start_time": "2023-01-11T15:54:32.775Z"
   },
   {
    "duration": 10,
    "start_time": "2023-01-11T15:54:32.787Z"
   },
   {
    "duration": 38,
    "start_time": "2023-01-11T15:54:32.799Z"
   },
   {
    "duration": 10,
    "start_time": "2023-01-11T15:54:32.839Z"
   },
   {
    "duration": 14,
    "start_time": "2023-01-11T15:54:32.851Z"
   },
   {
    "duration": 322,
    "start_time": "2023-01-11T15:54:32.867Z"
   },
   {
    "duration": 339,
    "start_time": "2023-01-11T15:54:33.191Z"
   },
   {
    "duration": 376,
    "start_time": "2023-01-11T15:54:33.532Z"
   },
   {
    "duration": 493,
    "start_time": "2023-01-11T15:54:33.910Z"
   },
   {
    "duration": 377,
    "start_time": "2023-01-11T15:54:34.405Z"
   },
   {
    "duration": 520,
    "start_time": "2023-01-11T15:54:34.784Z"
   },
   {
    "duration": 172,
    "start_time": "2023-01-11T15:54:35.306Z"
   },
   {
    "duration": 6,
    "start_time": "2023-01-11T15:54:35.480Z"
   },
   {
    "duration": 181,
    "start_time": "2023-01-11T15:54:35.487Z"
   },
   {
    "duration": 5,
    "start_time": "2023-01-11T15:54:35.672Z"
   },
   {
    "duration": 435,
    "start_time": "2023-01-11T15:54:35.680Z"
   },
   {
    "duration": 209,
    "start_time": "2023-01-11T15:54:36.117Z"
   },
   {
    "duration": 24,
    "start_time": "2023-01-11T15:54:36.328Z"
   },
   {
    "duration": 18,
    "start_time": "2023-01-11T15:54:36.355Z"
   },
   {
    "duration": 12,
    "start_time": "2023-01-11T15:54:36.374Z"
   },
   {
    "duration": 45,
    "start_time": "2023-01-11T15:54:36.388Z"
   },
   {
    "duration": 27,
    "start_time": "2023-01-11T15:54:36.435Z"
   },
   {
    "duration": 1405,
    "start_time": "2023-01-25T07:50:03.562Z"
   },
   {
    "duration": 73,
    "start_time": "2023-01-25T07:50:04.969Z"
   },
   {
    "duration": 14,
    "start_time": "2023-01-25T07:50:05.044Z"
   },
   {
    "duration": 46,
    "start_time": "2023-01-25T07:50:05.060Z"
   },
   {
    "duration": 26,
    "start_time": "2023-01-25T07:50:05.108Z"
   },
   {
    "duration": 30,
    "start_time": "2023-01-25T07:50:05.136Z"
   },
   {
    "duration": 44,
    "start_time": "2023-01-25T07:50:05.168Z"
   },
   {
    "duration": 41,
    "start_time": "2023-01-25T07:50:05.214Z"
   },
   {
    "duration": 227,
    "start_time": "2023-01-25T07:50:05.257Z"
   },
   {
    "duration": 142,
    "start_time": "2023-01-25T07:50:05.487Z"
   },
   {
    "duration": 12,
    "start_time": "2023-01-25T07:50:05.631Z"
   },
   {
    "duration": 32,
    "start_time": "2023-01-25T07:50:05.645Z"
   },
   {
    "duration": 33,
    "start_time": "2023-01-25T07:50:05.679Z"
   },
   {
    "duration": 36,
    "start_time": "2023-01-25T07:50:05.714Z"
   },
   {
    "duration": 30,
    "start_time": "2023-01-25T07:50:05.752Z"
   },
   {
    "duration": 34,
    "start_time": "2023-01-25T07:50:05.784Z"
   },
   {
    "duration": 49,
    "start_time": "2023-01-25T07:50:05.820Z"
   },
   {
    "duration": 27,
    "start_time": "2023-01-25T07:50:05.871Z"
   },
   {
    "duration": 14,
    "start_time": "2023-01-25T07:50:05.900Z"
   },
   {
    "duration": 14,
    "start_time": "2023-01-25T07:50:05.916Z"
   },
   {
    "duration": 14,
    "start_time": "2023-01-25T07:50:05.932Z"
   },
   {
    "duration": 20,
    "start_time": "2023-01-25T07:50:05.948Z"
   },
   {
    "duration": 329,
    "start_time": "2023-01-25T07:50:05.970Z"
   },
   {
    "duration": 349,
    "start_time": "2023-01-25T07:50:06.301Z"
   },
   {
    "duration": 356,
    "start_time": "2023-01-25T07:50:06.653Z"
   },
   {
    "duration": 464,
    "start_time": "2023-01-25T07:50:07.010Z"
   },
   {
    "duration": 353,
    "start_time": "2023-01-25T07:50:07.476Z"
   },
   {
    "duration": 479,
    "start_time": "2023-01-25T07:50:07.833Z"
   },
   {
    "duration": 171,
    "start_time": "2023-01-25T07:50:08.313Z"
   },
   {
    "duration": 5,
    "start_time": "2023-01-25T07:50:08.486Z"
   },
   {
    "duration": 149,
    "start_time": "2023-01-25T07:50:08.492Z"
   },
   {
    "duration": 5,
    "start_time": "2023-01-25T07:50:08.644Z"
   },
   {
    "duration": 370,
    "start_time": "2023-01-25T07:50:08.651Z"
   },
   {
    "duration": 169,
    "start_time": "2023-01-25T07:50:09.023Z"
   },
   {
    "duration": 13,
    "start_time": "2023-01-25T07:50:09.194Z"
   },
   {
    "duration": 10,
    "start_time": "2023-01-25T07:50:09.209Z"
   },
   {
    "duration": 9,
    "start_time": "2023-01-25T07:50:09.221Z"
   },
   {
    "duration": 60,
    "start_time": "2023-01-25T07:50:09.232Z"
   },
   {
    "duration": 16,
    "start_time": "2023-01-25T07:50:09.294Z"
   },
   {
    "duration": 10,
    "start_time": "2023-01-25T11:06:23.798Z"
   },
   {
    "duration": 6,
    "start_time": "2023-01-25T11:07:07.247Z"
   }
  ],
  "kernelspec": {
   "display_name": "Python 3 (ipykernel)",
   "language": "python",
   "name": "python3"
  },
  "language_info": {
   "codemirror_mode": {
    "name": "ipython",
    "version": 3
   },
   "file_extension": ".py",
   "mimetype": "text/x-python",
   "name": "python",
   "nbconvert_exporter": "python",
   "pygments_lexer": "ipython3",
   "version": "3.9.5"
  },
  "toc": {
   "base_numbering": 1,
   "nav_menu": {},
   "number_sections": true,
   "sideBar": true,
   "skip_h1_title": true,
   "title_cell": "Table of Contents",
   "title_sidebar": "Contents",
   "toc_cell": false,
   "toc_position": {
    "height": "calc(100% - 180px)",
    "left": "10px",
    "top": "150px",
    "width": "178.969px"
   },
   "toc_section_display": true,
   "toc_window_display": false
  }
 },
 "nbformat": 4,
 "nbformat_minor": 2
}
